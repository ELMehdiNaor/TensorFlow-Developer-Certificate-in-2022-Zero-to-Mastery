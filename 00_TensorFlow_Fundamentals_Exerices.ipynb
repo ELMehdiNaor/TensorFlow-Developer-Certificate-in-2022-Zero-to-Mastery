{
  "nbformat": 4,
  "nbformat_minor": 0,
  "metadata": {
    "colab": {
      "name": "00_TensorFlow_Fundamentals_Exerices.ipynb",
      "provenance": [],
      "collapsed_sections": [],
      "authorship_tag": "ABX9TyNlrAimX91+Wc8nUDGFsHQD",
      "include_colab_link": true
    },
    "kernelspec": {
      "name": "python3",
      "display_name": "Python 3"
    },
    "language_info": {
      "name": "python"
    }
  },
  "cells": [
    {
      "cell_type": "markdown",
      "metadata": {
        "id": "view-in-github",
        "colab_type": "text"
      },
      "source": [
        "<a href=\"https://colab.research.google.com/github/ELMehdiNaor/TensorFlow-Developer-Certificate-in-2022-Zero-to-Mastery/blob/main/00_TensorFlow_Fundamentals_Exerices.ipynb\" target=\"_parent\"><img src=\"https://colab.research.google.com/assets/colab-badge.svg\" alt=\"Open In Colab\"/></a>"
      ]
    },
    {
      "cell_type": "code",
      "source": [
        "# Import the necessary Packages: \n",
        "import tensorflow as tf \n",
        "print(tf.__version__)"
      ],
      "metadata": {
        "colab": {
          "base_uri": "https://localhost:8080/"
        },
        "id": "JroDb4DlzI3F",
        "outputId": "f70abd49-fa6f-4442-bb5b-21bcffbd82f4"
      },
      "execution_count": 1,
      "outputs": [
        {
          "output_type": "stream",
          "name": "stdout",
          "text": [
            "2.8.0\n"
          ]
        }
      ]
    },
    {
      "cell_type": "markdown",
      "source": [
        "#Exercise"
      ],
      "metadata": {
        "id": "Lc6A7nOfzbbM"
      }
    },
    {
      "cell_type": "markdown",
      "source": [
        "🛠 00 TensorFlow Fundamentals Exercises:\n",
        "\n",
        "* 1.Create a **vector**, **scalar**, **matrix** and **tensor** with values of your choosing using @tf.constant()\n",
        "\n",
        "* 2.Find the **shape**, **rank** and **size** of the tensors you created in 1\n",
        "\n",
        "* 3.Create two tensors containing random values between 0 and 1 with shape [5, 300]\n",
        "\n",
        "* 4.Multiply the two tensors you created in 3 using **matrix multiplication**\n",
        "\n",
        "* 5.Multiply the two tensors you created in 3 using **dot product**\n",
        "\n",
        "* 6.Create a tensor with random values between 0 and 1 with shape [224,224,3]\n",
        "\n",
        "* 7.Find the min and max values of the tensor you created in 6 along the first axis\n",
        "\n",
        "* 8.Created a tensor with random values of shape [1, 224, 224, 3] then **squeeze it** to change the shape to [224, 224, 3]\n",
        "\n",
        "* 9.Create a tensor with shape [10] using your own choice of values, then find then index which has the maximum value\n",
        "\n",
        "* 10.**One-hot encode** the tensor you created in 9."
      ],
      "metadata": {
        "id": "1KIqvxUEzegE"
      }
    },
    {
      "cell_type": "markdown",
      "source": [
        "##1.Create a **vector**, **scalar**, **matrix** and **tensor** with values of your choosing using **@tf.constant()**"
      ],
      "metadata": {
        "id": "1K1jDktc3Se3"
      }
    },
    {
      "cell_type": "code",
      "source": [
        "# Let's Create a vector: \n",
        "vector = tf.constant([5, 6, 7])\n",
        "# Let's Create a scalar: \n",
        "scalar = tf.constant(10)\n",
        "# Let's Create a Matrix: \n",
        "matrix = tf.constant([[7, 8], [9, 10]])\n",
        "# Let's create a tensor: \n",
        "tensor = tf.constant([[[1, 2, 3],[4, 5, 6],[7, 8, 9]] , [[9, 8, 7],[6, 5, 4],[3, 2, 1]]])\n",
        "# Display the end results: \n",
        "vector, scalar, matrix, tensor"
      ],
      "metadata": {
        "colab": {
          "base_uri": "https://localhost:8080/"
        },
        "id": "pw1iY1Dr3TS4",
        "outputId": "f81f24c3-2c53-49a6-b9c8-bcdfae48d237"
      },
      "execution_count": 3,
      "outputs": [
        {
          "output_type": "execute_result",
          "data": {
            "text/plain": [
              "(<tf.Tensor: shape=(3,), dtype=int32, numpy=array([5, 6, 7], dtype=int32)>,\n",
              " <tf.Tensor: shape=(), dtype=int32, numpy=10>,\n",
              " <tf.Tensor: shape=(2, 2), dtype=int32, numpy=\n",
              " array([[ 7,  8],\n",
              "        [ 9, 10]], dtype=int32)>,\n",
              " <tf.Tensor: shape=(2, 3, 3), dtype=int32, numpy=\n",
              " array([[[1, 2, 3],\n",
              "         [4, 5, 6],\n",
              "         [7, 8, 9]],\n",
              " \n",
              "        [[9, 8, 7],\n",
              "         [6, 5, 4],\n",
              "         [3, 2, 1]]], dtype=int32)>)"
            ]
          },
          "metadata": {},
          "execution_count": 3
        }
      ]
    },
    {
      "cell_type": "markdown",
      "source": [
        "##2.Find the **shape**, **rank** and **size** of the tensors you created in 1"
      ],
      "metadata": {
        "id": "p9Fctn3w5cTf"
      }
    },
    {
      "cell_type": "code",
      "source": [
        "# Let's get some information from what we have just created in 1\n",
        "# Getting information from a vector: \n",
        "print(\"Datatype of every element:\", vector.dtype)\n",
        "print(\"Number of dimensions(rank):\", vector.ndim)\n",
        "print(\"Shape of vector:\", vector.shape)\n",
        "print(\"Size of vector:\", tf.size(vector))"
      ],
      "metadata": {
        "colab": {
          "base_uri": "https://localhost:8080/"
        },
        "id": "nyLVHjtm5mrP",
        "outputId": "8b8ecba1-d5c8-4da9-bfd4-1761c54e01ef"
      },
      "execution_count": 4,
      "outputs": [
        {
          "output_type": "stream",
          "name": "stdout",
          "text": [
            "Datatype of every element: <dtype: 'int32'>\n",
            "Number of dimensions(rank): 1\n",
            "Shape of vector: (3,)\n",
            "Size of vector: tf.Tensor(3, shape=(), dtype=int32)\n"
          ]
        }
      ]
    },
    {
      "cell_type": "code",
      "source": [
        "# Getting information from a scalar: \n",
        "print(\"Datatype of every element:\", scalar.dtype)\n",
        "print(\"Number of dimensions(rank):\", scalar.ndim)\n",
        "print(\"Shape of scalar:\", scalar.shape)\n",
        "print(\"Total number of element in our scalar:\", tf.size(scalar))"
      ],
      "metadata": {
        "colab": {
          "base_uri": "https://localhost:8080/"
        },
        "id": "2dsxPkrA6nIx",
        "outputId": "8eaaeef6-bc02-4959-f44a-69cacc3728ff"
      },
      "execution_count": 5,
      "outputs": [
        {
          "output_type": "stream",
          "name": "stdout",
          "text": [
            "Datatype of every element: <dtype: 'int32'>\n",
            "Number of dimensions(rank): 0\n",
            "Shape of scalar: ()\n",
            "Total number of element in our scalar: tf.Tensor(1, shape=(), dtype=int32)\n"
          ]
        }
      ]
    },
    {
      "cell_type": "code",
      "source": [
        "# Getting information from a matrix:\n",
        "print(\"Datatype of every element:\", matrix.dtype)\n",
        "print(\"Number of dimensions(rank):\", matrix.ndim)\n",
        "print(\"Shape of Matrix:\", matrix.shape)\n",
        "print(\"Total number of elements in our matrix:\", tf.size(matrix))"
      ],
      "metadata": {
        "colab": {
          "base_uri": "https://localhost:8080/"
        },
        "id": "xpT6ibEj7FMJ",
        "outputId": "3084cb34-4066-48f7-8a59-ff9c3aebfd48"
      },
      "execution_count": 6,
      "outputs": [
        {
          "output_type": "stream",
          "name": "stdout",
          "text": [
            "Datatype of every element: <dtype: 'int32'>\n",
            "Number of dimensions(rank): 2\n",
            "Shape of Matrix: (2, 2)\n",
            "Total number of elements in our matrix: tf.Tensor(4, shape=(), dtype=int32)\n"
          ]
        }
      ]
    },
    {
      "cell_type": "code",
      "source": [
        "# Getting Information from a tensor:\n",
        "print(\"Datatype of every element:\", tensor.dtype)\n",
        "print(\"Number of dimensions(rank):\", tensor.ndim)\n",
        "print(\"Shape of Tensor:\", tensor.shape)\n",
        "print(\"Total numbeeer of elements in our tensor:\", tf.size(tensor))"
      ],
      "metadata": {
        "colab": {
          "base_uri": "https://localhost:8080/"
        },
        "id": "3WXO-NN-7lLP",
        "outputId": "ed1803d0-6025-4501-e83a-d360b51c20f1"
      },
      "execution_count": 7,
      "outputs": [
        {
          "output_type": "stream",
          "name": "stdout",
          "text": [
            "Datatype of every element: <dtype: 'int32'>\n",
            "Number of dimensions(rank): 3\n",
            "Shape of Tensor: (2, 3, 3)\n",
            "Total numbeeer of elements in our tensor: tf.Tensor(18, shape=(), dtype=int32)\n"
          ]
        }
      ]
    },
    {
      "cell_type": "markdown",
      "source": [
        "##3.Create two tensors containing random values between 0 and 1 with shape [5, 300]."
      ],
      "metadata": {
        "id": "QWXZ3vvC8SrZ"
      }
    },
    {
      "cell_type": "code",
      "source": [
        "# Let's set the seed first: \n",
        "tf.random.set_seed(42)\n",
        "# Let's create two random tensors: \n",
        "random_tensor1 = tf.random.uniform(shape=(5,300)) \n",
        "random_tensor2 = tf.random.uniform(shape=(5,300))\n",
        "# Display the tensors and there shape(just to make sure we created the right tensors):\n",
        "random_tensor1, random_tensor2 "
      ],
      "metadata": {
        "colab": {
          "base_uri": "https://localhost:8080/"
        },
        "id": "zJGsolNz8dXX",
        "outputId": "ed27d66c-6bc9-4a70-a594-a2d9d9ce3d12"
      },
      "execution_count": 9,
      "outputs": [
        {
          "output_type": "execute_result",
          "data": {
            "text/plain": [
              "(<tf.Tensor: shape=(5, 300), dtype=float32, numpy=\n",
              " array([[0.6645621 , 0.44100678, 0.3528825 , ..., 0.31410468, 0.7593535 ,\n",
              "         0.03699052],\n",
              "        [0.532024  , 0.29129946, 0.10571766, ..., 0.54052293, 0.31425726,\n",
              "         0.2200619 ],\n",
              "        [0.08404207, 0.03614604, 0.97732127, ..., 0.21516645, 0.9786098 ,\n",
              "         0.00726748],\n",
              "        [0.7396945 , 0.6653172 , 0.0787828 , ..., 0.7117733 , 0.07013571,\n",
              "         0.9409125 ],\n",
              "        [0.15861344, 0.12024033, 0.27218235, ..., 0.8824879 , 0.1432488 ,\n",
              "         0.44135118]], dtype=float32)>,\n",
              " <tf.Tensor: shape=(5, 300), dtype=float32, numpy=\n",
              " array([[0.68789124, 0.48447883, 0.9309944 , ..., 0.6920762 , 0.33180213,\n",
              "         0.9212563 ],\n",
              "        [0.27369928, 0.10631859, 0.6218617 , ..., 0.4382149 , 0.30427706,\n",
              "         0.51477313],\n",
              "        [0.00920248, 0.37280262, 0.8177401 , ..., 0.56786287, 0.49201214,\n",
              "         0.9892651 ],\n",
              "        [0.88608265, 0.08672249, 0.12160683, ..., 0.91770685, 0.72545695,\n",
              "         0.8280058 ],\n",
              "        [0.36690474, 0.9200133 , 0.9646884 , ..., 0.69012   , 0.7137332 ,\n",
              "         0.2584542 ]], dtype=float32)>)"
            ]
          },
          "metadata": {},
          "execution_count": 9
        }
      ]
    },
    {
      "cell_type": "code",
      "source": [
        "# Display the Shapes:\n",
        "print(\"Shape of random_tensor1 is:\", random_tensor1.shape)\n",
        "print(\"Shape of random_tensor2 is:\", random_tensor2.shape)"
      ],
      "metadata": {
        "colab": {
          "base_uri": "https://localhost:8080/"
        },
        "id": "o3to9kiU9tdJ",
        "outputId": "65e79932-6d38-4446-8e80-6068255826a2"
      },
      "execution_count": 10,
      "outputs": [
        {
          "output_type": "stream",
          "name": "stdout",
          "text": [
            "Shape of random_tensor1 is: (5, 300)\n",
            "Shape of random_tensor2 is: (5, 300)\n"
          ]
        }
      ]
    },
    {
      "cell_type": "markdown",
      "source": [
        "##4.Multiply the two tensors you created in 3 using **matrix multiplication**"
      ],
      "metadata": {
        "id": "bI9SFWv-9_PG"
      }
    },
    {
      "cell_type": "code",
      "source": [
        "# Matrix Multiplication of tensors we created in 3.:\n",
        "# Shape before the matrix multiplication: \n",
        "print(\"Shape of random_tensor1:\", random_tensor1.shape)\n",
        "print(\"Shape of random_tensor2:\", random_tensor2.shape)"
      ],
      "metadata": {
        "colab": {
          "base_uri": "https://localhost:8080/"
        },
        "id": "H76Gx0Gm-HXE",
        "outputId": "99662d2d-f02f-42c1-a2a9-1a3157afd2b1"
      },
      "execution_count": 11,
      "outputs": [
        {
          "output_type": "stream",
          "name": "stdout",
          "text": [
            "Shape of random_tensor1: (5, 300)\n",
            "Shape of random_tensor2: (5, 300)\n"
          ]
        }
      ]
    },
    {
      "cell_type": "code",
      "source": [
        "# Before performing the matrix multiplication we need to do a little trick\n",
        "# Let's transpose one of the two tensors first: \n",
        "random_tensor1_transposed=tf.transpose(random_tensor1)\n",
        "print(\"Shape of the transposed tensor:\", random_tensor1_transposed)"
      ],
      "metadata": {
        "colab": {
          "base_uri": "https://localhost:8080/"
        },
        "id": "W0ND3DmO_Zem",
        "outputId": "39febde8-02aa-42da-fd72-9dd57fdc0ca6"
      },
      "execution_count": 12,
      "outputs": [
        {
          "output_type": "stream",
          "name": "stdout",
          "text": [
            "Shape of the transposed tensor: tf.Tensor(\n",
            "[[0.6645621  0.532024   0.08404207 0.7396945  0.15861344]\n",
            " [0.44100678 0.29129946 0.03614604 0.6653172  0.12024033]\n",
            " [0.3528825  0.10571766 0.97732127 0.0787828  0.27218235]\n",
            " ...\n",
            " [0.31410468 0.54052293 0.21516645 0.7117733  0.8824879 ]\n",
            " [0.7593535  0.31425726 0.9786098  0.07013571 0.1432488 ]\n",
            " [0.03699052 0.2200619  0.00726748 0.9409125  0.44135118]], shape=(300, 5), dtype=float32)\n"
          ]
        }
      ]
    },
    {
      "cell_type": "code",
      "source": [
        "# Let's perform matrix multiplication: \n",
        "res = tf.matmul(random_tensor1_transposed, random_tensor2) # Tensorflow can't display a [300x300] Matrix\n",
        "print(\"The Shape of the resultant matrix  is:\", res.shape)"
      ],
      "metadata": {
        "colab": {
          "base_uri": "https://localhost:8080/"
        },
        "id": "kPjmB_obADvn",
        "outputId": "bb171eb5-11c8-4231-fcfa-24343f0e92a6"
      },
      "execution_count": 17,
      "outputs": [
        {
          "output_type": "stream",
          "name": "stdout",
          "text": [
            "The Shape of the resultant matrix  is: (300, 300)\n"
          ]
        }
      ]
    },
    {
      "cell_type": "markdown",
      "source": [
        "##5.Multiply the two tensors you created in 3 using the **dot product**"
      ],
      "metadata": {
        "id": "fKVop6ZjAxxY"
      }
    },
    {
      "cell_type": "code",
      "source": [
        "# We will proceed the same way as we did in 4 but this time we will transpose the second random tensor\n",
        "# First let's transpose the second random tensor:\n",
        "transposed_random_tensor2 = tf.transpose(random_tensor2)\n",
        "# Display the shape after transposing:\n",
        "print(\"The Shape before transposing was:\", random_tensor2.shape)"
      ],
      "metadata": {
        "colab": {
          "base_uri": "https://localhost:8080/"
        },
        "id": "8O9clAwoA8fq",
        "outputId": "f7b9f6b3-6148-48cd-da3f-b546d24b6df2"
      },
      "execution_count": 18,
      "outputs": [
        {
          "output_type": "stream",
          "name": "stdout",
          "text": [
            "The Shape before transposing was: (5, 300)\n"
          ]
        }
      ]
    },
    {
      "cell_type": "code",
      "source": [
        "# After transposing it became: \n",
        "print(\"The actual shape is:\", transposed_random_tensor2.shape)"
      ],
      "metadata": {
        "colab": {
          "base_uri": "https://localhost:8080/"
        },
        "id": "Ou-xJZ8AB5ig",
        "outputId": "72ea3c86-ae62-4091-d90e-d97536e2e64c"
      },
      "execution_count": 19,
      "outputs": [
        {
          "output_type": "stream",
          "name": "stdout",
          "text": [
            "The actual shape is: (300, 5)\n"
          ]
        }
      ]
    },
    {
      "cell_type": "code",
      "source": [
        "# Let*s perform the dot product and show the shape of the resultant tensor:\n",
        "res_dot = tf.tensordot(random_tensor1, transposed_random_tensor2, axes=1)\n",
        "res_dot"
      ],
      "metadata": {
        "colab": {
          "base_uri": "https://localhost:8080/"
        },
        "id": "9XtFFFaCCEXC",
        "outputId": "661d1a3c-b4b5-4c75-81fb-b6517d4b54d3"
      },
      "execution_count": 23,
      "outputs": [
        {
          "output_type": "execute_result",
          "data": {
            "text/plain": [
              "<tf.Tensor: shape=(5, 5), dtype=float32, numpy=\n",
              "array([[80.33344 , 73.40498 , 77.15962 , 73.98368 , 80.90053 ],\n",
              "       [75.146355, 68.80437 , 74.24302 , 71.841835, 75.60206 ],\n",
              "       [79.7594  , 75.644554, 77.797585, 74.74873 , 80.559845],\n",
              "       [75.085266, 69.06406 , 74.307755, 72.27616 , 76.05668 ],\n",
              "       [85.056885, 74.266266, 78.00687 , 74.88678 , 83.13418 ]],\n",
              "      dtype=float32)>"
            ]
          },
          "metadata": {},
          "execution_count": 23
        }
      ]
    },
    {
      "cell_type": "code",
      "source": [
        "# Display the shape of the resultant: \n",
        "print(\"The shape of the resultant is:\", res_dot.shape)"
      ],
      "metadata": {
        "colab": {
          "base_uri": "https://localhost:8080/"
        },
        "id": "To8LDYFpCdZ3",
        "outputId": "0870cda4-211c-4565-bc32-7479f652feb4"
      },
      "execution_count": 24,
      "outputs": [
        {
          "output_type": "stream",
          "name": "stdout",
          "text": [
            "The shape of the resultant is: (5, 5)\n"
          ]
        }
      ]
    },
    {
      "cell_type": "markdown",
      "source": [
        "##6.Create a tensor with random values between 0 and 1 with shape [224,224,3]"
      ],
      "metadata": {
        "id": "SLEjasMeCspb"
      }
    },
    {
      "cell_type": "code",
      "source": [
        "# Let's create our third random tensor: \n",
        "random_tensor3 = tf.random.uniform(shape=[224, 224, 3], minval=0, maxval = 1)\n",
        "random_tensor3"
      ],
      "metadata": {
        "colab": {
          "base_uri": "https://localhost:8080/"
        },
        "id": "nT9ocoCNC1j4",
        "outputId": "8e100b1d-4d38-482c-e442-c268e6761aa0"
      },
      "execution_count": 26,
      "outputs": [
        {
          "output_type": "execute_result",
          "data": {
            "text/plain": [
              "<tf.Tensor: shape=(224, 224, 3), dtype=float32, numpy=\n",
              "array([[[0.7413678 , 0.62854624, 0.01738465],\n",
              "        [0.3431449 , 0.51063764, 0.3777541 ],\n",
              "        [0.07321596, 0.02137029, 0.2871771 ],\n",
              "        ...,\n",
              "        [0.98953485, 0.45382905, 0.2006687 ],\n",
              "        [0.6295223 , 0.4937899 , 0.01816809],\n",
              "        [0.95386636, 0.11542463, 0.85691285]],\n",
              "\n",
              "       [[0.78435016, 0.7826872 , 0.87936425],\n",
              "        [0.24906898, 0.3207239 , 0.10955775],\n",
              "        [0.543224  , 0.7151396 , 0.40334642],\n",
              "        ...,\n",
              "        [0.2445668 , 0.01746976, 0.9036933 ],\n",
              "        [0.02975535, 0.592268  , 0.9877522 ],\n",
              "        [0.36701274, 0.33112562, 0.5638567 ]],\n",
              "\n",
              "       [[0.15829337, 0.7288823 , 0.3366307 ],\n",
              "        [0.70792687, 0.16910625, 0.9429966 ],\n",
              "        [0.10120225, 0.5919596 , 0.8687303 ],\n",
              "        ...,\n",
              "        [0.28134012, 0.10011208, 0.37038183],\n",
              "        [0.77874243, 0.05421627, 0.4664607 ],\n",
              "        [0.2549187 , 0.7968637 , 0.83405185]],\n",
              "\n",
              "       ...,\n",
              "\n",
              "       [[0.32922816, 0.06343532, 0.23936498],\n",
              "        [0.42692196, 0.3615111 , 0.901929  ],\n",
              "        [0.8320831 , 0.21068895, 0.08272386],\n",
              "        ...,\n",
              "        [0.65110314, 0.40780962, 0.25967455],\n",
              "        [0.9018173 , 0.8245677 , 0.16757596],\n",
              "        [0.41854453, 0.19092035, 0.2523303 ]],\n",
              "\n",
              "       [[0.7064005 , 0.222404  , 0.82219553],\n",
              "        [0.8235872 , 0.76544905, 0.80999327],\n",
              "        [0.1100682 , 0.00520217, 0.6127168 ],\n",
              "        ...,\n",
              "        [0.98068535, 0.8958733 , 0.17706168],\n",
              "        [0.4252876 , 0.02087164, 0.496238  ],\n",
              "        [0.6599953 , 0.58505726, 0.7089884 ]],\n",
              "\n",
              "       [[0.90045786, 0.45803344, 0.9050728 ],\n",
              "        [0.92233   , 0.38456154, 0.30329156],\n",
              "        [0.03238845, 0.18773472, 0.9096625 ],\n",
              "        ...,\n",
              "        [0.4445815 , 0.04578841, 0.21090853],\n",
              "        [0.25966525, 0.24412918, 0.76123405],\n",
              "        [0.9643831 , 0.32687283, 0.4828869 ]]], dtype=float32)>"
            ]
          },
          "metadata": {},
          "execution_count": 26
        }
      ]
    },
    {
      "cell_type": "markdown",
      "source": [
        "##7.Find the **min** and **max values** of the tensor you created in 6"
      ],
      "metadata": {
        "id": "1xXoqzApHmWp"
      }
    },
    {
      "cell_type": "code",
      "source": [
        "# Let's find the minimum:\n",
        "min_val = tf.reduce_min(random_tensor3)\n",
        "# Display the minimum: \n",
        "print(\"The minimum value is:\", min_val)"
      ],
      "metadata": {
        "colab": {
          "base_uri": "https://localhost:8080/"
        },
        "id": "F_ZpWYERHxWA",
        "outputId": "1a579a22-75f5-4f11-eb91-cba9413d0b5c"
      },
      "execution_count": 28,
      "outputs": [
        {
          "output_type": "stream",
          "name": "stdout",
          "text": [
            "The minimum value is: tf.Tensor(2.3841858e-07, shape=(), dtype=float32)\n"
          ]
        }
      ]
    },
    {
      "cell_type": "code",
      "source": [
        "# Let's find the maximum: \n",
        "max_val = tf.reduce_max(random_tensor3)\n",
        "# Display the maximum:\n",
        "print(\"The maximum value is:\", max_val)"
      ],
      "metadata": {
        "colab": {
          "base_uri": "https://localhost:8080/"
        },
        "id": "upVuaj5DIUPg",
        "outputId": "a3b750f0-d5e6-4fc3-c39a-4577a4527893"
      },
      "execution_count": 29,
      "outputs": [
        {
          "output_type": "stream",
          "name": "stdout",
          "text": [
            "The maximum value is: tf.Tensor(0.9999918, shape=(), dtype=float32)\n"
          ]
        }
      ]
    },
    {
      "cell_type": "markdown",
      "source": [
        "##8.Create a tensor with random values of shape [1, 224, 224, 3] then squeeze it to change the shape to [224, 224, 3]."
      ],
      "metadata": {
        "id": "-AZ7q_39IqWJ"
      }
    },
    {
      "cell_type": "code",
      "source": [
        "# Let's first create another tensor with random values:\n",
        "random_tensor4 = tf.constant(tf.random.uniform(shape=(1, 224, 224, 3)))\n",
        "random_tensor4\n",
        "# The Shape of the tensor before squeezing: \n",
        "print(\"The shape before squeezing:\", random_tensor4.shape)"
      ],
      "metadata": {
        "colab": {
          "base_uri": "https://localhost:8080/"
        },
        "id": "cMnnfcZ3I-oX",
        "outputId": "dce5f65b-9f96-4e56-c615-244e8fa53735"
      },
      "execution_count": 35,
      "outputs": [
        {
          "output_type": "stream",
          "name": "stdout",
          "text": [
            "The shape before squeezing: (1, 224, 224, 3)\n"
          ]
        }
      ]
    },
    {
      "cell_type": "code",
      "source": [
        "# Let's squeeze the tensor first: \n",
        "squeezed_random_tensor4 = tf.squeeze(random_tensor4)\n",
        "# The Shape of the tensor agter squeezing: \n",
        "print(\"The shape after squeezing:\", squeezed_random_tensor4.shape)"
      ],
      "metadata": {
        "colab": {
          "base_uri": "https://localhost:8080/"
        },
        "id": "aRkQX-u9KZaI",
        "outputId": "0726837f-3d6f-4ec0-e595-22c73754d1d8"
      },
      "execution_count": 37,
      "outputs": [
        {
          "output_type": "stream",
          "name": "stdout",
          "text": [
            "The shape after squeezing: (224, 224, 3)\n"
          ]
        }
      ]
    },
    {
      "cell_type": "markdown",
      "source": [
        "##9.Create a tensor with shape [10] using your own choice of values, then find **the index** which has **the maximum value**."
      ],
      "metadata": {
        "id": "_3lzQhbQK7LI"
      }
    },
    {
      "cell_type": "code",
      "source": [
        "# Let's create a random tensor of shape [10]: \n",
        "random_tensor5 = tf.constant([100, 99, 98, 50, 1000, 2.75, 0.001, 999, 0, 1])"
      ],
      "metadata": {
        "id": "auI6_6umLRE4"
      },
      "execution_count": 39,
      "outputs": []
    },
    {
      "cell_type": "code",
      "source": [
        "# Index our largest value: \n",
        "max_val_ind = tf.argmax(random_tensor5) \n",
        "# Display the index: \n",
        "print(\"The index is:\", max_val_ind)"
      ],
      "metadata": {
        "colab": {
          "base_uri": "https://localhost:8080/"
        },
        "id": "uN31wcI8LqwQ",
        "outputId": "d6e89815-fd6f-42ff-f6bc-6e1f9389c918"
      },
      "execution_count": 41,
      "outputs": [
        {
          "output_type": "stream",
          "name": "stdout",
          "text": [
            "The index is: tf.Tensor(4, shape=(), dtype=int64)\n"
          ]
        }
      ]
    },
    {
      "cell_type": "code",
      "source": [
        "# The max value of tensor is: \n",
        "print(\"The maximum value is:\", tf.reduce_max(random_tensor5))"
      ],
      "metadata": {
        "colab": {
          "base_uri": "https://localhost:8080/"
        },
        "id": "uQ6OcwaeMdGv",
        "outputId": "d51149f8-8fd9-430c-dd97-5a9359c70182"
      },
      "execution_count": 42,
      "outputs": [
        {
          "output_type": "stream",
          "name": "stdout",
          "text": [
            "The maximum value is: tf.Tensor(1000.0, shape=(), dtype=float32)\n"
          ]
        }
      ]
    },
    {
      "cell_type": "markdown",
      "source": [
        "##10.One-hot encode the tensor your created in 9."
      ],
      "metadata": {
        "id": "d3fQ1N7mMuoB"
      }
    },
    {
      "cell_type": "code",
      "source": [
        "# One-hot encoding the tensor we created in 9: \n",
        "tf.one_hot(tf.cast(random_tensor5, dtype=tf.int32), depth=10)"
      ],
      "metadata": {
        "colab": {
          "base_uri": "https://localhost:8080/"
        },
        "id": "6dxDmG9JM2Dw",
        "outputId": "bdde7b09-8c56-4328-b27f-98c427cebd21"
      },
      "execution_count": 45,
      "outputs": [
        {
          "output_type": "execute_result",
          "data": {
            "text/plain": [
              "<tf.Tensor: shape=(10, 10), dtype=float32, numpy=\n",
              "array([[0., 0., 0., 0., 0., 0., 0., 0., 0., 0.],\n",
              "       [0., 0., 0., 0., 0., 0., 0., 0., 0., 0.],\n",
              "       [0., 0., 0., 0., 0., 0., 0., 0., 0., 0.],\n",
              "       [0., 0., 0., 0., 0., 0., 0., 0., 0., 0.],\n",
              "       [0., 0., 0., 0., 0., 0., 0., 0., 0., 0.],\n",
              "       [0., 0., 1., 0., 0., 0., 0., 0., 0., 0.],\n",
              "       [1., 0., 0., 0., 0., 0., 0., 0., 0., 0.],\n",
              "       [0., 0., 0., 0., 0., 0., 0., 0., 0., 0.],\n",
              "       [1., 0., 0., 0., 0., 0., 0., 0., 0., 0.],\n",
              "       [0., 1., 0., 0., 0., 0., 0., 0., 0., 0.]], dtype=float32)>"
            ]
          },
          "metadata": {},
          "execution_count": 45
        }
      ]
    }
  ]
}