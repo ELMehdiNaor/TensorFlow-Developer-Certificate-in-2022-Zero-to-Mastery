{
  "nbformat": 4,
  "nbformat_minor": 0,
  "metadata": {
    "colab": {
      "name": "01_Neural_network_regression_with_TensorFlow_Exercises.ipynb",
      "provenance": [],
      "collapsed_sections": [],
      "authorship_tag": "ABX9TyO5uEldtil1mdV/SDi17cMD",
      "include_colab_link": true
    },
    "kernelspec": {
      "name": "python3",
      "display_name": "Python 3"
    },
    "language_info": {
      "name": "python"
    }
  },
  "cells": [
    {
      "cell_type": "markdown",
      "metadata": {
        "id": "view-in-github",
        "colab_type": "text"
      },
      "source": [
        "<a href=\"https://colab.research.google.com/github/ELMehdiNaor/TensorFlow-Developer-Certificate-in-2022-Zero-to-Mastery/blob/main/Exercises/01_Neural_network_regression_with_TensorFlow_Exercises.ipynb\" target=\"_parent\"><img src=\"https://colab.research.google.com/assets/colab-badge.svg\" alt=\"Open In Colab\"/></a>"
      ]
    },
    {
      "cell_type": "markdown",
      "source": [
        "#🛠 Neural Network regression with TensorFlow exercises \n",
        "\n",
        "1- Create your own dataset and also build and fit a model to it\n",
        "\n",
        "2- Try building a neural network with 4 Dense layers and fitting it to your own regression Dataset and see how does it perform\n",
        "\n",
        "3- Try and improve the results we got on the insurance dataset, some things you might want to try include: \n",
        "\n",
        "  - Building a larger model (how does one with 4  Dense layers do) \n",
        "\n",
        "  - Increasing the number of units in each layer\n",
        "\n",
        "  - What happens if you train for longer (say 300epochs instead of 200)\n",
        "\n",
        "  - Lookup the documentation of Adam and find out what the first parameter is, what happens if you increase it by 10x? \n",
        "\n",
        "4- Import the **Boston pricing dataset** from TensorFlow using `tf.keras.datasets` and model it."
      ],
      "metadata": {
        "id": "LM2iqmyrCrhD"
      }
    },
    {
      "cell_type": "markdown",
      "source": [
        "## 1-Create your own regression dataset and also build and fit a model to it "
      ],
      "metadata": {
        "id": "dg1p7RxlEGS6"
      }
    },
    {
      "cell_type": "code",
      "source": [
        "# Import the necessary packages/libraries: \n",
        "import numpy as np \n",
        "import tensorflow as tf\n",
        "import pandas as pd\n",
        "from matplotlib import pyplot as plt"
      ],
      "metadata": {
        "id": "v4oGxi6wEMNR"
      },
      "execution_count": null,
      "outputs": []
    },
    {
      "cell_type": "code",
      "source": [
        "# Let's create our own dataset: \n",
        "# Features:\n",
        "X = tf.range(-150,150,5)\n",
        "len(X), X.shape, X.dtype, X.ndim"
      ],
      "metadata": {
        "colab": {
          "base_uri": "https://localhost:8080/"
        },
        "id": "rD_MEdxvEiSS",
        "outputId": "f585db9c-4b24-4d39-bb9b-f5d2fc146bd9"
      },
      "execution_count": null,
      "outputs": [
        {
          "output_type": "execute_result",
          "data": {
            "text/plain": [
              "(60, TensorShape([60]), tf.int32, 1)"
            ]
          },
          "metadata": {},
          "execution_count": 2
        }
      ]
    },
    {
      "cell_type": "code",
      "source": [
        "# Labels: \n",
        "y = X + 5 \n",
        "len(y), y.shape, y.dtype, y.ndim"
      ],
      "metadata": {
        "colab": {
          "base_uri": "https://localhost:8080/"
        },
        "id": "4mIy9Ph7E7QO",
        "outputId": "d3d826a0-6f66-49fd-ca0a-14e0e7423063"
      },
      "execution_count": null,
      "outputs": [
        {
          "output_type": "execute_result",
          "data": {
            "text/plain": [
              "(60, TensorShape([60]), tf.int32, 1)"
            ]
          },
          "metadata": {},
          "execution_count": 3
        }
      ]
    },
    {
      "cell_type": "code",
      "source": [
        "# Let's visualize the data: \n",
        "plt.figure(figsize=(8,8))\n",
        "plt.scatter(X,y, c=\"b\", label=\"Data Set\")\n",
        "plt.xlabel(\"Features\")\n",
        "plt.ylabel(\"Labels\")\n",
        "plt.legend"
      ],
      "metadata": {
        "colab": {
          "base_uri": "https://localhost:8080/",
          "height": 514
        },
        "id": "GKnQi5CfFJOJ",
        "outputId": "8203eb41-05db-4a5e-f2bb-5ae1161609b9"
      },
      "execution_count": null,
      "outputs": [
        {
          "output_type": "execute_result",
          "data": {
            "text/plain": [
              "<function matplotlib.pyplot.legend>"
            ]
          },
          "metadata": {},
          "execution_count": 4
        },
        {
          "output_type": "display_data",
          "data": {
            "text/plain": [
              "<Figure size 576x576 with 1 Axes>"
            ],
            "image/png": "[encoded data removed]"
          },
          "metadata": {
            "needs_background": "light"
          }
        }
      ]
    },
    {
      "cell_type": "markdown",
      "source": [
        "### The Three Sets: \n",
        "\n",
        "-**Training Set:** the model learns from this data, which is typically 70-80% of the total data you have available \n",
        "\n",
        "-**Testing Set:** the model gets evaluated on this data to test what it had learned, this set is typically 10-15% of the total data available\n",
        "\n",
        "-**Validation Set:** the model gets tuned on this data, which is typically 10-15% of the data available"
      ],
      "metadata": {
        "id": "UqR2-sdyFnse"
      }
    },
    {
      "cell_type": "code",
      "source": [
        "# Check the length of how many samples we have: \n",
        "len(X)"
      ],
      "metadata": {
        "colab": {
          "base_uri": "https://localhost:8080/"
        },
        "id": "H_VP2f-CGYui",
        "outputId": "11694ea4-cbae-43d1-bf13-df84aeba65c1"
      },
      "execution_count": null,
      "outputs": [
        {
          "output_type": "execute_result",
          "data": {
            "text/plain": [
              "60"
            ]
          },
          "metadata": {},
          "execution_count": 5
        }
      ]
    },
    {
      "cell_type": "code",
      "source": [
        "# Split the data intro training and testing sets: \n",
        "# Training Set: \n",
        "X_train = X[:48] # first 48 are training samples (80% of the data)\n",
        "y_train = y[:48] # \n",
        "\n",
        "# Testing Set: \n",
        "X_test = X[48:] # Last 12 are testing samples (20% of the data)\n",
        "y_test = y[48:]"
      ],
      "metadata": {
        "id": "GOZ92Cs0Gi64"
      },
      "execution_count": null,
      "outputs": []
    },
    {
      "cell_type": "code",
      "source": [
        "# Visualizing the data: \n",
        "# Create a plot figure: \n",
        "plt.figure(figsize=(8,8))\n",
        "# Plot the training data in blue: \n",
        "plt.scatter(X_train, y_train, c=\"b\", label=\"Training data\")\n",
        "# Plot the testing data in green: \n",
        "plt.scatter(X_test, y_test, c=\"g\", label=\"Testing data\")\n",
        "# Show a legend: \n",
        "plt.legend()"
      ],
      "metadata": {
        "colab": {
          "base_uri": "https://localhost:8080/",
          "height": 500
        },
        "id": "enPow0gYHdyE",
        "outputId": "d4c8a412-afb9-41d6-b807-c9a9ebe48925"
      },
      "execution_count": null,
      "outputs": [
        {
          "output_type": "execute_result",
          "data": {
            "text/plain": [
              "<matplotlib.legend.Legend at 0x7f98cd079dd0>"
            ]
          },
          "metadata": {},
          "execution_count": 7
        },
        {
          "output_type": "display_data",
          "data": {
            "text/plain": [
              "<Figure size 576x576 with 1 Axes>"
            ],
            "image/png": "[encoded data removed]"
          },
          "metadata": {
            "needs_background": "light"
          }
        }
      ]
    },
    {
      "cell_type": "code",
      "source": [
        "# Let's build a neural network for our data:\n",
        "# Step.1 Create the model: \n",
        "model1 = tf.keras.Sequential([\n",
        "         tf.keras.layers.Dense(10, name=\"layer1\"),\n",
        "         tf.keras.layers.Dense(1, name=\"layer2\")\n",
        "])\n",
        "\n",
        "# Step.2 Compile the model: \n",
        "model1.compile(loss = tf.keras.losses.mae, \n",
        "               optimizer = tf.keras.optimizers.SGD(),\n",
        "               metrics=[\"mae\"])\n",
        "\n",
        "# Step3. Fit the model: \n",
        "history = model1.fit(tf.expand_dims(X_train, axis=-1), y_train, epochs=100, verbose = 0)\n",
        "\n",
        "# Show the history of the model: \n",
        "pd.DataFrame(history.history).plot()\n",
        "plt.xlabel(\"epochs\")\n",
        "plt.ylabel(\"losses\")"
      ],
      "metadata": {
        "colab": {
          "base_uri": "https://localhost:8080/",
          "height": 297
        },
        "id": "WeL8zs7PIApq",
        "outputId": "0ec9bff1-6496-44a3-e988-9a1504ed5a6b"
      },
      "execution_count": null,
      "outputs": [
        {
          "output_type": "execute_result",
          "data": {
            "text/plain": [
              "Text(0, 0.5, 'losses')"
            ]
          },
          "metadata": {},
          "execution_count": 8
        },
        {
          "output_type": "display_data",
          "data": {
            "text/plain": [
              "<Figure size 432x288 with 1 Axes>"
            ],
            "image/png": "[encoded data removed]"
          },
          "metadata": {
            "needs_background": "light"
          }
        }
      ]
    },
    {
      "cell_type": "code",
      "source": [
        "# Summary of the model: \n",
        "model1.summary()"
      ],
      "metadata": {
        "colab": {
          "base_uri": "https://localhost:8080/"
        },
        "id": "wUFR1MNQJR8f",
        "outputId": "1c91d53d-38cf-4002-9515-97ba596e448c"
      },
      "execution_count": null,
      "outputs": [
        {
          "output_type": "stream",
          "name": "stdout",
          "text": [
            "Model: \"sequential\"\n",
            "_________________________________________________________________\n",
            " Layer (type)                Output Shape              Param #   \n",
            "=================================================================\n",
            " layer1 (Dense)              (None, 10)                20        \n",
            "                                                                 \n",
            " layer2 (Dense)              (None, 1)                 11        \n",
            "                                                                 \n",
            "=================================================================\n",
            "Total params: 31\n",
            "Trainable params: 31\n",
            "Non-trainable params: 0\n",
            "_________________________________________________________________\n"
          ]
        }
      ]
    },
    {
      "cell_type": "code",
      "source": [
        "# Plot the model: \n",
        "from tensorflow.keras.utils import plot_model\n",
        "plot_model(model=model1, show_shapes=True)"
      ],
      "metadata": {
        "colab": {
          "base_uri": "https://localhost:8080/",
          "height": 312
        },
        "id": "RscYY8iDJg9q",
        "outputId": "c69f625b-0bcf-46c0-8f6e-e19d6ee72bfa"
      },
      "execution_count": null,
      "outputs": [
        {
          "output_type": "execute_result",
          "data": {
            "text/plain": [
              "<IPython.core.display.Image object>"
            ],
            "image/png": "[encoded data removed]"
          },
          "metadata": {},
          "execution_count": 10
        }
      ]
    },
    {
      "cell_type": "code",
      "source": [
        "# Let's make some prediction with our model and visualize them: \n",
        "y_preds = model1.predict(X_test)\n",
        "# \n",
        "len(y_preds), y_preds.shape, y_preds.dtype, y_preds.ndim"
      ],
      "metadata": {
        "colab": {
          "base_uri": "https://localhost:8080/"
        },
        "id": "a3A9N1qbJ_0c",
        "outputId": "930b0e71-1cd3-4dcc-fcc0-f6e6964588b7"
      },
      "execution_count": null,
      "outputs": [
        {
          "output_type": "execute_result",
          "data": {
            "text/plain": [
              "(12, (12, 1), dtype('float32'), 2)"
            ]
          },
          "metadata": {},
          "execution_count": 11
        }
      ]
    },
    {
      "cell_type": "code",
      "source": [
        "# Let's create a plotting function to visualize our data (Training, Testing, Prediction): \n",
        "def plot_predictions(train_data= X_train, train_labels = y_train, \n",
        "                     test_data = X_test, test_labels = y_test, \n",
        "                     predictions = y_preds):\n",
        " \"\"\" \n",
        " This function plots training data, test data and compares predictions to ground truth label\n",
        " \"\"\" \n",
        "\n",
        " # Create a figure: ,\n",
        " plt.figure(figsize=(8,8))\n",
        " # Plot the training data in blue: \n",
        " plt.scatter(train_data, train_labels, c=\"b\", label=\"Training Data\")\n",
        " # Plot the testing data in green: \n",
        " plt.scatter(test_data, test_labels, c=\"g\", label=\"Testing data\")\n",
        " # Plot the predictions in red: \n",
        " plt.scatter(test_data, predictions, c=\"r\", label=\"Predictions\")\n",
        " # Show legend: \n",
        " plt.legend()"
      ],
      "metadata": {
        "id": "setszYCpKWwG"
      },
      "execution_count": null,
      "outputs": []
    },
    {
      "cell_type": "code",
      "source": [
        "# Plot the predictions:\n",
        "plot_predictions()"
      ],
      "metadata": {
        "colab": {
          "base_uri": "https://localhost:8080/",
          "height": 483
        },
        "id": "BIi0LW9yLwa6",
        "outputId": "1770162f-cef9-4e30-833b-be2e10e8d92c"
      },
      "execution_count": null,
      "outputs": [
        {
          "output_type": "display_data",
          "data": {
            "text/plain": [
              "<Figure size 576x576 with 1 Axes>"
            ],
            "image/png": "[encoded data removed]"
          },
          "metadata": {
            "needs_background": "light"
          }
        }
      ]
    },
    {
      "cell_type": "markdown",
      "source": [
        "### Evaluating our model's prediction with regression evaluation metrics:\n",
        "\n",
        "- **MAE** \n",
        "\n",
        "- **MSE** "
      ],
      "metadata": {
        "id": "dTA4dEjPMVuB"
      }
    },
    {
      "cell_type": "code",
      "source": [
        "# Evaluate the model on the test data: \n",
        "model1.evaluate(X_test, y_test)"
      ],
      "metadata": {
        "colab": {
          "base_uri": "https://localhost:8080/"
        },
        "id": "50sRzMIfwUra",
        "outputId": "69a8aecd-c2e1-44e4-828d-51d224280b1d"
      },
      "execution_count": null,
      "outputs": [
        {
          "output_type": "stream",
          "name": "stdout",
          "text": [
            "1/1 [==============================] - 0s 138ms/step - loss: 95.6161 - mae: 95.6161\n"
          ]
        },
        {
          "output_type": "execute_result",
          "data": {
            "text/plain": [
              "[95.61612701416016, 95.61612701416016]"
            ]
          },
          "metadata": {},
          "execution_count": 14
        }
      ]
    },
    {
      "cell_type": "code",
      "source": [
        "y_preds"
      ],
      "metadata": {
        "colab": {
          "base_uri": "https://localhost:8080/"
        },
        "id": "XQxmkZDqwwg5",
        "outputId": "8e4b67e8-ce6e-4ee1-9b03-c5844d58369f"
      },
      "execution_count": null,
      "outputs": [
        {
          "output_type": "execute_result",
          "data": {
            "text/plain": [
              "array([[20.62626 ],\n",
              "       [21.76401 ],\n",
              "       [22.901756],\n",
              "       [24.039503],\n",
              "       [25.177252],\n",
              "       [26.314999],\n",
              "       [27.452747],\n",
              "       [28.59049 ],\n",
              "       [29.72824 ],\n",
              "       [30.865986],\n",
              "       [32.003735],\n",
              "       [33.14148 ]], dtype=float32)"
            ]
          },
          "metadata": {},
          "execution_count": 15
        }
      ]
    },
    {
      "cell_type": "code",
      "source": [
        "y_test"
      ],
      "metadata": {
        "colab": {
          "base_uri": "https://localhost:8080/"
        },
        "id": "_U0oylSww0sd",
        "outputId": "c1786c80-adc8-4ec2-d6cf-2d92df5b1f2d"
      },
      "execution_count": null,
      "outputs": [
        {
          "output_type": "execute_result",
          "data": {
            "text/plain": [
              "<tf.Tensor: shape=(12,), dtype=int32, numpy=\n",
              "array([ 95, 100, 105, 110, 115, 120, 125, 130, 135, 140, 145, 150],\n",
              "      dtype=int32)>"
            ]
          },
          "metadata": {},
          "execution_count": 16
        }
      ]
    },
    {
      "cell_type": "code",
      "source": [
        "tf.squeeze(y_preds)"
      ],
      "metadata": {
        "colab": {
          "base_uri": "https://localhost:8080/"
        },
        "id": "WfVhGaFkxB5v",
        "outputId": "c6b2569f-f015-475e-9de6-2d2a6951a1d0"
      },
      "execution_count": null,
      "outputs": [
        {
          "output_type": "execute_result",
          "data": {
            "text/plain": [
              "<tf.Tensor: shape=(12,), dtype=float32, numpy=\n",
              "array([20.62626 , 21.76401 , 22.901756, 24.039503, 25.177252, 26.314999,\n",
              "       27.452747, 28.59049 , 29.72824 , 30.865986, 32.003735, 33.14148 ],\n",
              "      dtype=float32)>"
            ]
          },
          "metadata": {},
          "execution_count": 17
        }
      ]
    },
    {
      "cell_type": "code",
      "source": [
        "# Calculate the mean absolute error: \n",
        "mae = tf.metrics.mean_absolute_error(y_true=y_test, y_pred=tf.squeeze(y_preds))\n",
        "mae"
      ],
      "metadata": {
        "colab": {
          "base_uri": "https://localhost:8080/"
        },
        "id": "56BiEv8bxH-Y",
        "outputId": "1a7dd668-d70e-4063-d0a3-297d2153327a"
      },
      "execution_count": null,
      "outputs": [
        {
          "output_type": "execute_result",
          "data": {
            "text/plain": [
              "<tf.Tensor: shape=(), dtype=float32, numpy=95.61613>"
            ]
          },
          "metadata": {},
          "execution_count": 18
        }
      ]
    },
    {
      "cell_type": "code",
      "source": [
        "# Calculate the mean squared error: \n",
        "mse = tf.metrics.mean_squared_error(y_true=y_test, y_pred=tf.squeeze(y_preds))\n",
        "mse"
      ],
      "metadata": {
        "colab": {
          "base_uri": "https://localhost:8080/"
        },
        "id": "bXidWZYixY-9",
        "outputId": "ad4e78b7-8b56-480e-af70-fec96e606438"
      },
      "execution_count": null,
      "outputs": [
        {
          "output_type": "execute_result",
          "data": {
            "text/plain": [
              "<tf.Tensor: shape=(), dtype=float32, numpy=9320.205>"
            ]
          },
          "metadata": {},
          "execution_count": 23
        }
      ]
    },
    {
      "cell_type": "code",
      "source": [
        "# Let's create another two functions \"mae\" and \"mse\": \n",
        "# MAE:\n",
        "def mae (y_true, y_pred): \n",
        "  \"\"\" \n",
        "  This function calculates the mean absolute error\n",
        "  \"\"\" \n",
        "  return tf.metrics.mean_absolute_error(y_true = y_test, y_pred = tf.squeeze(y_preds))\n",
        "\n",
        "# MSE: \n",
        "def mse(y_true, y_pred):\n",
        "  \"\"\" \n",
        "  This function calculates the mean squared error\n",
        "  \"\"\"\n",
        "  return tf.metrics.mean_squared_error(y_true = y_test, y_pred=tf.squeeze(y_preds))\n"
      ],
      "metadata": {
        "id": "tAc6dJsgx3Yl"
      },
      "execution_count": null,
      "outputs": []
    },
    {
      "cell_type": "code",
      "source": [
        "# Quick test: \n",
        "mae_val = mae(y_test, y_preds)\n",
        "mse_val = mse(y_test, y_preds)\n",
        "#import numpy as np\n",
        "#print(\"The mean absolute error is:\", mae_val.numpy())\n",
        "#print(\"The mean squared error is:\", mse_val.numpy())\n",
        "print(\"The mean absolute error is:\", mae_val)\n",
        "print(\"The mean squared error is:\", mse_val)"
      ],
      "metadata": {
        "colab": {
          "base_uri": "https://localhost:8080/"
        },
        "id": "z2yOYlpDzADl",
        "outputId": "d986e797-dfc1-46d0-f841-f456a6ae5c1a"
      },
      "execution_count": null,
      "outputs": [
        {
          "output_type": "stream",
          "name": "stdout",
          "text": [
            "The mean absolute error is: tf.Tensor(95.61613, shape=(), dtype=float32)\n",
            "The mean squared error is: tf.Tensor(9320.205, shape=(), dtype=float32)\n"
          ]
        }
      ]
    },
    {
      "cell_type": "markdown",
      "source": [
        "##2- Try building a neural network with 4 Dense layers and fitting it to your own regression Dataset and see how does it perform"
      ],
      "metadata": {
        "id": "ubLf5zGaMCIG"
      }
    },
    {
      "cell_type": "markdown",
      "source": [
        "### Steps in modelling with TensorFlow: \n",
        "\n",
        "1-**Create a model:** define the input and output layers, as well as the hidden layers of a deep learning model \n",
        "\n",
        "2-**Compile the model:** define the **Loss function**(in other words, the function will tell our model how wrong it is) and the **optimizer** (tells our model how to improve the patterns of it's learning) and **evaluation metrics** (what we can use to interpret the performance of our model)\n",
        "\n",
        "3-**Fit the model:** letting the model try to find patterns between X and y (features and labels)"
      ],
      "metadata": {
        "id": "A1J60-7E0OAI"
      }
    },
    {
      "cell_type": "code",
      "source": [
        "# Set random for max reproducibility: \n",
        "tf.random.set_seed(42)\n",
        "\n",
        "# Build a neural network for our data: \n",
        "# Step.1  create the model: \n",
        "model2 = tf.keras.Sequential([\n",
        "         tf.keras.layers.Dense(10, name=\"layer1\"),\n",
        "         tf.keras.layers.Dense(5, name=\"layer2\"),\n",
        "         tf.keras.layers.Dense(5, name=\"layer3\"),\n",
        "         tf.keras.layers.Dense(1, name=\"layer4\")                      \n",
        "])\n",
        "\n",
        "# Step.2 compile the model: \n",
        "model2.compile(loss = tf.keras.losses.mae, \n",
        "               optimizer = tf.keras.optimizers.Adam(), \n",
        "               metrics = [\"mae\"])\n",
        "\n",
        "# Step.3 fit the model: \n",
        "history=model2.fit(tf.expand_dims(X_train, axis=-1), y_train, epochs = 100, verbose=0)\n",
        "\n",
        "# Display the learning curve of the model: \n",
        "pd.DataFrame(history.history).plot()\n",
        "plt.xlabel(\"epochs\")\n",
        "plt.ylabel(\"losses\")"
      ],
      "metadata": {
        "colab": {
          "base_uri": "https://localhost:8080/",
          "height": 296
        },
        "id": "DxDNuVAD1Die",
        "outputId": "9e4f0294-8070-4e4f-9c44-26388cf881aa"
      },
      "execution_count": null,
      "outputs": [
        {
          "output_type": "execute_result",
          "data": {
            "text/plain": [
              "Text(0, 0.5, 'losses')"
            ]
          },
          "metadata": {},
          "execution_count": 67
        },
        {
          "output_type": "display_data",
          "data": {
            "text/plain": [
              "<Figure size 432x288 with 1 Axes>"
            ],
            "image/png": "[encoded data removed]"
          },
          "metadata": {
            "needs_background": "light"
          }
        }
      ]
    },
    {
      "cell_type": "code",
      "source": [
        "# Summary of the model: \n",
        "model2.summary()"
      ],
      "metadata": {
        "colab": {
          "base_uri": "https://localhost:8080/"
        },
        "id": "Voh68AYI3_Xu",
        "outputId": "b1fef05c-89cc-42a0-8331-780407772793"
      },
      "execution_count": null,
      "outputs": [
        {
          "output_type": "stream",
          "name": "stdout",
          "text": [
            "Model: \"sequential_15\"\n",
            "_________________________________________________________________\n",
            " Layer (type)                Output Shape              Param #   \n",
            "=================================================================\n",
            " layer1 (Dense)              (None, 10)                20        \n",
            "                                                                 \n",
            " layer2 (Dense)              (None, 5)                 55        \n",
            "                                                                 \n",
            " layer3 (Dense)              (None, 5)                 30        \n",
            "                                                                 \n",
            " layer4 (Dense)              (None, 1)                 6         \n",
            "                                                                 \n",
            "=================================================================\n",
            "Total params: 111\n",
            "Trainable params: 111\n",
            "Non-trainable params: 0\n",
            "_________________________________________________________________\n"
          ]
        }
      ]
    },
    {
      "cell_type": "code",
      "source": [
        "# Plot the model: \n",
        "from tensorflow.keras.utils import plot_model \n",
        "plot_model(model=model2, show_shapes=True)"
      ],
      "metadata": {
        "colab": {
          "base_uri": "https://localhost:8080/",
          "height": 533
        },
        "id": "j1bmO1dE4GPE",
        "outputId": "c2b1ec51-bea6-453c-9572-ebc99d75ff29"
      },
      "execution_count": null,
      "outputs": [
        {
          "output_type": "execute_result",
          "data": {
            "text/plain": [
              "<IPython.core.display.Image object>"
            ],
            "image/png": "[encoded data removed]"
          },
          "metadata": {},
          "execution_count": 69
        }
      ]
    },
    {
      "cell_type": "code",
      "source": [
        "# Let's make some predictions with our second model: \n",
        "y_preds2 = model2.predict(X_test)\n",
        "len(y_preds2), y_preds.shape, y_preds2.ndim, y_preds2.dtype"
      ],
      "metadata": {
        "colab": {
          "base_uri": "https://localhost:8080/"
        },
        "id": "QhL5kX1q4oSm",
        "outputId": "41e18f9e-105d-4be6-cf11-404df9f4c786"
      },
      "execution_count": null,
      "outputs": [
        {
          "output_type": "stream",
          "name": "stdout",
          "text": [
            "WARNING:tensorflow:5 out of the last 7 calls to <function Model.make_predict_function.<locals>.predict_function at 0x7f98cb966200> triggered tf.function retracing. Tracing is expensive and the excessive number of tracings could be due to (1) creating @tf.function repeatedly in a loop, (2) passing tensors with different shapes, (3) passing Python objects instead of tensors. For (1), please define your @tf.function outside of the loop. For (2), @tf.function has experimental_relax_shapes=True option that relaxes argument shapes that can avoid unnecessary retracing. For (3), please refer to https://www.tensorflow.org/guide/function#controlling_retracing and https://www.tensorflow.org/api_docs/python/tf/function for  more details.\n"
          ]
        },
        {
          "output_type": "execute_result",
          "data": {
            "text/plain": [
              "(12, (12, 1), 2, dtype('float32'))"
            ]
          },
          "metadata": {},
          "execution_count": 70
        }
      ]
    },
    {
      "cell_type": "code",
      "source": [
        "# Let's visualite our data (Training, Testing, Predictions):\n",
        "plot_predictions(predictions = y_preds2)"
      ],
      "metadata": {
        "colab": {
          "base_uri": "https://localhost:8080/",
          "height": 483
        },
        "id": "I71xWbqS5E-P",
        "outputId": "8aa01ece-b19b-48ec-ddee-28bf733339d9"
      },
      "execution_count": null,
      "outputs": [
        {
          "output_type": "display_data",
          "data": {
            "text/plain": [
              "<Figure size 576x576 with 1 Axes>"
            ],
            "image/png": "[encoded data removed]"
          },
          "metadata": {
            "needs_background": "light"
          }
        }
      ]
    },
    {
      "cell_type": "markdown",
      "source": [
        "### # We can see that our model did well in predicting the outputs(well to be hones tried to find the right combination of parameters). If we want to improve the model, we can just altear the steps we took to create our model: \n",
        "\n",
        "1-**Creating the model:** here we night add more layers, increase the number of hidden units whitin each of the hidden layers, change the activation function of each layer. \n",
        "\n",
        "2-**Compile a model:** here we might change the opimization function or perhaps the learning rate of the optimization function \n",
        "\n",
        "3-**Fitting a model:** here we might fit a model for more epochs (leave it training for longer) or on more data (give the model more examples to learn from)"
      ],
      "metadata": {
        "id": "Oq1J1JaS5sNU"
      }
    },
    {
      "cell_type": "markdown",
      "source": [
        "##3- Try and improve the results we got on the insurance dataset, some things you might want to try include:\n",
        "\n",
        "- Building a larger model (how does one with 4 layers go?)\n",
        "\n",
        "- Increasing the number of units in each layer\n",
        "\n",
        "- Lookup the documentation of Adam and find out what the first paramater is, what happens if you increase it by 10x? \n",
        "\n",
        "- What happens if you train for longer (say 300 epochs instead of 200)\n"
      ],
      "metadata": {
        "id": "QWhCDZWq8RHN"
      }
    },
    {
      "cell_type": "markdown",
      "source": [
        "### Building a larger model (how does one with 4 dense layers go?)"
      ],
      "metadata": {
        "id": "rD9L66QZO_Ta"
      }
    },
    {
      "cell_type": "code",
      "source": [
        "# Let's download the data: \n",
        "import pandas as pd \n",
        "import numpy as np\n",
        "\n",
        "df = pd.read_csv(\"https://raw.githubusercontent.com/stedy/Machine-Learning-with-R-datasets/master/insurance.csv\")\n",
        "df.shape"
      ],
      "metadata": {
        "colab": {
          "base_uri": "https://localhost:8080/"
        },
        "id": "2WkEVIgOPGFc",
        "outputId": "adb97dba-5df3-4886-c27b-8c357d608a45"
      },
      "execution_count": 2,
      "outputs": [
        {
          "output_type": "execute_result",
          "data": {
            "text/plain": [
              "(1338, 7)"
            ]
          },
          "metadata": {},
          "execution_count": 2
        }
      ]
    },
    {
      "cell_type": "markdown",
      "source": [
        "Our insurance data has 1338 and 7 columns"
      ],
      "metadata": {
        "id": "yMUitb1ZPhSa"
      }
    },
    {
      "cell_type": "code",
      "source": [
        "# Take a look at the data: \n",
        "df.head()"
      ],
      "metadata": {
        "colab": {
          "base_uri": "https://localhost:8080/",
          "height": 206
        },
        "id": "ACJZSRrUPlrh",
        "outputId": "544c181f-1f70-4edc-f18f-9c8704c80566"
      },
      "execution_count": 3,
      "outputs": [
        {
          "output_type": "execute_result",
          "data": {
            "text/plain": [
              "   age     sex     bmi  children smoker     region      charges\n",
              "0   19  female  27.900         0    yes  southwest  16884.92400\n",
              "1   18    male  33.770         1     no  southeast   1725.55230\n",
              "2   28    male  33.000         3     no  southeast   4449.46200\n",
              "3   33    male  22.705         0     no  northwest  21984.47061\n",
              "4   32    male  28.880         0     no  northwest   3866.85520"
            ],
            "text/html": [
              "\n",
              "  <div id=\"df-97949594-1d9e-4d11-a4e5-dc226afe6a85\">\n",
              "    <div class=\"colab-df-container\">\n",
              "      <div>\n",
              "<style scoped>\n",
              "    .dataframe tbody tr th:only-of-type {\n",
              "        vertical-align: middle;\n",
              "    }\n",
              "\n",
              "    .dataframe tbody tr th {\n",
              "        vertical-align: top;\n",
              "    }\n",
              "\n",
              "    .dataframe thead th {\n",
              "        text-align: right;\n",
              "    }\n",
              "</style>\n",
              "<table border=\"1\" class=\"dataframe\">\n",
              "  <thead>\n",
              "    <tr style=\"text-align: right;\">\n",
              "      <th></th>\n",
              "      <th>age</th>\n",
              "      <th>sex</th>\n",
              "      <th>bmi</th>\n",
              "      <th>children</th>\n",
              "      <th>smoker</th>\n",
              "      <th>region</th>\n",
              "      <th>charges</th>\n",
              "    </tr>\n",
              "  </thead>\n",
              "  <tbody>\n",
              "    <tr>\n",
              "      <th>0</th>\n",
              "      <td>19</td>\n",
              "      <td>female</td>\n",
              "      <td>27.900</td>\n",
              "      <td>0</td>\n",
              "      <td>yes</td>\n",
              "      <td>southwest</td>\n",
              "      <td>16884.92400</td>\n",
              "    </tr>\n",
              "    <tr>\n",
              "      <th>1</th>\n",
              "      <td>18</td>\n",
              "      <td>male</td>\n",
              "      <td>33.770</td>\n",
              "      <td>1</td>\n",
              "      <td>no</td>\n",
              "      <td>southeast</td>\n",
              "      <td>1725.55230</td>\n",
              "    </tr>\n",
              "    <tr>\n",
              "      <th>2</th>\n",
              "      <td>28</td>\n",
              "      <td>male</td>\n",
              "      <td>33.000</td>\n",
              "      <td>3</td>\n",
              "      <td>no</td>\n",
              "      <td>southeast</td>\n",
              "      <td>4449.46200</td>\n",
              "    </tr>\n",
              "    <tr>\n",
              "      <th>3</th>\n",
              "      <td>33</td>\n",
              "      <td>male</td>\n",
              "      <td>22.705</td>\n",
              "      <td>0</td>\n",
              "      <td>no</td>\n",
              "      <td>northwest</td>\n",
              "      <td>21984.47061</td>\n",
              "    </tr>\n",
              "    <tr>\n",
              "      <th>4</th>\n",
              "      <td>32</td>\n",
              "      <td>male</td>\n",
              "      <td>28.880</td>\n",
              "      <td>0</td>\n",
              "      <td>no</td>\n",
              "      <td>northwest</td>\n",
              "      <td>3866.85520</td>\n",
              "    </tr>\n",
              "  </tbody>\n",
              "</table>\n",
              "</div>\n",
              "      <button class=\"colab-df-convert\" onclick=\"convertToInteractive('df-97949594-1d9e-4d11-a4e5-dc226afe6a85')\"\n",
              "              title=\"Convert this dataframe to an interactive table.\"\n",
              "              style=\"display:none;\">\n",
              "        \n",
              "  <svg xmlns=\"http://www.w3.org/2000/svg\" height=\"24px\"viewBox=\"0 0 24 24\"\n",
              "       width=\"24px\">\n",
              "    <path d=\"M0 0h24v24H0V0z\" fill=\"none\"/>\n",
              "    <path d=\"M18.56 5.44l.94 2.06.94-2.06 2.06-.94-2.06-.94-.94-2.06-.94 2.06-2.06.94zm-11 1L8.5 8.5l.94-2.06 2.06-.94-2.06-.94L8.5 2.5l-.94 2.06-2.06.94zm10 10l.94 2.06.94-2.06 2.06-.94-2.06-.94-.94-2.06-.94 2.06-2.06.94z\"/><path d=\"M17.41 7.96l-1.37-1.37c-.4-.4-.92-.59-1.43-.59-.52 0-1.04.2-1.43.59L10.3 9.45l-7.72 7.72c-.78.78-.78 2.05 0 2.83L4 21.41c.39.39.9.59 1.41.59.51 0 1.02-.2 1.41-.59l7.78-7.78 2.81-2.81c.8-.78.8-2.07 0-2.86zM5.41 20L4 18.59l7.72-7.72 1.47 1.35L5.41 20z\"/>\n",
              "  </svg>\n",
              "      </button>\n",
              "      \n",
              "  <style>\n",
              "    .colab-df-container {\n",
              "      display:flex;\n",
              "      flex-wrap:wrap;\n",
              "      gap: 12px;\n",
              "    }\n",
              "\n",
              "    .colab-df-convert {\n",
              "      background-color: #E8F0FE;\n",
              "      border: none;\n",
              "      border-radius: 50%;\n",
              "      cursor: pointer;\n",
              "      display: none;\n",
              "      fill: #1967D2;\n",
              "      height: 32px;\n",
              "      padding: 0 0 0 0;\n",
              "      width: 32px;\n",
              "    }\n",
              "\n",
              "    .colab-df-convert:hover {\n",
              "      background-color: #E2EBFA;\n",
              "      box-shadow: 0px 1px 2px rgba(60, 64, 67, 0.3), 0px 1px 3px 1px rgba(60, 64, 67, 0.15);\n",
              "      fill: #174EA6;\n",
              "    }\n",
              "\n",
              "    [theme=dark] .colab-df-convert {\n",
              "      background-color: #3B4455;\n",
              "      fill: #D2E3FC;\n",
              "    }\n",
              "\n",
              "    [theme=dark] .colab-df-convert:hover {\n",
              "      background-color: #434B5C;\n",
              "      box-shadow: 0px 1px 3px 1px rgba(0, 0, 0, 0.15);\n",
              "      filter: drop-shadow(0px 1px 2px rgba(0, 0, 0, 0.3));\n",
              "      fill: #FFFFFF;\n",
              "    }\n",
              "  </style>\n",
              "\n",
              "      <script>\n",
              "        const buttonEl =\n",
              "          document.querySelector('#df-97949594-1d9e-4d11-a4e5-dc226afe6a85 button.colab-df-convert');\n",
              "        buttonEl.style.display =\n",
              "          google.colab.kernel.accessAllowed ? 'block' : 'none';\n",
              "\n",
              "        async function convertToInteractive(key) {\n",
              "          const element = document.querySelector('#df-97949594-1d9e-4d11-a4e5-dc226afe6a85');\n",
              "          const dataTable =\n",
              "            await google.colab.kernel.invokeFunction('convertToInteractive',\n",
              "                                                     [key], {});\n",
              "          if (!dataTable) return;\n",
              "\n",
              "          const docLinkHtml = 'Like what you see? Visit the ' +\n",
              "            '<a target=\"_blank\" href=https://colab.research.google.com/notebooks/data_table.ipynb>data table notebook</a>'\n",
              "            + ' to learn more about interactive tables.';\n",
              "          element.innerHTML = '';\n",
              "          dataTable['output_type'] = 'display_data';\n",
              "          await google.colab.output.renderOutput(dataTable, element);\n",
              "          const docLink = document.createElement('div');\n",
              "          docLink.innerHTML = docLinkHtml;\n",
              "          element.appendChild(docLink);\n",
              "        }\n",
              "      </script>\n",
              "    </div>\n",
              "  </div>\n",
              "  "
            ]
          },
          "metadata": {},
          "execution_count": 3
        }
      ]
    },
    {
      "cell_type": "markdown",
      "source": [
        "We hame some categorical variables, let's convert those columns into numerical values using pandas."
      ],
      "metadata": {
        "id": "Pm6-F0hnPtnb"
      }
    },
    {
      "cell_type": "code",
      "source": [
        "# Turn categorical into numbers:\n",
        "data_one_hot = pd.get_dummies(df)\n",
        "data_one_hot.head()"
      ],
      "metadata": {
        "colab": {
          "base_uri": "https://localhost:8080/",
          "height": 206
        },
        "id": "U79iI4vlP7JK",
        "outputId": "598a14df-9c80-48c9-9738-c0b92f84c1c7"
      },
      "execution_count": 4,
      "outputs": [
        {
          "output_type": "execute_result",
          "data": {
            "text/plain": [
              "   age     bmi  children      charges  sex_female  sex_male  smoker_no  \\\n",
              "0   19  27.900         0  16884.92400           1         0          0   \n",
              "1   18  33.770         1   1725.55230           0         1          1   \n",
              "2   28  33.000         3   4449.46200           0         1          1   \n",
              "3   33  22.705         0  21984.47061           0         1          1   \n",
              "4   32  28.880         0   3866.85520           0         1          1   \n",
              "\n",
              "   smoker_yes  region_northeast  region_northwest  region_southeast  \\\n",
              "0           1                 0                 0                 0   \n",
              "1           0                 0                 0                 1   \n",
              "2           0                 0                 0                 1   \n",
              "3           0                 0                 1                 0   \n",
              "4           0                 0                 1                 0   \n",
              "\n",
              "   region_southwest  \n",
              "0                 1  \n",
              "1                 0  \n",
              "2                 0  \n",
              "3                 0  \n",
              "4                 0  "
            ],
            "text/html": [
              "\n",
              "  <div id=\"df-04014f6f-7b6f-4bb0-8c9f-6d3ab1cf4fdc\">\n",
              "    <div class=\"colab-df-container\">\n",
              "      <div>\n",
              "<style scoped>\n",
              "    .dataframe tbody tr th:only-of-type {\n",
              "        vertical-align: middle;\n",
              "    }\n",
              "\n",
              "    .dataframe tbody tr th {\n",
              "        vertical-align: top;\n",
              "    }\n",
              "\n",
              "    .dataframe thead th {\n",
              "        text-align: right;\n",
              "    }\n",
              "</style>\n",
              "<table border=\"1\" class=\"dataframe\">\n",
              "  <thead>\n",
              "    <tr style=\"text-align: right;\">\n",
              "      <th></th>\n",
              "      <th>age</th>\n",
              "      <th>bmi</th>\n",
              "      <th>children</th>\n",
              "      <th>charges</th>\n",
              "      <th>sex_female</th>\n",
              "      <th>sex_male</th>\n",
              "      <th>smoker_no</th>\n",
              "      <th>smoker_yes</th>\n",
              "      <th>region_northeast</th>\n",
              "      <th>region_northwest</th>\n",
              "      <th>region_southeast</th>\n",
              "      <th>region_southwest</th>\n",
              "    </tr>\n",
              "  </thead>\n",
              "  <tbody>\n",
              "    <tr>\n",
              "      <th>0</th>\n",
              "      <td>19</td>\n",
              "      <td>27.900</td>\n",
              "      <td>0</td>\n",
              "      <td>16884.92400</td>\n",
              "      <td>1</td>\n",
              "      <td>0</td>\n",
              "      <td>0</td>\n",
              "      <td>1</td>\n",
              "      <td>0</td>\n",
              "      <td>0</td>\n",
              "      <td>0</td>\n",
              "      <td>1</td>\n",
              "    </tr>\n",
              "    <tr>\n",
              "      <th>1</th>\n",
              "      <td>18</td>\n",
              "      <td>33.770</td>\n",
              "      <td>1</td>\n",
              "      <td>1725.55230</td>\n",
              "      <td>0</td>\n",
              "      <td>1</td>\n",
              "      <td>1</td>\n",
              "      <td>0</td>\n",
              "      <td>0</td>\n",
              "      <td>0</td>\n",
              "      <td>1</td>\n",
              "      <td>0</td>\n",
              "    </tr>\n",
              "    <tr>\n",
              "      <th>2</th>\n",
              "      <td>28</td>\n",
              "      <td>33.000</td>\n",
              "      <td>3</td>\n",
              "      <td>4449.46200</td>\n",
              "      <td>0</td>\n",
              "      <td>1</td>\n",
              "      <td>1</td>\n",
              "      <td>0</td>\n",
              "      <td>0</td>\n",
              "      <td>0</td>\n",
              "      <td>1</td>\n",
              "      <td>0</td>\n",
              "    </tr>\n",
              "    <tr>\n",
              "      <th>3</th>\n",
              "      <td>33</td>\n",
              "      <td>22.705</td>\n",
              "      <td>0</td>\n",
              "      <td>21984.47061</td>\n",
              "      <td>0</td>\n",
              "      <td>1</td>\n",
              "      <td>1</td>\n",
              "      <td>0</td>\n",
              "      <td>0</td>\n",
              "      <td>1</td>\n",
              "      <td>0</td>\n",
              "      <td>0</td>\n",
              "    </tr>\n",
              "    <tr>\n",
              "      <th>4</th>\n",
              "      <td>32</td>\n",
              "      <td>28.880</td>\n",
              "      <td>0</td>\n",
              "      <td>3866.85520</td>\n",
              "      <td>0</td>\n",
              "      <td>1</td>\n",
              "      <td>1</td>\n",
              "      <td>0</td>\n",
              "      <td>0</td>\n",
              "      <td>1</td>\n",
              "      <td>0</td>\n",
              "      <td>0</td>\n",
              "    </tr>\n",
              "  </tbody>\n",
              "</table>\n",
              "</div>\n",
              "      <button class=\"colab-df-convert\" onclick=\"convertToInteractive('df-04014f6f-7b6f-4bb0-8c9f-6d3ab1cf4fdc')\"\n",
              "              title=\"Convert this dataframe to an interactive table.\"\n",
              "              style=\"display:none;\">\n",
              "        \n",
              "  <svg xmlns=\"http://www.w3.org/2000/svg\" height=\"24px\"viewBox=\"0 0 24 24\"\n",
              "       width=\"24px\">\n",
              "    <path d=\"M0 0h24v24H0V0z\" fill=\"none\"/>\n",
              "    <path d=\"M18.56 5.44l.94 2.06.94-2.06 2.06-.94-2.06-.94-.94-2.06-.94 2.06-2.06.94zm-11 1L8.5 8.5l.94-2.06 2.06-.94-2.06-.94L8.5 2.5l-.94 2.06-2.06.94zm10 10l.94 2.06.94-2.06 2.06-.94-2.06-.94-.94-2.06-.94 2.06-2.06.94z\"/><path d=\"M17.41 7.96l-1.37-1.37c-.4-.4-.92-.59-1.43-.59-.52 0-1.04.2-1.43.59L10.3 9.45l-7.72 7.72c-.78.78-.78 2.05 0 2.83L4 21.41c.39.39.9.59 1.41.59.51 0 1.02-.2 1.41-.59l7.78-7.78 2.81-2.81c.8-.78.8-2.07 0-2.86zM5.41 20L4 18.59l7.72-7.72 1.47 1.35L5.41 20z\"/>\n",
              "  </svg>\n",
              "      </button>\n",
              "      \n",
              "  <style>\n",
              "    .colab-df-container {\n",
              "      display:flex;\n",
              "      flex-wrap:wrap;\n",
              "      gap: 12px;\n",
              "    }\n",
              "\n",
              "    .colab-df-convert {\n",
              "      background-color: #E8F0FE;\n",
              "      border: none;\n",
              "      border-radius: 50%;\n",
              "      cursor: pointer;\n",
              "      display: none;\n",
              "      fill: #1967D2;\n",
              "      height: 32px;\n",
              "      padding: 0 0 0 0;\n",
              "      width: 32px;\n",
              "    }\n",
              "\n",
              "    .colab-df-convert:hover {\n",
              "      background-color: #E2EBFA;\n",
              "      box-shadow: 0px 1px 2px rgba(60, 64, 67, 0.3), 0px 1px 3px 1px rgba(60, 64, 67, 0.15);\n",
              "      fill: #174EA6;\n",
              "    }\n",
              "\n",
              "    [theme=dark] .colab-df-convert {\n",
              "      background-color: #3B4455;\n",
              "      fill: #D2E3FC;\n",
              "    }\n",
              "\n",
              "    [theme=dark] .colab-df-convert:hover {\n",
              "      background-color: #434B5C;\n",
              "      box-shadow: 0px 1px 3px 1px rgba(0, 0, 0, 0.15);\n",
              "      filter: drop-shadow(0px 1px 2px rgba(0, 0, 0, 0.3));\n",
              "      fill: #FFFFFF;\n",
              "    }\n",
              "  </style>\n",
              "\n",
              "      <script>\n",
              "        const buttonEl =\n",
              "          document.querySelector('#df-04014f6f-7b6f-4bb0-8c9f-6d3ab1cf4fdc button.colab-df-convert');\n",
              "        buttonEl.style.display =\n",
              "          google.colab.kernel.accessAllowed ? 'block' : 'none';\n",
              "\n",
              "        async function convertToInteractive(key) {\n",
              "          const element = document.querySelector('#df-04014f6f-7b6f-4bb0-8c9f-6d3ab1cf4fdc');\n",
              "          const dataTable =\n",
              "            await google.colab.kernel.invokeFunction('convertToInteractive',\n",
              "                                                     [key], {});\n",
              "          if (!dataTable) return;\n",
              "\n",
              "          const docLinkHtml = 'Like what you see? Visit the ' +\n",
              "            '<a target=\"_blank\" href=https://colab.research.google.com/notebooks/data_table.ipynb>data table notebook</a>'\n",
              "            + ' to learn more about interactive tables.';\n",
              "          element.innerHTML = '';\n",
              "          dataTable['output_type'] = 'display_data';\n",
              "          await google.colab.output.renderOutput(dataTable, element);\n",
              "          const docLink = document.createElement('div');\n",
              "          docLink.innerHTML = docLinkHtml;\n",
              "          element.appendChild(docLink);\n",
              "        }\n",
              "      </script>\n",
              "    </div>\n",
              "  </div>\n",
              "  "
            ]
          },
          "metadata": {},
          "execution_count": 4
        }
      ]
    },
    {
      "cell_type": "code",
      "source": [
        "# Splitting the data to Features (X) and labels (y):\n",
        "# Features:  \n",
        "X = data_one_hot.drop(\"charges\", axis=1)\n",
        "# Labels: \n",
        "y = data_one_hot[\"charges\"]\n",
        "\n",
        "# Take look at the shape of X and y: \n",
        "X.shape, y.shape"
      ],
      "metadata": {
        "colab": {
          "base_uri": "https://localhost:8080/"
        },
        "id": "aJyq_Gc5QH90",
        "outputId": "8f2046d4-ce9a-4e03-9d3c-468fc70579de"
      },
      "execution_count": 6,
      "outputs": [
        {
          "output_type": "execute_result",
          "data": {
            "text/plain": [
              "((1338, 11), (1338,))"
            ]
          },
          "metadata": {},
          "execution_count": 6
        }
      ]
    },
    {
      "cell_type": "code",
      "source": [
        "from sklearn.model_selection import train_test_split\n",
        "# Splitting the data into Training and Testing: \n",
        "X_train, X_test, y_train ,y_test = train_test_split(X, y, test_size=0.2, random_state=42)\n",
        "\n",
        "# Take a look at the shape of the training and testing sets:\n",
        "X_train.shape, X_test.shape, y_train.shape, y_test.shape"
      ],
      "metadata": {
        "colab": {
          "base_uri": "https://localhost:8080/"
        },
        "id": "oQeIoYEjQr4j",
        "outputId": "af39501a-79dd-48b3-9555-c1739a351f03"
      },
      "execution_count": 8,
      "outputs": [
        {
          "output_type": "execute_result",
          "data": {
            "text/plain": [
              "((1070, 11), (268, 11), (1070,), (268,))"
            ]
          },
          "metadata": {},
          "execution_count": 8
        }
      ]
    },
    {
      "cell_type": "code",
      "source": [
        "import tensorflow as tf\n",
        "# Building the model with 4 dense layers and more units \n",
        "tf.random.set_seed(42)\n",
        "\n",
        "# 1.Create the model: \n",
        "model = tf.keras.Sequential([\n",
        "        tf.keras.layers.Dense(300, name=\"layer_1\"), \n",
        "        tf.keras.layers.Dense(200, name=\"layer_2\"),\n",
        "        tf.keras.layers.Dense(100, name=\"layer_3\"),\n",
        "        tf.keras.layers.Dense(50,  name=\"layer_4\"), \n",
        "        tf.keras.layers.Dense(1,   name=\"output_layer\")                   \n",
        "])\n",
        "\n",
        "# 2.Compile the model: \n",
        "model.compile(loss=tf.keras.losses.mae,\n",
        "              optimizer = tf.keras.optimizers.Adam(), \n",
        "              metrics=[\"mae\"])\n",
        "\n",
        "# 3.Fit the model: \n",
        "history_model = model.fit(tf.expand_dims(X_train, axis=-1), y_train, epochs=100)"
      ],
      "metadata": {
        "colab": {
          "base_uri": "https://localhost:8080/"
        },
        "id": "3ZMZaMu9Rhfd",
        "outputId": "b689af33-92ef-4f0c-d959-d879668cc2ce"
      },
      "execution_count": 10,
      "outputs": [
        {
          "output_type": "stream",
          "name": "stdout",
          "text": [
            "Epoch 1/100\n",
            "34/34 [==============================] - 2s 9ms/step - loss: 12907.1611 - mae: 12907.1611\n",
            "Epoch 2/100\n",
            "34/34 [==============================] - 0s 10ms/step - loss: 12179.2549 - mae: 12179.2549\n",
            "Epoch 3/100\n",
            "34/34 [==============================] - 0s 9ms/step - loss: 11955.6572 - mae: 11955.6572\n",
            "Epoch 4/100\n",
            "34/34 [==============================] - 0s 10ms/step - loss: 10579.5078 - mae: 10579.5078\n",
            "Epoch 5/100\n",
            "34/34 [==============================] - 0s 9ms/step - loss: 8336.3320 - mae: 8336.3320\n",
            "Epoch 6/100\n",
            "34/34 [==============================] - 0s 8ms/step - loss: 8326.3887 - mae: 8326.3887\n",
            "Epoch 7/100\n",
            "34/34 [==============================] - 0s 8ms/step - loss: 8313.6396 - mae: 8313.6396\n",
            "Epoch 8/100\n",
            "34/34 [==============================] - 0s 8ms/step - loss: 8342.3027 - mae: 8342.3027\n",
            "Epoch 9/100\n",
            "34/34 [==============================] - 0s 8ms/step - loss: 8307.5059 - mae: 8307.5059\n",
            "Epoch 10/100\n",
            "34/34 [==============================] - 0s 8ms/step - loss: 8312.4336 - mae: 8312.4336\n",
            "Epoch 11/100\n",
            "34/34 [==============================] - 0s 8ms/step - loss: 8417.2686 - mae: 8417.2686\n",
            "Epoch 12/100\n",
            "34/34 [==============================] - 0s 8ms/step - loss: 8376.8682 - mae: 8376.8682\n",
            "Epoch 13/100\n",
            "34/34 [==============================] - 0s 8ms/step - loss: 8382.2617 - mae: 8382.2617\n",
            "Epoch 14/100\n",
            "34/34 [==============================] - 0s 8ms/step - loss: 8300.6592 - mae: 8300.6592\n",
            "Epoch 15/100\n",
            "34/34 [==============================] - 0s 8ms/step - loss: 8313.1982 - mae: 8313.1982\n",
            "Epoch 16/100\n",
            "34/34 [==============================] - 0s 9ms/step - loss: 8288.7207 - mae: 8288.7207\n",
            "Epoch 17/100\n",
            "34/34 [==============================] - 0s 9ms/step - loss: 8304.8389 - mae: 8304.8389\n",
            "Epoch 18/100\n",
            "34/34 [==============================] - 0s 9ms/step - loss: 8291.3779 - mae: 8291.3779\n",
            "Epoch 19/100\n",
            "34/34 [==============================] - 0s 10ms/step - loss: 8297.5830 - mae: 8297.5830\n",
            "Epoch 20/100\n",
            "34/34 [==============================] - 0s 9ms/step - loss: 8302.3301 - mae: 8302.3301\n",
            "Epoch 21/100\n",
            "34/34 [==============================] - 0s 9ms/step - loss: 8289.4287 - mae: 8289.4287\n",
            "Epoch 22/100\n",
            "34/34 [==============================] - 0s 9ms/step - loss: 8300.4688 - mae: 8300.4688\n",
            "Epoch 23/100\n",
            "34/34 [==============================] - 0s 9ms/step - loss: 8303.9609 - mae: 8303.9609\n",
            "Epoch 24/100\n",
            "34/34 [==============================] - 0s 9ms/step - loss: 8287.8115 - mae: 8287.8115\n",
            "Epoch 25/100\n",
            "34/34 [==============================] - 0s 9ms/step - loss: 8304.1973 - mae: 8304.1973\n",
            "Epoch 26/100\n",
            "34/34 [==============================] - 0s 9ms/step - loss: 8313.6348 - mae: 8313.6348\n",
            "Epoch 27/100\n",
            "34/34 [==============================] - 0s 8ms/step - loss: 8287.9189 - mae: 8287.9189\n",
            "Epoch 28/100\n",
            "34/34 [==============================] - 0s 8ms/step - loss: 8287.0986 - mae: 8287.0986\n",
            "Epoch 29/100\n",
            "34/34 [==============================] - 0s 8ms/step - loss: 8295.6201 - mae: 8295.6201\n",
            "Epoch 30/100\n",
            "34/34 [==============================] - 0s 8ms/step - loss: 8299.2393 - mae: 8299.2393\n",
            "Epoch 31/100\n",
            "34/34 [==============================] - 0s 8ms/step - loss: 8283.5469 - mae: 8283.5469\n",
            "Epoch 32/100\n",
            "34/34 [==============================] - 0s 9ms/step - loss: 8303.5498 - mae: 8303.5498\n",
            "Epoch 33/100\n",
            "34/34 [==============================] - 0s 9ms/step - loss: 8281.4268 - mae: 8281.4268\n",
            "Epoch 34/100\n",
            "34/34 [==============================] - 0s 9ms/step - loss: 8311.8320 - mae: 8311.8320\n",
            "Epoch 35/100\n",
            "34/34 [==============================] - 0s 9ms/step - loss: 8347.3008 - mae: 8347.3008\n",
            "Epoch 36/100\n",
            "34/34 [==============================] - 0s 9ms/step - loss: 8328.4941 - mae: 8328.4941\n",
            "Epoch 37/100\n",
            "34/34 [==============================] - 0s 9ms/step - loss: 8317.9600 - mae: 8317.9600\n",
            "Epoch 38/100\n",
            "34/34 [==============================] - 0s 10ms/step - loss: 8304.8135 - mae: 8304.8135\n",
            "Epoch 39/100\n",
            "34/34 [==============================] - 0s 9ms/step - loss: 8306.0234 - mae: 8306.0234\n",
            "Epoch 40/100\n",
            "34/34 [==============================] - 0s 9ms/step - loss: 8283.4990 - mae: 8283.4990\n",
            "Epoch 41/100\n",
            "34/34 [==============================] - 0s 9ms/step - loss: 8290.3613 - mae: 8290.3613\n",
            "Epoch 42/100\n",
            "34/34 [==============================] - 0s 9ms/step - loss: 8301.7012 - mae: 8301.7012\n",
            "Epoch 43/100\n",
            "34/34 [==============================] - 0s 9ms/step - loss: 8307.3955 - mae: 8307.3955\n",
            "Epoch 44/100\n",
            "34/34 [==============================] - 0s 9ms/step - loss: 8308.9375 - mae: 8308.9375\n",
            "Epoch 45/100\n",
            "34/34 [==============================] - 0s 9ms/step - loss: 8316.9082 - mae: 8316.9082\n",
            "Epoch 46/100\n",
            "34/34 [==============================] - 0s 8ms/step - loss: 8302.7773 - mae: 8302.7773\n",
            "Epoch 47/100\n",
            "34/34 [==============================] - 0s 8ms/step - loss: 8310.2275 - mae: 8310.2275\n",
            "Epoch 48/100\n",
            "34/34 [==============================] - 0s 8ms/step - loss: 8311.2666 - mae: 8311.2666\n",
            "Epoch 49/100\n",
            "34/34 [==============================] - 0s 8ms/step - loss: 8300.5293 - mae: 8300.5293\n",
            "Epoch 50/100\n",
            "34/34 [==============================] - 0s 8ms/step - loss: 8326.9688 - mae: 8326.9688\n",
            "Epoch 51/100\n",
            "34/34 [==============================] - 0s 8ms/step - loss: 8306.8926 - mae: 8306.8926\n",
            "Epoch 52/100\n",
            "34/34 [==============================] - 0s 8ms/step - loss: 8355.3389 - mae: 8355.3389\n",
            "Epoch 53/100\n",
            "34/34 [==============================] - 0s 8ms/step - loss: 8301.6182 - mae: 8301.6182\n",
            "Epoch 54/100\n",
            "34/34 [==============================] - 0s 8ms/step - loss: 8296.0732 - mae: 8296.0732\n",
            "Epoch 55/100\n",
            "34/34 [==============================] - 0s 8ms/step - loss: 8330.8838 - mae: 8330.8838\n",
            "Epoch 56/100\n",
            "34/34 [==============================] - 0s 8ms/step - loss: 8309.1436 - mae: 8309.1436\n",
            "Epoch 57/100\n",
            "34/34 [==============================] - 0s 9ms/step - loss: 8293.8516 - mae: 8293.8516\n",
            "Epoch 58/100\n",
            "34/34 [==============================] - 0s 9ms/step - loss: 8287.2510 - mae: 8287.2510\n",
            "Epoch 59/100\n",
            "34/34 [==============================] - 0s 9ms/step - loss: 8283.6768 - mae: 8283.6768\n",
            "Epoch 60/100\n",
            "34/34 [==============================] - 0s 9ms/step - loss: 8342.9766 - mae: 8342.9766\n",
            "Epoch 61/100\n",
            "34/34 [==============================] - 0s 9ms/step - loss: 8338.0664 - mae: 8338.0664\n",
            "Epoch 62/100\n",
            "34/34 [==============================] - 0s 10ms/step - loss: 8299.8066 - mae: 8299.8066\n",
            "Epoch 63/100\n",
            "34/34 [==============================] - 0s 10ms/step - loss: 8313.1699 - mae: 8313.1699\n",
            "Epoch 64/100\n",
            "34/34 [==============================] - 0s 10ms/step - loss: 8290.3721 - mae: 8290.3721\n",
            "Epoch 65/100\n",
            "34/34 [==============================] - 0s 9ms/step - loss: 8280.2217 - mae: 8280.2217\n",
            "Epoch 66/100\n",
            "34/34 [==============================] - 0s 9ms/step - loss: 8288.8809 - mae: 8288.8809\n",
            "Epoch 67/100\n",
            "34/34 [==============================] - 0s 9ms/step - loss: 8309.7139 - mae: 8309.7139\n",
            "Epoch 68/100\n",
            "34/34 [==============================] - 0s 9ms/step - loss: 8295.1738 - mae: 8295.1738\n",
            "Epoch 69/100\n",
            "34/34 [==============================] - 0s 9ms/step - loss: 8319.9092 - mae: 8319.9092\n",
            "Epoch 70/100\n",
            "34/34 [==============================] - 0s 9ms/step - loss: 8313.1035 - mae: 8313.1035\n",
            "Epoch 71/100\n",
            "34/34 [==============================] - 0s 9ms/step - loss: 8308.2363 - mae: 8308.2363\n",
            "Epoch 72/100\n",
            "34/34 [==============================] - 0s 9ms/step - loss: 8301.9482 - mae: 8301.9482\n",
            "Epoch 73/100\n",
            "34/34 [==============================] - 0s 9ms/step - loss: 8303.3154 - mae: 8303.3154\n",
            "Epoch 74/100\n",
            "34/34 [==============================] - 0s 9ms/step - loss: 8288.5059 - mae: 8288.5059\n",
            "Epoch 75/100\n",
            "34/34 [==============================] - 0s 9ms/step - loss: 8281.3623 - mae: 8281.3623\n",
            "Epoch 76/100\n",
            "34/34 [==============================] - 0s 9ms/step - loss: 8305.2949 - mae: 8305.2949\n",
            "Epoch 77/100\n",
            "34/34 [==============================] - 0s 8ms/step - loss: 8300.0176 - mae: 8300.0176\n",
            "Epoch 78/100\n",
            "34/34 [==============================] - 0s 8ms/step - loss: 8290.8486 - mae: 8290.8486\n",
            "Epoch 79/100\n",
            "34/34 [==============================] - 0s 9ms/step - loss: 8293.9980 - mae: 8293.9980\n",
            "Epoch 80/100\n",
            "34/34 [==============================] - 0s 8ms/step - loss: 8286.2061 - mae: 8286.2061\n",
            "Epoch 81/100\n",
            "34/34 [==============================] - 0s 8ms/step - loss: 8294.5762 - mae: 8294.5762\n",
            "Epoch 82/100\n",
            "34/34 [==============================] - 0s 8ms/step - loss: 8285.4551 - mae: 8285.4551\n",
            "Epoch 83/100\n",
            "34/34 [==============================] - 0s 9ms/step - loss: 8313.0479 - mae: 8313.0479\n",
            "Epoch 84/100\n",
            "34/34 [==============================] - 0s 8ms/step - loss: 8288.8486 - mae: 8288.8486\n",
            "Epoch 85/100\n",
            "34/34 [==============================] - 0s 8ms/step - loss: 8302.5820 - mae: 8302.5820\n",
            "Epoch 86/100\n",
            "34/34 [==============================] - 0s 9ms/step - loss: 8314.4707 - mae: 8314.4707\n",
            "Epoch 87/100\n",
            "34/34 [==============================] - 0s 8ms/step - loss: 8294.7598 - mae: 8294.7598\n",
            "Epoch 88/100\n",
            "34/34 [==============================] - 0s 8ms/step - loss: 8290.3232 - mae: 8290.3232\n",
            "Epoch 89/100\n",
            "34/34 [==============================] - 0s 8ms/step - loss: 8312.3682 - mae: 8312.3682\n",
            "Epoch 90/100\n",
            "34/34 [==============================] - 0s 8ms/step - loss: 8294.8018 - mae: 8294.8018\n",
            "Epoch 91/100\n",
            "34/34 [==============================] - 0s 8ms/step - loss: 8318.0840 - mae: 8318.0840\n",
            "Epoch 92/100\n",
            "34/34 [==============================] - 0s 8ms/step - loss: 8295.5273 - mae: 8295.5273\n",
            "Epoch 93/100\n",
            "34/34 [==============================] - 0s 8ms/step - loss: 8294.3418 - mae: 8294.3418\n",
            "Epoch 94/100\n",
            "34/34 [==============================] - 0s 8ms/step - loss: 8348.5967 - mae: 8348.5967\n",
            "Epoch 95/100\n",
            "34/34 [==============================] - 0s 8ms/step - loss: 8291.4678 - mae: 8291.4678\n",
            "Epoch 96/100\n",
            "34/34 [==============================] - 0s 8ms/step - loss: 8299.6875 - mae: 8299.6875\n",
            "Epoch 97/100\n",
            "34/34 [==============================] - 0s 9ms/step - loss: 8291.8594 - mae: 8291.8594\n",
            "Epoch 98/100\n",
            "34/34 [==============================] - 0s 9ms/step - loss: 8295.8340 - mae: 8295.8340\n",
            "Epoch 99/100\n",
            "34/34 [==============================] - 0s 10ms/step - loss: 8302.8711 - mae: 8302.8711\n",
            "Epoch 100/100\n",
            "34/34 [==============================] - 0s 9ms/step - loss: 8302.4883 - mae: 8302.4883\n"
          ]
        }
      ]
    },
    {
      "cell_type": "code",
      "source": [
        "from matplotlib import pyplot as plt\n",
        "# Take look at the history of the model: \n",
        "pd.DataFrame(history_model.history).plot()\n",
        "plt.xlabel(\"epochs\")\n",
        "plt.ylabel(\"losses\")"
      ],
      "metadata": {
        "colab": {
          "base_uri": "https://localhost:8080/",
          "height": 297
        },
        "id": "tm8dEvWeUCvs",
        "outputId": "e8e10d5d-2aca-42dc-9928-cecd48ba1f55"
      },
      "execution_count": 13,
      "outputs": [
        {
          "output_type": "execute_result",
          "data": {
            "text/plain": [
              "Text(0, 0.5, 'losses')"
            ]
          },
          "metadata": {},
          "execution_count": 13
        },
        {
          "output_type": "display_data",
          "data": {
            "text/plain": [
              "<Figure size 432x288 with 1 Axes>"
            ],
            "image/png": "[encoded data removed]"
          },
          "metadata": {
            "needs_background": "light"
          }
        }
      ]
    },
    {
      "cell_type": "code",
      "source": [
        "# Let's plot the model: \n",
        "from tensorflow.keras.utils import plot_model\n",
        "plot_model(model=model, show_shapes = True)"
      ],
      "metadata": {
        "colab": {
          "base_uri": "https://localhost:8080/",
          "height": 644
        },
        "id": "XxzD4XdrUkJS",
        "outputId": "844e1243-a25a-4abd-d949-f738040d159c"
      },
      "execution_count": 14,
      "outputs": [
        {
          "output_type": "execute_result",
          "data": {
            "text/plain": [
              "<IPython.core.display.Image object>"
            ],
            "image/png": "[encoded data removed]"
          },
          "metadata": {},
          "execution_count": 14
        }
      ]
    },
    {
      "cell_type": "markdown",
      "source": [
        "### Look-up the documentation of Adam and find out what the first parameter is, what happens if you increase it by 10x? \n",
        "\n",
        "And running for 400 epochs"
      ],
      "metadata": {
        "id": "RPsAwW4yTCQW"
      }
    },
    {
      "cell_type": "code",
      "source": [
        "import tensorflow as tf\n",
        "# Let's tweak the Adam optimizer's Learning rate\n",
        "tf.random.set_seed(42)\n",
        "\n",
        "# 1.Create the model: \n",
        "model_2 = tf.keras.Sequential([\n",
        "          tf.keras.layers.Dense(100, name=\"hidden_layer_1\"), \n",
        "          tf.keras.layers.Dense(100, name=\"hidden_layer_2\"),\n",
        "          tf.keras.layers.Dense(100, name=\"hidden_layer_3\"),\n",
        "          tf.keras.layers.Dense(100, name=\"hidden_layer_4\"),\n",
        "          tf.keras.layers.Dense(1, name=\"output_layer\")\n",
        "\n",
        "])\n",
        "\n",
        "# 2.Compile the model: \n",
        "model_2.compile(loss = tf.keras.losses.mae,\n",
        "                optimizer = tf.keras.optimizers.Adam(learning_rate=0.01),\n",
        "                metrics=['mae'])\n",
        "\n",
        "# 3.Fit the model: \n",
        "model_2_history = model_2.fit(tf.expand_dims(X_train, axis=-1), y_train, epochs=400)"
      ],
      "metadata": {
        "colab": {
          "base_uri": "https://localhost:8080/"
        },
        "id": "LFhqQNiYTUfJ",
        "outputId": "65020cc6-cf83-43c7-ad09-66dfee009ab3"
      },
      "execution_count": 21,
      "outputs": [
        {
          "output_type": "stream",
          "name": "stdout",
          "text": [
            "Epoch 1/400\n",
            "34/34 [==============================] - 1s 7ms/step - loss: 11889.2432 - mae: 11889.2432\n",
            "Epoch 2/400\n",
            "34/34 [==============================] - 0s 7ms/step - loss: 8504.3818 - mae: 8504.3818\n",
            "Epoch 3/400\n",
            "34/34 [==============================] - 0s 8ms/step - loss: 8445.4238 - mae: 8445.4238\n",
            "Epoch 4/400\n",
            "34/34 [==============================] - 0s 6ms/step - loss: 8410.1797 - mae: 8410.1797\n",
            "Epoch 5/400\n",
            "34/34 [==============================] - 0s 5ms/step - loss: 8337.0703 - mae: 8337.0703\n",
            "Epoch 6/400\n",
            "34/34 [==============================] - 0s 5ms/step - loss: 8407.7285 - mae: 8407.7285\n",
            "Epoch 7/400\n",
            "34/34 [==============================] - 0s 5ms/step - loss: 8396.9160 - mae: 8396.9160\n",
            "Epoch 8/400\n",
            "34/34 [==============================] - 0s 5ms/step - loss: 8581.4365 - mae: 8581.4365\n",
            "Epoch 9/400\n",
            "34/34 [==============================] - 0s 5ms/step - loss: 8419.4238 - mae: 8419.4238\n",
            "Epoch 10/400\n",
            "34/34 [==============================] - 0s 4ms/step - loss: 8478.5439 - mae: 8478.5439\n",
            "Epoch 11/400\n",
            "34/34 [==============================] - 0s 5ms/step - loss: 8603.9043 - mae: 8603.9043\n",
            "Epoch 12/400\n",
            "34/34 [==============================] - 0s 5ms/step - loss: 8358.6973 - mae: 8358.6973\n",
            "Epoch 13/400\n",
            "34/34 [==============================] - 0s 5ms/step - loss: 8722.0615 - mae: 8722.0615\n",
            "Epoch 14/400\n",
            "34/34 [==============================] - 0s 5ms/step - loss: 8491.5322 - mae: 8491.5322\n",
            "Epoch 15/400\n",
            "34/34 [==============================] - 0s 5ms/step - loss: 8442.1846 - mae: 8442.1846\n",
            "Epoch 16/400\n",
            "34/34 [==============================] - 0s 5ms/step - loss: 8387.8369 - mae: 8387.8369\n",
            "Epoch 17/400\n",
            "34/34 [==============================] - 0s 5ms/step - loss: 8317.5430 - mae: 8317.5430\n",
            "Epoch 18/400\n",
            "34/34 [==============================] - 0s 5ms/step - loss: 8361.6191 - mae: 8361.6191\n",
            "Epoch 19/400\n",
            "34/34 [==============================] - 0s 5ms/step - loss: 8339.6025 - mae: 8339.6025\n",
            "Epoch 20/400\n",
            "34/34 [==============================] - 0s 5ms/step - loss: 8411.0166 - mae: 8411.0166\n",
            "Epoch 21/400\n",
            "34/34 [==============================] - 0s 5ms/step - loss: 8289.6953 - mae: 8289.6953\n",
            "Epoch 22/400\n",
            "34/34 [==============================] - 0s 5ms/step - loss: 8399.8115 - mae: 8399.8115\n",
            "Epoch 23/400\n",
            "34/34 [==============================] - 0s 5ms/step - loss: 8335.0537 - mae: 8335.0537\n",
            "Epoch 24/400\n",
            "34/34 [==============================] - 0s 5ms/step - loss: 8319.7480 - mae: 8319.7480\n",
            "Epoch 25/400\n",
            "34/34 [==============================] - 0s 5ms/step - loss: 8313.6475 - mae: 8313.6475\n",
            "Epoch 26/400\n",
            "34/34 [==============================] - 0s 5ms/step - loss: 8382.2900 - mae: 8382.2900\n",
            "Epoch 27/400\n",
            "34/34 [==============================] - 0s 5ms/step - loss: 8386.9717 - mae: 8386.9717\n",
            "Epoch 28/400\n",
            "34/34 [==============================] - 0s 5ms/step - loss: 8383.9268 - mae: 8383.9268\n",
            "Epoch 29/400\n",
            "34/34 [==============================] - 0s 5ms/step - loss: 8314.2373 - mae: 8314.2373\n",
            "Epoch 30/400\n",
            "34/34 [==============================] - 0s 5ms/step - loss: 8363.0820 - mae: 8363.0820\n",
            "Epoch 31/400\n",
            "34/34 [==============================] - 0s 5ms/step - loss: 8334.7979 - mae: 8334.7979\n",
            "Epoch 32/400\n",
            "34/34 [==============================] - 0s 5ms/step - loss: 8367.9062 - mae: 8367.9062\n",
            "Epoch 33/400\n",
            "34/34 [==============================] - 0s 7ms/step - loss: 8324.9160 - mae: 8324.9160\n",
            "Epoch 34/400\n",
            "34/34 [==============================] - 0s 7ms/step - loss: 8367.3965 - mae: 8367.3965\n",
            "Epoch 35/400\n",
            "34/34 [==============================] - 0s 6ms/step - loss: 8469.7891 - mae: 8469.7891\n",
            "Epoch 36/400\n",
            "34/34 [==============================] - 0s 7ms/step - loss: 8317.7676 - mae: 8317.7676\n",
            "Epoch 37/400\n",
            "34/34 [==============================] - 0s 5ms/step - loss: 8396.7471 - mae: 8396.7471\n",
            "Epoch 38/400\n",
            "34/34 [==============================] - 0s 5ms/step - loss: 8357.6514 - mae: 8357.6514\n",
            "Epoch 39/400\n",
            "34/34 [==============================] - 0s 4ms/step - loss: 8364.8906 - mae: 8364.8906\n",
            "Epoch 40/400\n",
            "34/34 [==============================] - 0s 5ms/step - loss: 8317.9922 - mae: 8317.9922\n",
            "Epoch 41/400\n",
            "34/34 [==============================] - 0s 5ms/step - loss: 8319.7480 - mae: 8319.7480\n",
            "Epoch 42/400\n",
            "34/34 [==============================] - 0s 5ms/step - loss: 8274.4541 - mae: 8274.4541\n",
            "Epoch 43/400\n",
            "34/34 [==============================] - 0s 5ms/step - loss: 8416.4443 - mae: 8416.4443\n",
            "Epoch 44/400\n",
            "34/34 [==============================] - 0s 5ms/step - loss: 8441.8154 - mae: 8441.8154\n",
            "Epoch 45/400\n",
            "34/34 [==============================] - 0s 5ms/step - loss: 8359.3564 - mae: 8359.3564\n",
            "Epoch 46/400\n",
            "34/34 [==============================] - 0s 5ms/step - loss: 8448.0391 - mae: 8448.0391\n",
            "Epoch 47/400\n",
            "34/34 [==============================] - 0s 5ms/step - loss: 8537.5049 - mae: 8537.5049\n",
            "Epoch 48/400\n",
            "34/34 [==============================] - 0s 5ms/step - loss: 8333.9678 - mae: 8333.9678\n",
            "Epoch 49/400\n",
            "34/34 [==============================] - 0s 5ms/step - loss: 8318.3604 - mae: 8318.3604\n",
            "Epoch 50/400\n",
            "34/34 [==============================] - 0s 5ms/step - loss: 8393.0879 - mae: 8393.0879\n",
            "Epoch 51/400\n",
            "34/34 [==============================] - 0s 5ms/step - loss: 8362.9502 - mae: 8362.9502\n",
            "Epoch 52/400\n",
            "34/34 [==============================] - 0s 5ms/step - loss: 8441.8584 - mae: 8441.8584\n",
            "Epoch 53/400\n",
            "34/34 [==============================] - 0s 5ms/step - loss: 8350.0322 - mae: 8350.0322\n",
            "Epoch 54/400\n",
            "34/34 [==============================] - 0s 5ms/step - loss: 8366.3066 - mae: 8366.3066\n",
            "Epoch 55/400\n",
            "34/34 [==============================] - 0s 5ms/step - loss: 8426.5586 - mae: 8426.5586\n",
            "Epoch 56/400\n",
            "34/34 [==============================] - 0s 5ms/step - loss: 8401.1152 - mae: 8401.1152\n",
            "Epoch 57/400\n",
            "34/34 [==============================] - 0s 5ms/step - loss: 8357.9453 - mae: 8357.9453\n",
            "Epoch 58/400\n",
            "34/34 [==============================] - 0s 5ms/step - loss: 8306.7598 - mae: 8306.7598\n",
            "Epoch 59/400\n",
            "34/34 [==============================] - 0s 5ms/step - loss: 8302.2783 - mae: 8302.2783\n",
            "Epoch 60/400\n",
            "34/34 [==============================] - 0s 6ms/step - loss: 8445.3262 - mae: 8445.3262\n",
            "Epoch 61/400\n",
            "34/34 [==============================] - 0s 5ms/step - loss: 8524.5088 - mae: 8524.5088\n",
            "Epoch 62/400\n",
            "34/34 [==============================] - 0s 5ms/step - loss: 8500.1162 - mae: 8500.1162\n",
            "Epoch 63/400\n",
            "34/34 [==============================] - 0s 5ms/step - loss: 8395.8447 - mae: 8395.8447\n",
            "Epoch 64/400\n",
            "34/34 [==============================] - 0s 5ms/step - loss: 8379.8018 - mae: 8379.8018\n",
            "Epoch 65/400\n",
            "34/34 [==============================] - 0s 5ms/step - loss: 8299.6504 - mae: 8299.6504\n",
            "Epoch 66/400\n",
            "34/34 [==============================] - 0s 5ms/step - loss: 8343.1631 - mae: 8343.1631\n",
            "Epoch 67/400\n",
            "34/34 [==============================] - 0s 5ms/step - loss: 8419.9473 - mae: 8419.9473\n",
            "Epoch 68/400\n",
            "34/34 [==============================] - 0s 5ms/step - loss: 8318.4746 - mae: 8318.4746\n",
            "Epoch 69/400\n",
            "34/34 [==============================] - 0s 5ms/step - loss: 8442.8633 - mae: 8442.8633\n",
            "Epoch 70/400\n",
            "34/34 [==============================] - 0s 5ms/step - loss: 8316.5938 - mae: 8316.5938\n",
            "Epoch 71/400\n",
            "34/34 [==============================] - 0s 5ms/step - loss: 8484.3818 - mae: 8484.3818\n",
            "Epoch 72/400\n",
            "34/34 [==============================] - 0s 5ms/step - loss: 8312.8301 - mae: 8312.8301\n",
            "Epoch 73/400\n",
            "34/34 [==============================] - 0s 5ms/step - loss: 8322.6689 - mae: 8322.6689\n",
            "Epoch 74/400\n",
            "34/34 [==============================] - 0s 5ms/step - loss: 8317.7578 - mae: 8317.7578\n",
            "Epoch 75/400\n",
            "34/34 [==============================] - 0s 5ms/step - loss: 8301.8613 - mae: 8301.8613\n",
            "Epoch 76/400\n",
            "34/34 [==============================] - 0s 6ms/step - loss: 8313.8115 - mae: 8313.8115\n",
            "Epoch 77/400\n",
            "34/34 [==============================] - 0s 5ms/step - loss: 8321.7939 - mae: 8321.7939\n",
            "Epoch 78/400\n",
            "34/34 [==============================] - 0s 5ms/step - loss: 8314.8867 - mae: 8314.8867\n",
            "Epoch 79/400\n",
            "34/34 [==============================] - 0s 5ms/step - loss: 8321.4482 - mae: 8321.4482\n",
            "Epoch 80/400\n",
            "34/34 [==============================] - 0s 5ms/step - loss: 8312.9902 - mae: 8312.9902\n",
            "Epoch 81/400\n",
            "34/34 [==============================] - 0s 5ms/step - loss: 8342.3252 - mae: 8342.3252\n",
            "Epoch 82/400\n",
            "34/34 [==============================] - 0s 5ms/step - loss: 8298.4922 - mae: 8298.4922\n",
            "Epoch 83/400\n",
            "34/34 [==============================] - 0s 5ms/step - loss: 8312.4219 - mae: 8312.4219\n",
            "Epoch 84/400\n",
            "34/34 [==============================] - 0s 5ms/step - loss: 8302.5674 - mae: 8302.5674\n",
            "Epoch 85/400\n",
            "34/34 [==============================] - 0s 5ms/step - loss: 8338.3975 - mae: 8338.3975\n",
            "Epoch 86/400\n",
            "34/34 [==============================] - 0s 5ms/step - loss: 8323.4160 - mae: 8323.4160\n",
            "Epoch 87/400\n",
            "34/34 [==============================] - 0s 5ms/step - loss: 8358.4883 - mae: 8358.4883\n",
            "Epoch 88/400\n",
            "34/34 [==============================] - 0s 5ms/step - loss: 8329.6338 - mae: 8329.6338\n",
            "Epoch 89/400\n",
            "34/34 [==============================] - 0s 7ms/step - loss: 8388.7021 - mae: 8388.7021\n",
            "Epoch 90/400\n",
            "34/34 [==============================] - 0s 6ms/step - loss: 8296.5391 - mae: 8296.5391\n",
            "Epoch 91/400\n",
            "34/34 [==============================] - 0s 7ms/step - loss: 8342.8066 - mae: 8342.8066\n",
            "Epoch 92/400\n",
            "34/34 [==============================] - 0s 7ms/step - loss: 8356.5928 - mae: 8356.5928\n",
            "Epoch 93/400\n",
            "34/34 [==============================] - 0s 6ms/step - loss: 8325.1895 - mae: 8325.1895\n",
            "Epoch 94/400\n",
            "34/34 [==============================] - 0s 6ms/step - loss: 8416.7754 - mae: 8416.7754\n",
            "Epoch 95/400\n",
            "34/34 [==============================] - 0s 6ms/step - loss: 8354.1211 - mae: 8354.1211\n",
            "Epoch 96/400\n",
            "34/34 [==============================] - 0s 7ms/step - loss: 8326.6543 - mae: 8326.6543\n",
            "Epoch 97/400\n",
            "34/34 [==============================] - 0s 7ms/step - loss: 8284.0586 - mae: 8284.0586\n",
            "Epoch 98/400\n",
            "34/34 [==============================] - 0s 7ms/step - loss: 8354.0840 - mae: 8354.0840\n",
            "Epoch 99/400\n",
            "34/34 [==============================] - 0s 6ms/step - loss: 8349.4053 - mae: 8349.4053\n",
            "Epoch 100/400\n",
            "34/34 [==============================] - 0s 6ms/step - loss: 8323.9814 - mae: 8323.9814\n",
            "Epoch 101/400\n",
            "34/34 [==============================] - 0s 7ms/step - loss: 8378.3174 - mae: 8378.3174\n",
            "Epoch 102/400\n",
            "34/34 [==============================] - 0s 6ms/step - loss: 8337.5830 - mae: 8337.5830\n",
            "Epoch 103/400\n",
            "34/34 [==============================] - 0s 6ms/step - loss: 8331.9648 - mae: 8331.9648\n",
            "Epoch 104/400\n",
            "34/34 [==============================] - 0s 6ms/step - loss: 8370.0410 - mae: 8370.0410\n",
            "Epoch 105/400\n",
            "34/34 [==============================] - 0s 7ms/step - loss: 8336.6113 - mae: 8336.6113\n",
            "Epoch 106/400\n",
            "34/34 [==============================] - 0s 6ms/step - loss: 8315.2695 - mae: 8315.2695\n",
            "Epoch 107/400\n",
            "34/34 [==============================] - 0s 5ms/step - loss: 8298.8027 - mae: 8298.8027\n",
            "Epoch 108/400\n",
            "34/34 [==============================] - 0s 5ms/step - loss: 8319.9414 - mae: 8319.9414\n",
            "Epoch 109/400\n",
            "34/34 [==============================] - 0s 5ms/step - loss: 8345.2295 - mae: 8345.2295\n",
            "Epoch 110/400\n",
            "34/34 [==============================] - 0s 5ms/step - loss: 8307.9443 - mae: 8307.9443\n",
            "Epoch 111/400\n",
            "34/34 [==============================] - 0s 5ms/step - loss: 8304.7900 - mae: 8304.7900\n",
            "Epoch 112/400\n",
            "34/34 [==============================] - 0s 5ms/step - loss: 8303.4053 - mae: 8303.4053\n",
            "Epoch 113/400\n",
            "34/34 [==============================] - 0s 5ms/step - loss: 8336.9766 - mae: 8336.9766\n",
            "Epoch 114/400\n",
            "34/34 [==============================] - 0s 5ms/step - loss: 8338.3398 - mae: 8338.3398\n",
            "Epoch 115/400\n",
            "34/34 [==============================] - 0s 5ms/step - loss: 8320.8848 - mae: 8320.8848\n",
            "Epoch 116/400\n",
            "34/34 [==============================] - 0s 6ms/step - loss: 8310.2881 - mae: 8310.2881\n",
            "Epoch 117/400\n",
            "34/34 [==============================] - 0s 5ms/step - loss: 8327.3037 - mae: 8327.3037\n",
            "Epoch 118/400\n",
            "34/34 [==============================] - 0s 5ms/step - loss: 8364.6865 - mae: 8364.6865\n",
            "Epoch 119/400\n",
            "34/34 [==============================] - 0s 6ms/step - loss: 8366.4541 - mae: 8366.4541\n",
            "Epoch 120/400\n",
            "34/34 [==============================] - 0s 7ms/step - loss: 8303.4990 - mae: 8303.4990\n",
            "Epoch 121/400\n",
            "34/34 [==============================] - 0s 6ms/step - loss: 8333.3574 - mae: 8333.3574\n",
            "Epoch 122/400\n",
            "34/34 [==============================] - 0s 6ms/step - loss: 8311.1895 - mae: 8311.1895\n",
            "Epoch 123/400\n",
            "34/34 [==============================] - 0s 6ms/step - loss: 8324.4980 - mae: 8324.4980\n",
            "Epoch 124/400\n",
            "34/34 [==============================] - 0s 6ms/step - loss: 8381.9258 - mae: 8381.9258\n",
            "Epoch 125/400\n",
            "34/34 [==============================] - 0s 6ms/step - loss: 8356.7695 - mae: 8356.7695\n",
            "Epoch 126/400\n",
            "34/34 [==============================] - 0s 6ms/step - loss: 8338.4346 - mae: 8338.4346\n",
            "Epoch 127/400\n",
            "34/34 [==============================] - 0s 6ms/step - loss: 8337.5693 - mae: 8337.5693\n",
            "Epoch 128/400\n",
            "34/34 [==============================] - 0s 6ms/step - loss: 8316.0117 - mae: 8316.0117\n",
            "Epoch 129/400\n",
            "34/34 [==============================] - 0s 6ms/step - loss: 8332.4170 - mae: 8332.4170\n",
            "Epoch 130/400\n",
            "34/34 [==============================] - 0s 6ms/step - loss: 8387.6172 - mae: 8387.6172\n",
            "Epoch 131/400\n",
            "34/34 [==============================] - 0s 7ms/step - loss: 8338.1279 - mae: 8338.1279\n",
            "Epoch 132/400\n",
            "34/34 [==============================] - 0s 6ms/step - loss: 8303.5244 - mae: 8303.5244\n",
            "Epoch 133/400\n",
            "34/34 [==============================] - 0s 6ms/step - loss: 8298.3594 - mae: 8298.3594\n",
            "Epoch 134/400\n",
            "34/34 [==============================] - 0s 6ms/step - loss: 8312.7510 - mae: 8312.7510\n",
            "Epoch 135/400\n",
            "34/34 [==============================] - 0s 6ms/step - loss: 8300.7510 - mae: 8300.7510\n",
            "Epoch 136/400\n",
            "34/34 [==============================] - 0s 6ms/step - loss: 8312.3838 - mae: 8312.3838\n",
            "Epoch 137/400\n",
            "34/34 [==============================] - 0s 6ms/step - loss: 8338.3584 - mae: 8338.3584\n",
            "Epoch 138/400\n",
            "34/34 [==============================] - 0s 6ms/step - loss: 8325.8584 - mae: 8325.8584\n",
            "Epoch 139/400\n",
            "34/34 [==============================] - 0s 6ms/step - loss: 8306.7510 - mae: 8306.7510\n",
            "Epoch 140/400\n",
            "34/34 [==============================] - 0s 6ms/step - loss: 8330.6797 - mae: 8330.6797\n",
            "Epoch 141/400\n",
            "34/34 [==============================] - 0s 6ms/step - loss: 8323.7314 - mae: 8323.7314\n",
            "Epoch 142/400\n",
            "34/34 [==============================] - 0s 6ms/step - loss: 8429.0791 - mae: 8429.0791\n",
            "Epoch 143/400\n",
            "34/34 [==============================] - 0s 6ms/step - loss: 8296.1191 - mae: 8296.1191\n",
            "Epoch 144/400\n",
            "34/34 [==============================] - 0s 6ms/step - loss: 8300.6064 - mae: 8300.6064\n",
            "Epoch 145/400\n",
            "34/34 [==============================] - 0s 6ms/step - loss: 8341.5820 - mae: 8341.5820\n",
            "Epoch 146/400\n",
            "34/34 [==============================] - 0s 6ms/step - loss: 8478.7666 - mae: 8478.7666\n",
            "Epoch 147/400\n",
            "34/34 [==============================] - 0s 5ms/step - loss: 8369.7344 - mae: 8369.7344\n",
            "Epoch 148/400\n",
            "34/34 [==============================] - 0s 5ms/step - loss: 8323.2861 - mae: 8323.2861\n",
            "Epoch 149/400\n",
            "34/34 [==============================] - 0s 4ms/step - loss: 8310.5020 - mae: 8310.5020\n",
            "Epoch 150/400\n",
            "34/34 [==============================] - 0s 5ms/step - loss: 8299.6836 - mae: 8299.6836\n",
            "Epoch 151/400\n",
            "34/34 [==============================] - 0s 5ms/step - loss: 8331.1914 - mae: 8331.1914\n",
            "Epoch 152/400\n",
            "34/34 [==============================] - 0s 5ms/step - loss: 8323.9131 - mae: 8323.9131\n",
            "Epoch 153/400\n",
            "34/34 [==============================] - 0s 5ms/step - loss: 8423.1436 - mae: 8423.1436\n",
            "Epoch 154/400\n",
            "34/34 [==============================] - 0s 5ms/step - loss: 8331.9062 - mae: 8331.9062\n",
            "Epoch 155/400\n",
            "34/34 [==============================] - 0s 5ms/step - loss: 8356.3477 - mae: 8356.3477\n",
            "Epoch 156/400\n",
            "34/34 [==============================] - 0s 5ms/step - loss: 8309.9258 - mae: 8309.9258\n",
            "Epoch 157/400\n",
            "34/34 [==============================] - 0s 5ms/step - loss: 8351.5449 - mae: 8351.5449\n",
            "Epoch 158/400\n",
            "34/34 [==============================] - 0s 5ms/step - loss: 8400.8135 - mae: 8400.8135\n",
            "Epoch 159/400\n",
            "34/34 [==============================] - 0s 5ms/step - loss: 8319.4336 - mae: 8319.4336\n",
            "Epoch 160/400\n",
            "34/34 [==============================] - 0s 5ms/step - loss: 8353.5420 - mae: 8353.5420\n",
            "Epoch 161/400\n",
            "34/34 [==============================] - 0s 5ms/step - loss: 8283.9541 - mae: 8283.9541\n",
            "Epoch 162/400\n",
            "34/34 [==============================] - 0s 5ms/step - loss: 8350.0977 - mae: 8350.0977\n",
            "Epoch 163/400\n",
            "34/34 [==============================] - 0s 5ms/step - loss: 8321.8857 - mae: 8321.8857\n",
            "Epoch 164/400\n",
            "34/34 [==============================] - 0s 5ms/step - loss: 8341.5254 - mae: 8341.5254\n",
            "Epoch 165/400\n",
            "34/34 [==============================] - 0s 5ms/step - loss: 8443.0986 - mae: 8443.0986\n",
            "Epoch 166/400\n",
            "34/34 [==============================] - 0s 5ms/step - loss: 8319.5537 - mae: 8319.5537\n",
            "Epoch 167/400\n",
            "34/34 [==============================] - 0s 6ms/step - loss: 8327.3154 - mae: 8327.3154\n",
            "Epoch 168/400\n",
            "34/34 [==============================] - 0s 5ms/step - loss: 8300.7422 - mae: 8300.7422\n",
            "Epoch 169/400\n",
            "34/34 [==============================] - 0s 5ms/step - loss: 8320.0830 - mae: 8320.0830\n",
            "Epoch 170/400\n",
            "34/34 [==============================] - 0s 6ms/step - loss: 8279.1875 - mae: 8279.1875\n",
            "Epoch 171/400\n",
            "34/34 [==============================] - 0s 6ms/step - loss: 8373.5098 - mae: 8373.5098\n",
            "Epoch 172/400\n",
            "34/34 [==============================] - 0s 6ms/step - loss: 8297.6875 - mae: 8297.6875\n",
            "Epoch 173/400\n",
            "34/34 [==============================] - 0s 7ms/step - loss: 8328.7783 - mae: 8328.7783\n",
            "Epoch 174/400\n",
            "34/34 [==============================] - 0s 6ms/step - loss: 8326.8711 - mae: 8326.8711\n",
            "Epoch 175/400\n",
            "34/34 [==============================] - 0s 5ms/step - loss: 8297.0479 - mae: 8297.0479\n",
            "Epoch 176/400\n",
            "34/34 [==============================] - 0s 6ms/step - loss: 8362.3164 - mae: 8362.3164\n",
            "Epoch 177/400\n",
            "34/34 [==============================] - 0s 6ms/step - loss: 8320.2305 - mae: 8320.2305\n",
            "Epoch 178/400\n",
            "34/34 [==============================] - 0s 7ms/step - loss: 8284.5547 - mae: 8284.5547\n",
            "Epoch 179/400\n",
            "34/34 [==============================] - 0s 6ms/step - loss: 8325.5029 - mae: 8325.5029\n",
            "Epoch 180/400\n",
            "34/34 [==============================] - 0s 6ms/step - loss: 8308.5039 - mae: 8308.5039\n",
            "Epoch 181/400\n",
            "34/34 [==============================] - 0s 6ms/step - loss: 8324.8525 - mae: 8324.8525\n",
            "Epoch 182/400\n",
            "34/34 [==============================] - 0s 7ms/step - loss: 8286.4697 - mae: 8286.4697\n",
            "Epoch 183/400\n",
            "34/34 [==============================] - 0s 6ms/step - loss: 8352.9033 - mae: 8352.9033\n",
            "Epoch 184/400\n",
            "34/34 [==============================] - 0s 6ms/step - loss: 8335.6064 - mae: 8335.6064\n",
            "Epoch 185/400\n",
            "34/34 [==============================] - 0s 6ms/step - loss: 8311.4053 - mae: 8311.4053\n",
            "Epoch 186/400\n",
            "34/34 [==============================] - 0s 6ms/step - loss: 8399.4824 - mae: 8399.4824\n",
            "Epoch 187/400\n",
            "34/34 [==============================] - 0s 7ms/step - loss: 8449.0078 - mae: 8449.0078\n",
            "Epoch 188/400\n",
            "34/34 [==============================] - 0s 6ms/step - loss: 8335.2041 - mae: 8335.2041\n",
            "Epoch 189/400\n",
            "34/34 [==============================] - 0s 6ms/step - loss: 8297.7988 - mae: 8297.7988\n",
            "Epoch 190/400\n",
            "34/34 [==============================] - 0s 6ms/step - loss: 8308.6602 - mae: 8308.6602\n",
            "Epoch 191/400\n",
            "34/34 [==============================] - 0s 7ms/step - loss: 8311.3848 - mae: 8311.3848\n",
            "Epoch 192/400\n",
            "34/34 [==============================] - 0s 6ms/step - loss: 8358.9023 - mae: 8358.9023\n",
            "Epoch 193/400\n",
            "34/34 [==============================] - 0s 6ms/step - loss: 8337.1318 - mae: 8337.1318\n",
            "Epoch 194/400\n",
            "34/34 [==============================] - 0s 6ms/step - loss: 8330.4678 - mae: 8330.4678\n",
            "Epoch 195/400\n",
            "34/34 [==============================] - 0s 6ms/step - loss: 8355.3066 - mae: 8355.3066\n",
            "Epoch 196/400\n",
            "34/34 [==============================] - 0s 6ms/step - loss: 8347.7373 - mae: 8347.7373\n",
            "Epoch 197/400\n",
            "34/34 [==============================] - 0s 6ms/step - loss: 8362.3018 - mae: 8362.3018\n",
            "Epoch 198/400\n",
            "34/34 [==============================] - 0s 5ms/step - loss: 8349.2646 - mae: 8349.2646\n",
            "Epoch 199/400\n",
            "34/34 [==============================] - 0s 5ms/step - loss: 8313.2686 - mae: 8313.2686\n",
            "Epoch 200/400\n",
            "34/34 [==============================] - 0s 5ms/step - loss: 8306.3467 - mae: 8306.3467\n",
            "Epoch 201/400\n",
            "34/34 [==============================] - 0s 5ms/step - loss: 8309.8545 - mae: 8309.8545\n",
            "Epoch 202/400\n",
            "34/34 [==============================] - 0s 5ms/step - loss: 8413.1631 - mae: 8413.1631\n",
            "Epoch 203/400\n",
            "34/34 [==============================] - 0s 5ms/step - loss: 8348.0176 - mae: 8348.0176\n",
            "Epoch 204/400\n",
            "34/34 [==============================] - 0s 5ms/step - loss: 8321.6816 - mae: 8321.6816\n",
            "Epoch 205/400\n",
            "34/34 [==============================] - 0s 5ms/step - loss: 8304.2539 - mae: 8304.2539\n",
            "Epoch 206/400\n",
            "34/34 [==============================] - 0s 5ms/step - loss: 8317.7031 - mae: 8317.7031\n",
            "Epoch 207/400\n",
            "34/34 [==============================] - 0s 5ms/step - loss: 8401.7012 - mae: 8401.7012\n",
            "Epoch 208/400\n",
            "34/34 [==============================] - 0s 5ms/step - loss: 8377.7666 - mae: 8377.7666\n",
            "Epoch 209/400\n",
            "34/34 [==============================] - 0s 6ms/step - loss: 8328.2881 - mae: 8328.2881\n",
            "Epoch 210/400\n",
            "34/34 [==============================] - 0s 6ms/step - loss: 8324.9131 - mae: 8324.9131\n",
            "Epoch 211/400\n",
            "34/34 [==============================] - 0s 7ms/step - loss: 8321.3633 - mae: 8321.3633\n",
            "Epoch 212/400\n",
            "34/34 [==============================] - 0s 7ms/step - loss: 8315.7891 - mae: 8315.7891\n",
            "Epoch 213/400\n",
            "34/34 [==============================] - 0s 6ms/step - loss: 8337.0889 - mae: 8337.0889\n",
            "Epoch 214/400\n",
            "34/34 [==============================] - 0s 5ms/step - loss: 8307.8154 - mae: 8307.8154\n",
            "Epoch 215/400\n",
            "34/34 [==============================] - 0s 5ms/step - loss: 8295.9922 - mae: 8295.9922\n",
            "Epoch 216/400\n",
            "34/34 [==============================] - 0s 5ms/step - loss: 8302.7207 - mae: 8302.7207\n",
            "Epoch 217/400\n",
            "34/34 [==============================] - 0s 5ms/step - loss: 8298.7412 - mae: 8298.7412\n",
            "Epoch 218/400\n",
            "34/34 [==============================] - 0s 5ms/step - loss: 8353.7734 - mae: 8353.7734\n",
            "Epoch 219/400\n",
            "34/34 [==============================] - 0s 5ms/step - loss: 8366.7373 - mae: 8366.7373\n",
            "Epoch 220/400\n",
            "34/34 [==============================] - 0s 7ms/step - loss: 8373.7217 - mae: 8373.7217\n",
            "Epoch 221/400\n",
            "34/34 [==============================] - 0s 6ms/step - loss: 8305.7715 - mae: 8305.7715\n",
            "Epoch 222/400\n",
            "34/34 [==============================] - 0s 7ms/step - loss: 8336.2246 - mae: 8336.2246\n",
            "Epoch 223/400\n",
            "34/34 [==============================] - 0s 6ms/step - loss: 8345.1045 - mae: 8345.1045\n",
            "Epoch 224/400\n",
            "34/34 [==============================] - 0s 6ms/step - loss: 8322.8594 - mae: 8322.8594\n",
            "Epoch 225/400\n",
            "34/34 [==============================] - 0s 7ms/step - loss: 8306.1035 - mae: 8306.1035\n",
            "Epoch 226/400\n",
            "34/34 [==============================] - 0s 7ms/step - loss: 8286.5488 - mae: 8286.5488\n",
            "Epoch 227/400\n",
            "34/34 [==============================] - 0s 7ms/step - loss: 8375.6230 - mae: 8375.6230\n",
            "Epoch 228/400\n",
            "34/34 [==============================] - 0s 5ms/step - loss: 8286.0010 - mae: 8286.0010\n",
            "Epoch 229/400\n",
            "34/34 [==============================] - 0s 5ms/step - loss: 8345.7949 - mae: 8345.7949\n",
            "Epoch 230/400\n",
            "34/34 [==============================] - 0s 5ms/step - loss: 8312.9092 - mae: 8312.9092\n",
            "Epoch 231/400\n",
            "34/34 [==============================] - 0s 5ms/step - loss: 8309.9053 - mae: 8309.9053\n",
            "Epoch 232/400\n",
            "34/34 [==============================] - 0s 5ms/step - loss: 8298.7686 - mae: 8298.7686\n",
            "Epoch 233/400\n",
            "34/34 [==============================] - 0s 4ms/step - loss: 8284.9277 - mae: 8284.9277\n",
            "Epoch 234/400\n",
            "34/34 [==============================] - 0s 6ms/step - loss: 8285.1846 - mae: 8285.1846\n",
            "Epoch 235/400\n",
            "34/34 [==============================] - 0s 6ms/step - loss: 8344.6201 - mae: 8344.6201\n",
            "Epoch 236/400\n",
            "34/34 [==============================] - 0s 7ms/step - loss: 8327.7461 - mae: 8327.7461\n",
            "Epoch 237/400\n",
            "34/34 [==============================] - 0s 7ms/step - loss: 8310.0312 - mae: 8310.0312\n",
            "Epoch 238/400\n",
            "34/34 [==============================] - 0s 6ms/step - loss: 8289.1416 - mae: 8289.1416\n",
            "Epoch 239/400\n",
            "34/34 [==============================] - 0s 5ms/step - loss: 8316.8682 - mae: 8316.8682\n",
            "Epoch 240/400\n",
            "34/34 [==============================] - 0s 5ms/step - loss: 8436.5537 - mae: 8436.5537\n",
            "Epoch 241/400\n",
            "34/34 [==============================] - 0s 5ms/step - loss: 8334.5166 - mae: 8334.5166\n",
            "Epoch 242/400\n",
            "34/34 [==============================] - 0s 5ms/step - loss: 8290.8721 - mae: 8290.8721\n",
            "Epoch 243/400\n",
            "34/34 [==============================] - 0s 5ms/step - loss: 8278.1377 - mae: 8278.1377\n",
            "Epoch 244/400\n",
            "34/34 [==============================] - 0s 5ms/step - loss: 8356.0059 - mae: 8356.0059\n",
            "Epoch 245/400\n",
            "34/34 [==============================] - 0s 5ms/step - loss: 8327.4043 - mae: 8327.4043\n",
            "Epoch 246/400\n",
            "34/34 [==============================] - 0s 5ms/step - loss: 8378.2344 - mae: 8378.2344\n",
            "Epoch 247/400\n",
            "34/34 [==============================] - 0s 5ms/step - loss: 8314.8066 - mae: 8314.8066\n",
            "Epoch 248/400\n",
            "34/34 [==============================] - 0s 5ms/step - loss: 8304.4111 - mae: 8304.4111\n",
            "Epoch 249/400\n",
            "34/34 [==============================] - 0s 5ms/step - loss: 8354.3857 - mae: 8354.3857\n",
            "Epoch 250/400\n",
            "34/34 [==============================] - 0s 5ms/step - loss: 8332.0645 - mae: 8332.0645\n",
            "Epoch 251/400\n",
            "34/34 [==============================] - 0s 5ms/step - loss: 8329.5830 - mae: 8329.5830\n",
            "Epoch 252/400\n",
            "34/34 [==============================] - 0s 5ms/step - loss: 8329.3096 - mae: 8329.3096\n",
            "Epoch 253/400\n",
            "34/34 [==============================] - 0s 5ms/step - loss: 8327.2637 - mae: 8327.2637\n",
            "Epoch 254/400\n",
            "34/34 [==============================] - 0s 5ms/step - loss: 8314.7646 - mae: 8314.7646\n",
            "Epoch 255/400\n",
            "34/34 [==============================] - 0s 5ms/step - loss: 8370.0234 - mae: 8370.0234\n",
            "Epoch 256/400\n",
            "34/34 [==============================] - 0s 5ms/step - loss: 8301.2314 - mae: 8301.2314\n",
            "Epoch 257/400\n",
            "34/34 [==============================] - 0s 5ms/step - loss: 8380.0322 - mae: 8380.0322\n",
            "Epoch 258/400\n",
            "34/34 [==============================] - 0s 5ms/step - loss: 8308.6846 - mae: 8308.6846\n",
            "Epoch 259/400\n",
            "34/34 [==============================] - 0s 5ms/step - loss: 8301.9775 - mae: 8301.9775\n",
            "Epoch 260/400\n",
            "34/34 [==============================] - 0s 5ms/step - loss: 8302.4434 - mae: 8302.4434\n",
            "Epoch 261/400\n",
            "34/34 [==============================] - 0s 5ms/step - loss: 8293.9482 - mae: 8293.9482\n",
            "Epoch 262/400\n",
            "34/34 [==============================] - 0s 5ms/step - loss: 8294.2822 - mae: 8294.2822\n",
            "Epoch 263/400\n",
            "34/34 [==============================] - 0s 5ms/step - loss: 8293.7041 - mae: 8293.7041\n",
            "Epoch 264/400\n",
            "34/34 [==============================] - 0s 5ms/step - loss: 8320.9434 - mae: 8320.9434\n",
            "Epoch 265/400\n",
            "34/34 [==============================] - 0s 5ms/step - loss: 8338.5342 - mae: 8338.5342\n",
            "Epoch 266/400\n",
            "34/34 [==============================] - 0s 4ms/step - loss: 8335.7002 - mae: 8335.7002\n",
            "Epoch 267/400\n",
            "34/34 [==============================] - 0s 5ms/step - loss: 8329.6699 - mae: 8329.6699\n",
            "Epoch 268/400\n",
            "34/34 [==============================] - 0s 5ms/step - loss: 8323.6514 - mae: 8323.6514\n",
            "Epoch 269/400\n",
            "34/34 [==============================] - 0s 5ms/step - loss: 8355.1914 - mae: 8355.1914\n",
            "Epoch 270/400\n",
            "34/34 [==============================] - 0s 5ms/step - loss: 8345.9941 - mae: 8345.9941\n",
            "Epoch 271/400\n",
            "34/34 [==============================] - 0s 5ms/step - loss: 8307.0557 - mae: 8307.0557\n",
            "Epoch 272/400\n",
            "34/34 [==============================] - 0s 5ms/step - loss: 8293.8408 - mae: 8293.8408\n",
            "Epoch 273/400\n",
            "34/34 [==============================] - 0s 5ms/step - loss: 8308.7373 - mae: 8308.7373\n",
            "Epoch 274/400\n",
            "34/34 [==============================] - 0s 5ms/step - loss: 8361.3418 - mae: 8361.3418\n",
            "Epoch 275/400\n",
            "34/34 [==============================] - 0s 5ms/step - loss: 8314.3457 - mae: 8314.3457\n",
            "Epoch 276/400\n",
            "34/34 [==============================] - 0s 5ms/step - loss: 8321.7490 - mae: 8321.7490\n",
            "Epoch 277/400\n",
            "34/34 [==============================] - 0s 5ms/step - loss: 8299.2148 - mae: 8299.2148\n",
            "Epoch 278/400\n",
            "34/34 [==============================] - 0s 5ms/step - loss: 8308.9160 - mae: 8308.9160\n",
            "Epoch 279/400\n",
            "34/34 [==============================] - 0s 5ms/step - loss: 8293.6680 - mae: 8293.6680\n",
            "Epoch 280/400\n",
            "34/34 [==============================] - 0s 5ms/step - loss: 8305.7344 - mae: 8305.7344\n",
            "Epoch 281/400\n",
            "34/34 [==============================] - 0s 5ms/step - loss: 8294.4971 - mae: 8294.4971\n",
            "Epoch 282/400\n",
            "34/34 [==============================] - 0s 5ms/step - loss: 8289.5312 - mae: 8289.5312\n",
            "Epoch 283/400\n",
            "34/34 [==============================] - 0s 5ms/step - loss: 8299.0889 - mae: 8299.0889\n",
            "Epoch 284/400\n",
            "34/34 [==============================] - 0s 5ms/step - loss: 8302.1191 - mae: 8302.1191\n",
            "Epoch 285/400\n",
            "34/34 [==============================] - 0s 6ms/step - loss: 8313.3691 - mae: 8313.3691\n",
            "Epoch 286/400\n",
            "34/34 [==============================] - 0s 6ms/step - loss: 8350.5566 - mae: 8350.5566\n",
            "Epoch 287/400\n",
            "34/34 [==============================] - 0s 7ms/step - loss: 8331.9580 - mae: 8331.9580\n",
            "Epoch 288/400\n",
            "34/34 [==============================] - 0s 6ms/step - loss: 8359.1016 - mae: 8359.1016\n",
            "Epoch 289/400\n",
            "34/34 [==============================] - 0s 5ms/step - loss: 8378.5459 - mae: 8378.5459\n",
            "Epoch 290/400\n",
            "34/34 [==============================] - 0s 4ms/step - loss: 8377.1875 - mae: 8377.1875\n",
            "Epoch 291/400\n",
            "34/34 [==============================] - 0s 5ms/step - loss: 8297.8223 - mae: 8297.8223\n",
            "Epoch 292/400\n",
            "34/34 [==============================] - 0s 5ms/step - loss: 8303.5488 - mae: 8303.5488\n",
            "Epoch 293/400\n",
            "34/34 [==============================] - 0s 5ms/step - loss: 8327.8555 - mae: 8327.8555\n",
            "Epoch 294/400\n",
            "34/34 [==============================] - 0s 5ms/step - loss: 8300.6826 - mae: 8300.6826\n",
            "Epoch 295/400\n",
            "34/34 [==============================] - 0s 5ms/step - loss: 8409.4990 - mae: 8409.4990\n",
            "Epoch 296/400\n",
            "34/34 [==============================] - 0s 5ms/step - loss: 8308.4746 - mae: 8308.4746\n",
            "Epoch 297/400\n",
            "34/34 [==============================] - 0s 5ms/step - loss: 8283.4697 - mae: 8283.4697\n",
            "Epoch 298/400\n",
            "34/34 [==============================] - 0s 5ms/step - loss: 8314.2910 - mae: 8314.2910\n",
            "Epoch 299/400\n",
            "34/34 [==============================] - 0s 6ms/step - loss: 8326.4004 - mae: 8326.4004\n",
            "Epoch 300/400\n",
            "34/34 [==============================] - 0s 5ms/step - loss: 8324.9492 - mae: 8324.9492\n",
            "Epoch 301/400\n",
            "34/34 [==============================] - 0s 5ms/step - loss: 8304.7432 - mae: 8304.7432\n",
            "Epoch 302/400\n",
            "34/34 [==============================] - 0s 5ms/step - loss: 8343.9043 - mae: 8343.9043\n",
            "Epoch 303/400\n",
            "34/34 [==============================] - 0s 6ms/step - loss: 8321.7881 - mae: 8321.7881\n",
            "Epoch 304/400\n",
            "34/34 [==============================] - 0s 5ms/step - loss: 8294.2539 - mae: 8294.2539\n",
            "Epoch 305/400\n",
            "34/34 [==============================] - 0s 5ms/step - loss: 8329.2090 - mae: 8329.2090\n",
            "Epoch 306/400\n",
            "34/34 [==============================] - 0s 5ms/step - loss: 8380.0049 - mae: 8380.0049\n",
            "Epoch 307/400\n",
            "34/34 [==============================] - 0s 5ms/step - loss: 8312.9102 - mae: 8312.9102\n",
            "Epoch 308/400\n",
            "34/34 [==============================] - 0s 5ms/step - loss: 8349.7480 - mae: 8349.7480\n",
            "Epoch 309/400\n",
            "34/34 [==============================] - 0s 5ms/step - loss: 8299.4678 - mae: 8299.4678\n",
            "Epoch 310/400\n",
            "34/34 [==============================] - 0s 6ms/step - loss: 8324.5400 - mae: 8324.5400\n",
            "Epoch 311/400\n",
            "34/34 [==============================] - 0s 5ms/step - loss: 8396.9102 - mae: 8396.9102\n",
            "Epoch 312/400\n",
            "34/34 [==============================] - 0s 5ms/step - loss: 8297.4307 - mae: 8297.4307\n",
            "Epoch 313/400\n",
            "34/34 [==============================] - 0s 5ms/step - loss: 8306.7607 - mae: 8306.7607\n",
            "Epoch 314/400\n",
            "34/34 [==============================] - 0s 5ms/step - loss: 8312.0820 - mae: 8312.0820\n",
            "Epoch 315/400\n",
            "34/34 [==============================] - 0s 5ms/step - loss: 8304.6816 - mae: 8304.6816\n",
            "Epoch 316/400\n",
            "34/34 [==============================] - 0s 5ms/step - loss: 8295.7969 - mae: 8295.7969\n",
            "Epoch 317/400\n",
            "34/34 [==============================] - 0s 5ms/step - loss: 8315.7393 - mae: 8315.7393\n",
            "Epoch 318/400\n",
            "34/34 [==============================] - 0s 5ms/step - loss: 8299.2646 - mae: 8299.2646\n",
            "Epoch 319/400\n",
            "34/34 [==============================] - 0s 5ms/step - loss: 8331.4932 - mae: 8331.4932\n",
            "Epoch 320/400\n",
            "34/34 [==============================] - 0s 5ms/step - loss: 8308.1523 - mae: 8308.1523\n",
            "Epoch 321/400\n",
            "34/34 [==============================] - 0s 5ms/step - loss: 8294.6113 - mae: 8294.6113\n",
            "Epoch 322/400\n",
            "34/34 [==============================] - 0s 5ms/step - loss: 8324.4785 - mae: 8324.4785\n",
            "Epoch 323/400\n",
            "34/34 [==============================] - 0s 5ms/step - loss: 8321.2666 - mae: 8321.2666\n",
            "Epoch 324/400\n",
            "34/34 [==============================] - 0s 5ms/step - loss: 8323.3701 - mae: 8323.3701\n",
            "Epoch 325/400\n",
            "34/34 [==============================] - 0s 5ms/step - loss: 8281.6035 - mae: 8281.6035\n",
            "Epoch 326/400\n",
            "34/34 [==============================] - 0s 5ms/step - loss: 8290.2559 - mae: 8290.2559\n",
            "Epoch 327/400\n",
            "34/34 [==============================] - 0s 5ms/step - loss: 8286.3125 - mae: 8286.3125\n",
            "Epoch 328/400\n",
            "34/34 [==============================] - 0s 5ms/step - loss: 8330.6592 - mae: 8330.6592\n",
            "Epoch 329/400\n",
            "34/34 [==============================] - 0s 5ms/step - loss: 8302.1309 - mae: 8302.1309\n",
            "Epoch 330/400\n",
            "34/34 [==============================] - 0s 5ms/step - loss: 8306.2285 - mae: 8306.2285\n",
            "Epoch 331/400\n",
            "34/34 [==============================] - 0s 6ms/step - loss: 8285.6963 - mae: 8285.6963\n",
            "Epoch 332/400\n",
            "34/34 [==============================] - 0s 5ms/step - loss: 8347.1543 - mae: 8347.1543\n",
            "Epoch 333/400\n",
            "34/34 [==============================] - 0s 5ms/step - loss: 8323.1387 - mae: 8323.1387\n",
            "Epoch 334/400\n",
            "34/34 [==============================] - 0s 5ms/step - loss: 8283.4150 - mae: 8283.4150\n",
            "Epoch 335/400\n",
            "34/34 [==============================] - 0s 5ms/step - loss: 8327.8311 - mae: 8327.8311\n",
            "Epoch 336/400\n",
            "34/34 [==============================] - 0s 5ms/step - loss: 8325.6123 - mae: 8325.6123\n",
            "Epoch 337/400\n",
            "34/34 [==============================] - 0s 5ms/step - loss: 8328.7637 - mae: 8328.7637\n",
            "Epoch 338/400\n",
            "34/34 [==============================] - 0s 5ms/step - loss: 8415.7920 - mae: 8415.7920\n",
            "Epoch 339/400\n",
            "34/34 [==============================] - 0s 5ms/step - loss: 8351.8809 - mae: 8351.8809\n",
            "Epoch 340/400\n",
            "34/34 [==============================] - 0s 6ms/step - loss: 8327.4678 - mae: 8327.4678\n",
            "Epoch 341/400\n",
            "34/34 [==============================] - 0s 7ms/step - loss: 8298.0225 - mae: 8298.0225\n",
            "Epoch 342/400\n",
            "34/34 [==============================] - 0s 6ms/step - loss: 8308.3037 - mae: 8308.3037\n",
            "Epoch 343/400\n",
            "34/34 [==============================] - 0s 6ms/step - loss: 8335.8398 - mae: 8335.8398\n",
            "Epoch 344/400\n",
            "34/34 [==============================] - 0s 6ms/step - loss: 8319.6621 - mae: 8319.6621\n",
            "Epoch 345/400\n",
            "34/34 [==============================] - 0s 6ms/step - loss: 8310.2334 - mae: 8310.2334\n",
            "Epoch 346/400\n",
            "34/34 [==============================] - 0s 7ms/step - loss: 8327.8545 - mae: 8327.8545\n",
            "Epoch 347/400\n",
            "34/34 [==============================] - 0s 6ms/step - loss: 8317.7012 - mae: 8317.7012\n",
            "Epoch 348/400\n",
            "34/34 [==============================] - 0s 7ms/step - loss: 8323.1201 - mae: 8323.1201\n",
            "Epoch 349/400\n",
            "34/34 [==============================] - 0s 6ms/step - loss: 8299.2666 - mae: 8299.2666\n",
            "Epoch 350/400\n",
            "34/34 [==============================] - 0s 6ms/step - loss: 8289.6367 - mae: 8289.6367\n",
            "Epoch 351/400\n",
            "34/34 [==============================] - 0s 8ms/step - loss: 8319.9473 - mae: 8319.9473\n",
            "Epoch 352/400\n",
            "34/34 [==============================] - 0s 7ms/step - loss: 8301.8213 - mae: 8301.8213\n",
            "Epoch 353/400\n",
            "34/34 [==============================] - 0s 7ms/step - loss: 8362.4414 - mae: 8362.4414\n",
            "Epoch 354/400\n",
            "34/34 [==============================] - 0s 6ms/step - loss: 8270.2559 - mae: 8270.2559\n",
            "Epoch 355/400\n",
            "34/34 [==============================] - 0s 6ms/step - loss: 8316.5938 - mae: 8316.5938\n",
            "Epoch 356/400\n",
            "34/34 [==============================] - 0s 7ms/step - loss: 8300.9990 - mae: 8300.9990\n",
            "Epoch 357/400\n",
            "34/34 [==============================] - 0s 5ms/step - loss: 8294.6162 - mae: 8294.6162\n",
            "Epoch 358/400\n",
            "34/34 [==============================] - 0s 5ms/step - loss: 8319.7422 - mae: 8319.7422\n",
            "Epoch 359/400\n",
            "34/34 [==============================] - 0s 5ms/step - loss: 8307.5322 - mae: 8307.5322\n",
            "Epoch 360/400\n",
            "34/34 [==============================] - 0s 5ms/step - loss: 8320.2480 - mae: 8320.2480\n",
            "Epoch 361/400\n",
            "34/34 [==============================] - 0s 5ms/step - loss: 8323.5801 - mae: 8323.5801\n",
            "Epoch 362/400\n",
            "34/34 [==============================] - 0s 5ms/step - loss: 8329.7842 - mae: 8329.7842\n",
            "Epoch 363/400\n",
            "34/34 [==============================] - 0s 5ms/step - loss: 8321.4688 - mae: 8321.4688\n",
            "Epoch 364/400\n",
            "34/34 [==============================] - 0s 5ms/step - loss: 8322.9297 - mae: 8322.9297\n",
            "Epoch 365/400\n",
            "34/34 [==============================] - 0s 5ms/step - loss: 8297.6377 - mae: 8297.6377\n",
            "Epoch 366/400\n",
            "34/34 [==============================] - 0s 5ms/step - loss: 8341.4492 - mae: 8341.4492\n",
            "Epoch 367/400\n",
            "34/34 [==============================] - 0s 6ms/step - loss: 8358.6924 - mae: 8358.6924\n",
            "Epoch 368/400\n",
            "34/34 [==============================] - 0s 5ms/step - loss: 8303.4707 - mae: 8303.4707\n",
            "Epoch 369/400\n",
            "34/34 [==============================] - 0s 5ms/step - loss: 8291.2773 - mae: 8291.2773\n",
            "Epoch 370/400\n",
            "34/34 [==============================] - 0s 5ms/step - loss: 8315.6318 - mae: 8315.6318\n",
            "Epoch 371/400\n",
            "34/34 [==============================] - 0s 5ms/step - loss: 8295.3408 - mae: 8295.3408\n",
            "Epoch 372/400\n",
            "34/34 [==============================] - 0s 6ms/step - loss: 8327.4600 - mae: 8327.4600\n",
            "Epoch 373/400\n",
            "34/34 [==============================] - 0s 5ms/step - loss: 8324.3760 - mae: 8324.3760\n",
            "Epoch 374/400\n",
            "34/34 [==============================] - 0s 5ms/step - loss: 8305.7393 - mae: 8305.7393\n",
            "Epoch 375/400\n",
            "34/34 [==============================] - 0s 5ms/step - loss: 8299.6270 - mae: 8299.6270\n",
            "Epoch 376/400\n",
            "34/34 [==============================] - 0s 5ms/step - loss: 8293.8730 - mae: 8293.8730\n",
            "Epoch 377/400\n",
            "34/34 [==============================] - 0s 5ms/step - loss: 8307.4697 - mae: 8307.4697\n",
            "Epoch 378/400\n",
            "34/34 [==============================] - 0s 5ms/step - loss: 8304.2305 - mae: 8304.2305\n",
            "Epoch 379/400\n",
            "34/34 [==============================] - 0s 5ms/step - loss: 8287.5859 - mae: 8287.5859\n",
            "Epoch 380/400\n",
            "34/34 [==============================] - 0s 5ms/step - loss: 8271.8320 - mae: 8271.8320\n",
            "Epoch 381/400\n",
            "34/34 [==============================] - 0s 5ms/step - loss: 8284.4639 - mae: 8284.4639\n",
            "Epoch 382/400\n",
            "34/34 [==============================] - 0s 5ms/step - loss: 8330.7686 - mae: 8330.7686\n",
            "Epoch 383/400\n",
            "34/34 [==============================] - 0s 5ms/step - loss: 8330.3955 - mae: 8330.3955\n",
            "Epoch 384/400\n",
            "34/34 [==============================] - 0s 6ms/step - loss: 8329.8789 - mae: 8329.8789\n",
            "Epoch 385/400\n",
            "34/34 [==============================] - 0s 6ms/step - loss: 8383.5576 - mae: 8383.5576\n",
            "Epoch 386/400\n",
            "34/34 [==============================] - 0s 6ms/step - loss: 8288.0830 - mae: 8288.0830\n",
            "Epoch 387/400\n",
            "34/34 [==============================] - 0s 7ms/step - loss: 8294.4307 - mae: 8294.4307\n",
            "Epoch 388/400\n",
            "34/34 [==============================] - 0s 7ms/step - loss: 8307.8115 - mae: 8307.8115\n",
            "Epoch 389/400\n",
            "34/34 [==============================] - 0s 7ms/step - loss: 8304.6055 - mae: 8304.6055\n",
            "Epoch 390/400\n",
            "34/34 [==============================] - 0s 7ms/step - loss: 8332.5918 - mae: 8332.5918\n",
            "Epoch 391/400\n",
            "34/34 [==============================] - 0s 7ms/step - loss: 8294.7334 - mae: 8294.7334\n",
            "Epoch 392/400\n",
            "34/34 [==============================] - 0s 7ms/step - loss: 8297.7861 - mae: 8297.7861\n",
            "Epoch 393/400\n",
            "34/34 [==============================] - 0s 7ms/step - loss: 8297.9805 - mae: 8297.9805\n",
            "Epoch 394/400\n",
            "34/34 [==============================] - 0s 6ms/step - loss: 8292.4893 - mae: 8292.4893\n",
            "Epoch 395/400\n",
            "34/34 [==============================] - 0s 6ms/step - loss: 8287.1309 - mae: 8287.1309\n",
            "Epoch 396/400\n",
            "34/34 [==============================] - 0s 7ms/step - loss: 8292.3291 - mae: 8292.3291\n",
            "Epoch 397/400\n",
            "34/34 [==============================] - 0s 6ms/step - loss: 8293.4805 - mae: 8293.4805\n",
            "Epoch 398/400\n",
            "34/34 [==============================] - 0s 6ms/step - loss: 8302.7197 - mae: 8302.7197\n",
            "Epoch 399/400\n",
            "34/34 [==============================] - 0s 5ms/step - loss: 8301.0703 - mae: 8301.0703\n",
            "Epoch 400/400\n",
            "34/34 [==============================] - 0s 5ms/step - loss: 8294.9639 - mae: 8294.9639\n"
          ]
        }
      ]
    },
    {
      "cell_type": "code",
      "source": [
        "# Evaluate on test data: \n",
        "model.evaluate(X_test, y_test)"
      ],
      "metadata": {
        "colab": {
          "base_uri": "https://localhost:8080/"
        },
        "id": "Yt9bUvj2Y4A9",
        "outputId": "e25a4799-3cd3-43d3-83be-bc419291359e"
      },
      "execution_count": 22,
      "outputs": [
        {
          "output_type": "stream",
          "name": "stdout",
          "text": [
            "9/9 [==============================] - 0s 4ms/step - loss: 8638.7012 - mae: 8638.7012\n"
          ]
        },
        {
          "output_type": "execute_result",
          "data": {
            "text/plain": [
              "[8638.701171875, 8638.701171875]"
            ]
          },
          "metadata": {},
          "execution_count": 22
        }
      ]
    },
    {
      "cell_type": "code",
      "source": [
        "# Let's plot the loss curve VS Epochs: \n",
        "pd.DataFrame(model_2_history.history).plot()\n",
        "plt.xlabel(\"Epochs\")\n",
        "plt.ylabel(\"Loss\")"
      ],
      "metadata": {
        "colab": {
          "base_uri": "https://localhost:8080/",
          "height": 298
        },
        "id": "xQd_leWsZeZH",
        "outputId": "b3e296ae-7faa-4a80-df4a-02c9aca9e772"
      },
      "execution_count": 24,
      "outputs": [
        {
          "output_type": "execute_result",
          "data": {
            "text/plain": [
              "Text(0, 0.5, 'Loss')"
            ]
          },
          "metadata": {},
          "execution_count": 24
        },
        {
          "output_type": "display_data",
          "data": {
            "text/plain": [
              "<Figure size 432x288 with 1 Axes>"
            ],
            "image/png": "[encoded data removed]"
          },
          "metadata": {
            "needs_background": "light"
          }
        }
      ]
    },
    {
      "cell_type": "markdown",
      "source": [
        "Seems even increasing the learning rate and the number of epochs the model isn't performing at a greater level"
      ],
      "metadata": {
        "id": "ZCCP8UHlZz4J"
      }
    },
    {
      "cell_type": "markdown",
      "source": [
        "## Import the Boston pricing dataset from TensorFlow using `tf.keras.datasets` and model it."
      ],
      "metadata": {
        "id": "VZQmD9W8Z82h"
      }
    },
    {
      "cell_type": "code",
      "source": [
        "# Loading the boston datasets from tensorflow datasets: \n",
        "(X_train, y_train), (X_test, y_test) = tf.keras.datasets.boston_housing.load_data(path = 'boston_housing_npz', \n",
        "                                                                                  test_split = 0.2, seed = 42)"
      ],
      "metadata": {
        "id": "OuOwX04va_Xn"
      },
      "execution_count": 27,
      "outputs": []
    },
    {
      "cell_type": "code",
      "source": [
        "# Let's check the shape of our data: \n",
        "X_train.shape, X_test.shape, y_train.shape, y_test.shape"
      ],
      "metadata": {
        "colab": {
          "base_uri": "https://localhost:8080/"
        },
        "id": "FzRVYUy8b6nR",
        "outputId": "f653e8d3-7fe1-4620-a3ae-099a7b696420"
      },
      "execution_count": 28,
      "outputs": [
        {
          "output_type": "execute_result",
          "data": {
            "text/plain": [
              "((404, 13), (102, 13), (404,), (102,))"
            ]
          },
          "metadata": {},
          "execution_count": 28
        }
      ]
    },
    {
      "cell_type": "code",
      "source": [
        "# Let's look a sample: \n",
        "X_train[0]"
      ],
      "metadata": {
        "colab": {
          "base_uri": "https://localhost:8080/"
        },
        "id": "GpdVi6Q3cLKx",
        "outputId": "82963976-4f60-49cf-951a-efe0a49057f3"
      },
      "execution_count": 30,
      "outputs": [
        {
          "output_type": "execute_result",
          "data": {
            "text/plain": [
              "array([9.1780e-02, 0.0000e+00, 4.0500e+00, 0.0000e+00, 5.1000e-01,\n",
              "       6.4160e+00, 8.4100e+01, 2.6463e+00, 5.0000e+00, 2.9600e+02,\n",
              "       1.6600e+01, 3.9550e+02, 9.0400e+00])"
            ]
          },
          "metadata": {},
          "execution_count": 30
        }
      ]
    },
    {
      "cell_type": "markdown",
      "source": [
        "This dataset is a numpy array and it is already normalized"
      ],
      "metadata": {
        "id": "qeYSWtRtcRuQ"
      }
    },
    {
      "cell_type": "code",
      "source": [
        "# Let's build a model: \n",
        "tf.random.set_seed(42)\n",
        "\n",
        "# 1.Create a model: \n",
        "model_3 = tf.keras.Sequential([\n",
        "          tf.keras.layers.Dense(200), \n",
        "          tf.keras.layers.Dense(150), \n",
        "          tf.keras.layers.Dense(100),\n",
        "          tf.keras.layers.Dense(50),\n",
        "          tf.keras.layers.Dense(1)                     \n",
        "])\n",
        "\n",
        "# 2.Compile the model: \n",
        "model_3.compile(loss=tf.keras.losses.mae,\n",
        "                optimizer=tf.keras.optimizers.Adam(), \n",
        "                metrics=[\"mae\"])\n",
        "\n",
        "# 3.Fit the model: \n",
        "model_3_history = model_3.fit(tf.expand_dims(X_train, axis=-1), y_train, epochs = 200)"
      ],
      "metadata": {
        "colab": {
          "base_uri": "https://localhost:8080/"
        },
        "id": "q6PiHRvCcYuf",
        "outputId": "5dea9e3a-bee1-40ff-f452-32b508f93c51"
      },
      "execution_count": 33,
      "outputs": [
        {
          "output_type": "stream",
          "name": "stdout",
          "text": [
            "Epoch 1/200\n",
            "13/13 [==============================] - 1s 7ms/step - loss: 28.8061 - mae: 28.8061\n",
            "Epoch 2/200\n",
            "13/13 [==============================] - 0s 7ms/step - loss: 20.4342 - mae: 20.4342\n",
            "Epoch 3/200\n",
            "13/13 [==============================] - 0s 7ms/step - loss: 19.1713 - mae: 19.1713\n",
            "Epoch 4/200\n",
            "13/13 [==============================] - 0s 6ms/step - loss: 18.5080 - mae: 18.5080\n",
            "Epoch 5/200\n",
            "13/13 [==============================] - 0s 7ms/step - loss: 17.8605 - mae: 17.8605\n",
            "Epoch 6/200\n",
            "13/13 [==============================] - 0s 7ms/step - loss: 16.8479 - mae: 16.8479\n",
            "Epoch 7/200\n",
            "13/13 [==============================] - 0s 6ms/step - loss: 16.8408 - mae: 16.8408\n",
            "Epoch 8/200\n",
            "13/13 [==============================] - 0s 6ms/step - loss: 15.3072 - mae: 15.3072\n",
            "Epoch 9/200\n",
            "13/13 [==============================] - 0s 7ms/step - loss: 11.9647 - mae: 11.9647\n",
            "Epoch 10/200\n",
            "13/13 [==============================] - 0s 7ms/step - loss: 11.1040 - mae: 11.1040\n",
            "Epoch 11/200\n",
            "13/13 [==============================] - 0s 6ms/step - loss: 9.7030 - mae: 9.7030\n",
            "Epoch 12/200\n",
            "13/13 [==============================] - 0s 7ms/step - loss: 8.2171 - mae: 8.2171\n",
            "Epoch 13/200\n",
            "13/13 [==============================] - 0s 7ms/step - loss: 7.1148 - mae: 7.1148\n",
            "Epoch 14/200\n",
            "13/13 [==============================] - 0s 8ms/step - loss: 8.0735 - mae: 8.0735\n",
            "Epoch 15/200\n",
            "13/13 [==============================] - 0s 6ms/step - loss: 8.1703 - mae: 8.1703\n",
            "Epoch 16/200\n",
            "13/13 [==============================] - 0s 7ms/step - loss: 8.0163 - mae: 8.0163\n",
            "Epoch 17/200\n",
            "13/13 [==============================] - 0s 7ms/step - loss: 7.3698 - mae: 7.3698\n",
            "Epoch 18/200\n",
            "13/13 [==============================] - 0s 7ms/step - loss: 7.5733 - mae: 7.5733\n",
            "Epoch 19/200\n",
            "13/13 [==============================] - 0s 7ms/step - loss: 7.4667 - mae: 7.4667\n",
            "Epoch 20/200\n",
            "13/13 [==============================] - 0s 7ms/step - loss: 8.0457 - mae: 8.0457\n",
            "Epoch 21/200\n",
            "13/13 [==============================] - 0s 6ms/step - loss: 7.2358 - mae: 7.2358\n",
            "Epoch 22/200\n",
            "13/13 [==============================] - 0s 7ms/step - loss: 7.0746 - mae: 7.0746\n",
            "Epoch 23/200\n",
            "13/13 [==============================] - 0s 7ms/step - loss: 7.4974 - mae: 7.4974\n",
            "Epoch 24/200\n",
            "13/13 [==============================] - 0s 6ms/step - loss: 7.8720 - mae: 7.8720\n",
            "Epoch 25/200\n",
            "13/13 [==============================] - 0s 6ms/step - loss: 7.4324 - mae: 7.4324\n",
            "Epoch 26/200\n",
            "13/13 [==============================] - 0s 6ms/step - loss: 7.2503 - mae: 7.2503\n",
            "Epoch 27/200\n",
            "13/13 [==============================] - 0s 8ms/step - loss: 7.2754 - mae: 7.2754\n",
            "Epoch 28/200\n",
            "13/13 [==============================] - 0s 6ms/step - loss: 7.7033 - mae: 7.7033\n",
            "Epoch 29/200\n",
            "13/13 [==============================] - 0s 6ms/step - loss: 7.3469 - mae: 7.3469\n",
            "Epoch 30/200\n",
            "13/13 [==============================] - 0s 6ms/step - loss: 7.2577 - mae: 7.2577\n",
            "Epoch 31/200\n",
            "13/13 [==============================] - 0s 6ms/step - loss: 6.7799 - mae: 6.7799\n",
            "Epoch 32/200\n",
            "13/13 [==============================] - 0s 7ms/step - loss: 6.8403 - mae: 6.8403\n",
            "Epoch 33/200\n",
            "13/13 [==============================] - 0s 7ms/step - loss: 7.1312 - mae: 7.1312\n",
            "Epoch 34/200\n",
            "13/13 [==============================] - 0s 7ms/step - loss: 7.0975 - mae: 7.0975\n",
            "Epoch 35/200\n",
            "13/13 [==============================] - 0s 7ms/step - loss: 7.3088 - mae: 7.3088\n",
            "Epoch 36/200\n",
            "13/13 [==============================] - 0s 7ms/step - loss: 6.9296 - mae: 6.9296\n",
            "Epoch 37/200\n",
            "13/13 [==============================] - 0s 6ms/step - loss: 6.9292 - mae: 6.9292\n",
            "Epoch 38/200\n",
            "13/13 [==============================] - 0s 7ms/step - loss: 7.0793 - mae: 7.0793\n",
            "Epoch 39/200\n",
            "13/13 [==============================] - 0s 6ms/step - loss: 6.9725 - mae: 6.9725\n",
            "Epoch 40/200\n",
            "13/13 [==============================] - 0s 7ms/step - loss: 7.5124 - mae: 7.5124\n",
            "Epoch 41/200\n",
            "13/13 [==============================] - 0s 7ms/step - loss: 7.4585 - mae: 7.4585\n",
            "Epoch 42/200\n",
            "13/13 [==============================] - 0s 6ms/step - loss: 6.8915 - mae: 6.8915\n",
            "Epoch 43/200\n",
            "13/13 [==============================] - 0s 6ms/step - loss: 6.7639 - mae: 6.7639\n",
            "Epoch 44/200\n",
            "13/13 [==============================] - 0s 6ms/step - loss: 6.8377 - mae: 6.8377\n",
            "Epoch 45/200\n",
            "13/13 [==============================] - 0s 6ms/step - loss: 6.8500 - mae: 6.8500\n",
            "Epoch 46/200\n",
            "13/13 [==============================] - 0s 7ms/step - loss: 6.9156 - mae: 6.9156\n",
            "Epoch 47/200\n",
            "13/13 [==============================] - 0s 6ms/step - loss: 6.9468 - mae: 6.9468\n",
            "Epoch 48/200\n",
            "13/13 [==============================] - 0s 6ms/step - loss: 7.0021 - mae: 7.0021\n",
            "Epoch 49/200\n",
            "13/13 [==============================] - 0s 8ms/step - loss: 7.0745 - mae: 7.0745\n",
            "Epoch 50/200\n",
            "13/13 [==============================] - 0s 6ms/step - loss: 7.2399 - mae: 7.2399\n",
            "Epoch 51/200\n",
            "13/13 [==============================] - 0s 7ms/step - loss: 6.9620 - mae: 6.9620\n",
            "Epoch 52/200\n",
            "13/13 [==============================] - 0s 6ms/step - loss: 7.2323 - mae: 7.2323\n",
            "Epoch 53/200\n",
            "13/13 [==============================] - 0s 7ms/step - loss: 7.7708 - mae: 7.7708\n",
            "Epoch 54/200\n",
            "13/13 [==============================] - 0s 6ms/step - loss: 7.8903 - mae: 7.8903\n",
            "Epoch 55/200\n",
            "13/13 [==============================] - 0s 7ms/step - loss: 7.1855 - mae: 7.1855\n",
            "Epoch 56/200\n",
            "13/13 [==============================] - 0s 7ms/step - loss: 6.7891 - mae: 6.7891\n",
            "Epoch 57/200\n",
            "13/13 [==============================] - 0s 7ms/step - loss: 6.8485 - mae: 6.8485\n",
            "Epoch 58/200\n",
            "13/13 [==============================] - 0s 6ms/step - loss: 7.0561 - mae: 7.0561\n",
            "Epoch 59/200\n",
            "13/13 [==============================] - 0s 6ms/step - loss: 6.9089 - mae: 6.9089\n",
            "Epoch 60/200\n",
            "13/13 [==============================] - 0s 7ms/step - loss: 7.0684 - mae: 7.0684\n",
            "Epoch 61/200\n",
            "13/13 [==============================] - 0s 6ms/step - loss: 6.8298 - mae: 6.8298\n",
            "Epoch 62/200\n",
            "13/13 [==============================] - 0s 7ms/step - loss: 6.8788 - mae: 6.8788\n",
            "Epoch 63/200\n",
            "13/13 [==============================] - 0s 6ms/step - loss: 7.0259 - mae: 7.0259\n",
            "Epoch 64/200\n",
            "13/13 [==============================] - 0s 6ms/step - loss: 7.6471 - mae: 7.6471\n",
            "Epoch 65/200\n",
            "13/13 [==============================] - 0s 8ms/step - loss: 7.4291 - mae: 7.4291\n",
            "Epoch 66/200\n",
            "13/13 [==============================] - 0s 8ms/step - loss: 6.9831 - mae: 6.9831\n",
            "Epoch 67/200\n",
            "13/13 [==============================] - 0s 7ms/step - loss: 6.9531 - mae: 6.9531\n",
            "Epoch 68/200\n",
            "13/13 [==============================] - 0s 8ms/step - loss: 7.1542 - mae: 7.1542\n",
            "Epoch 69/200\n",
            "13/13 [==============================] - 0s 8ms/step - loss: 7.0457 - mae: 7.0457\n",
            "Epoch 70/200\n",
            "13/13 [==============================] - 0s 9ms/step - loss: 7.1383 - mae: 7.1383\n",
            "Epoch 71/200\n",
            "13/13 [==============================] - 0s 8ms/step - loss: 6.9650 - mae: 6.9650\n",
            "Epoch 72/200\n",
            "13/13 [==============================] - 0s 7ms/step - loss: 6.8524 - mae: 6.8524\n",
            "Epoch 73/200\n",
            "13/13 [==============================] - 0s 8ms/step - loss: 6.9055 - mae: 6.9055\n",
            "Epoch 74/200\n",
            "13/13 [==============================] - 0s 7ms/step - loss: 6.8884 - mae: 6.8884\n",
            "Epoch 75/200\n",
            "13/13 [==============================] - 0s 6ms/step - loss: 6.8373 - mae: 6.8373\n",
            "Epoch 76/200\n",
            "13/13 [==============================] - 0s 6ms/step - loss: 6.8682 - mae: 6.8682\n",
            "Epoch 77/200\n",
            "13/13 [==============================] - 0s 6ms/step - loss: 6.9553 - mae: 6.9553\n",
            "Epoch 78/200\n",
            "13/13 [==============================] - 0s 6ms/step - loss: 7.6660 - mae: 7.6660\n",
            "Epoch 79/200\n",
            "13/13 [==============================] - 0s 6ms/step - loss: 7.4701 - mae: 7.4701\n",
            "Epoch 80/200\n",
            "13/13 [==============================] - 0s 8ms/step - loss: 7.6241 - mae: 7.6241\n",
            "Epoch 81/200\n",
            "13/13 [==============================] - 0s 6ms/step - loss: 7.1165 - mae: 7.1165\n",
            "Epoch 82/200\n",
            "13/13 [==============================] - 0s 6ms/step - loss: 6.8228 - mae: 6.8228\n",
            "Epoch 83/200\n",
            "13/13 [==============================] - 0s 6ms/step - loss: 6.9071 - mae: 6.9071\n",
            "Epoch 84/200\n",
            "13/13 [==============================] - 0s 8ms/step - loss: 6.9330 - mae: 6.9330\n",
            "Epoch 85/200\n",
            "13/13 [==============================] - 0s 7ms/step - loss: 7.2642 - mae: 7.2642\n",
            "Epoch 86/200\n",
            "13/13 [==============================] - 0s 7ms/step - loss: 7.0936 - mae: 7.0936\n",
            "Epoch 87/200\n",
            "13/13 [==============================] - 0s 7ms/step - loss: 6.9471 - mae: 6.9471\n",
            "Epoch 88/200\n",
            "13/13 [==============================] - 0s 7ms/step - loss: 6.8247 - mae: 6.8247\n",
            "Epoch 89/200\n",
            "13/13 [==============================] - 0s 6ms/step - loss: 6.8624 - mae: 6.8624\n",
            "Epoch 90/200\n",
            "13/13 [==============================] - 0s 7ms/step - loss: 7.0053 - mae: 7.0053\n",
            "Epoch 91/200\n",
            "13/13 [==============================] - 0s 6ms/step - loss: 6.9050 - mae: 6.9050\n",
            "Epoch 92/200\n",
            "13/13 [==============================] - 0s 7ms/step - loss: 6.9035 - mae: 6.9035\n",
            "Epoch 93/200\n",
            "13/13 [==============================] - 0s 7ms/step - loss: 6.9012 - mae: 6.9012\n",
            "Epoch 94/200\n",
            "13/13 [==============================] - 0s 6ms/step - loss: 6.8656 - mae: 6.8656\n",
            "Epoch 95/200\n",
            "13/13 [==============================] - 0s 6ms/step - loss: 6.9419 - mae: 6.9419\n",
            "Epoch 96/200\n",
            "13/13 [==============================] - 0s 7ms/step - loss: 6.8845 - mae: 6.8845\n",
            "Epoch 97/200\n",
            "13/13 [==============================] - 0s 7ms/step - loss: 6.9437 - mae: 6.9437\n",
            "Epoch 98/200\n",
            "13/13 [==============================] - 0s 7ms/step - loss: 6.9752 - mae: 6.9752\n",
            "Epoch 99/200\n",
            "13/13 [==============================] - 0s 6ms/step - loss: 6.7705 - mae: 6.7705\n",
            "Epoch 100/200\n",
            "13/13 [==============================] - 0s 7ms/step - loss: 6.8765 - mae: 6.8765\n",
            "Epoch 101/200\n",
            "13/13 [==============================] - 0s 8ms/step - loss: 6.9297 - mae: 6.9297\n",
            "Epoch 102/200\n",
            "13/13 [==============================] - 0s 7ms/step - loss: 6.8989 - mae: 6.8989\n",
            "Epoch 103/200\n",
            "13/13 [==============================] - 0s 6ms/step - loss: 6.8670 - mae: 6.8670\n",
            "Epoch 104/200\n",
            "13/13 [==============================] - 0s 6ms/step - loss: 6.8803 - mae: 6.8803\n",
            "Epoch 105/200\n",
            "13/13 [==============================] - 0s 7ms/step - loss: 6.9555 - mae: 6.9555\n",
            "Epoch 106/200\n",
            "13/13 [==============================] - 0s 6ms/step - loss: 6.9427 - mae: 6.9427\n",
            "Epoch 107/200\n",
            "13/13 [==============================] - 0s 7ms/step - loss: 6.8708 - mae: 6.8708\n",
            "Epoch 108/200\n",
            "13/13 [==============================] - 0s 7ms/step - loss: 7.0505 - mae: 7.0505\n",
            "Epoch 109/200\n",
            "13/13 [==============================] - 0s 7ms/step - loss: 7.2136 - mae: 7.2136\n",
            "Epoch 110/200\n",
            "13/13 [==============================] - 0s 7ms/step - loss: 6.9104 - mae: 6.9104\n",
            "Epoch 111/200\n",
            "13/13 [==============================] - 0s 7ms/step - loss: 7.1684 - mae: 7.1684\n",
            "Epoch 112/200\n",
            "13/13 [==============================] - 0s 8ms/step - loss: 7.4787 - mae: 7.4787\n",
            "Epoch 113/200\n",
            "13/13 [==============================] - 0s 6ms/step - loss: 6.8748 - mae: 6.8748\n",
            "Epoch 114/200\n",
            "13/13 [==============================] - 0s 7ms/step - loss: 6.8870 - mae: 6.8870\n",
            "Epoch 115/200\n",
            "13/13 [==============================] - 0s 7ms/step - loss: 6.9018 - mae: 6.9018\n",
            "Epoch 116/200\n",
            "13/13 [==============================] - 0s 7ms/step - loss: 7.0029 - mae: 7.0029\n",
            "Epoch 117/200\n",
            "13/13 [==============================] - 0s 6ms/step - loss: 7.2142 - mae: 7.2142\n",
            "Epoch 118/200\n",
            "13/13 [==============================] - 0s 6ms/step - loss: 7.0590 - mae: 7.0590\n",
            "Epoch 119/200\n",
            "13/13 [==============================] - 0s 7ms/step - loss: 6.8955 - mae: 6.8955\n",
            "Epoch 120/200\n",
            "13/13 [==============================] - 0s 7ms/step - loss: 7.0171 - mae: 7.0171\n",
            "Epoch 121/200\n",
            "13/13 [==============================] - 0s 7ms/step - loss: 7.0131 - mae: 7.0131\n",
            "Epoch 122/200\n",
            "13/13 [==============================] - 0s 7ms/step - loss: 6.8927 - mae: 6.8927\n",
            "Epoch 123/200\n",
            "13/13 [==============================] - 0s 7ms/step - loss: 6.8215 - mae: 6.8215\n",
            "Epoch 124/200\n",
            "13/13 [==============================] - 0s 6ms/step - loss: 6.9077 - mae: 6.9077\n",
            "Epoch 125/200\n",
            "13/13 [==============================] - 0s 6ms/step - loss: 7.0392 - mae: 7.0392\n",
            "Epoch 126/200\n",
            "13/13 [==============================] - 0s 6ms/step - loss: 7.0584 - mae: 7.0584\n",
            "Epoch 127/200\n",
            "13/13 [==============================] - 0s 6ms/step - loss: 6.8444 - mae: 6.8444\n",
            "Epoch 128/200\n",
            "13/13 [==============================] - 0s 6ms/step - loss: 7.0343 - mae: 7.0343\n",
            "Epoch 129/200\n",
            "13/13 [==============================] - 0s 6ms/step - loss: 7.1505 - mae: 7.1505\n",
            "Epoch 130/200\n",
            "13/13 [==============================] - 0s 7ms/step - loss: 7.2366 - mae: 7.2366\n",
            "Epoch 131/200\n",
            "13/13 [==============================] - 0s 6ms/step - loss: 6.9087 - mae: 6.9087\n",
            "Epoch 132/200\n",
            "13/13 [==============================] - 0s 7ms/step - loss: 6.8890 - mae: 6.8890\n",
            "Epoch 133/200\n",
            "13/13 [==============================] - 0s 6ms/step - loss: 6.7634 - mae: 6.7634\n",
            "Epoch 134/200\n",
            "13/13 [==============================] - 0s 8ms/step - loss: 6.8290 - mae: 6.8290\n",
            "Epoch 135/200\n",
            "13/13 [==============================] - 0s 7ms/step - loss: 6.9147 - mae: 6.9147\n",
            "Epoch 136/200\n",
            "13/13 [==============================] - 0s 7ms/step - loss: 6.8668 - mae: 6.8668\n",
            "Epoch 137/200\n",
            "13/13 [==============================] - 0s 7ms/step - loss: 6.7846 - mae: 6.7846\n",
            "Epoch 138/200\n",
            "13/13 [==============================] - 0s 7ms/step - loss: 6.9343 - mae: 6.9343\n",
            "Epoch 139/200\n",
            "13/13 [==============================] - 0s 7ms/step - loss: 6.9188 - mae: 6.9188\n",
            "Epoch 140/200\n",
            "13/13 [==============================] - 0s 7ms/step - loss: 6.7838 - mae: 6.7838\n",
            "Epoch 141/200\n",
            "13/13 [==============================] - 0s 6ms/step - loss: 6.8794 - mae: 6.8794\n",
            "Epoch 142/200\n",
            "13/13 [==============================] - 0s 7ms/step - loss: 6.8729 - mae: 6.8729\n",
            "Epoch 143/200\n",
            "13/13 [==============================] - 0s 7ms/step - loss: 6.9191 - mae: 6.9191\n",
            "Epoch 144/200\n",
            "13/13 [==============================] - 0s 8ms/step - loss: 7.0974 - mae: 7.0974\n",
            "Epoch 145/200\n",
            "13/13 [==============================] - 0s 7ms/step - loss: 7.1679 - mae: 7.1679\n",
            "Epoch 146/200\n",
            "13/13 [==============================] - 0s 6ms/step - loss: 6.8890 - mae: 6.8890\n",
            "Epoch 147/200\n",
            "13/13 [==============================] - 0s 7ms/step - loss: 6.8947 - mae: 6.8947\n",
            "Epoch 148/200\n",
            "13/13 [==============================] - 0s 7ms/step - loss: 7.3896 - mae: 7.3896\n",
            "Epoch 149/200\n",
            "13/13 [==============================] - 0s 7ms/step - loss: 7.0387 - mae: 7.0387\n",
            "Epoch 150/200\n",
            "13/13 [==============================] - 0s 7ms/step - loss: 6.8497 - mae: 6.8497\n",
            "Epoch 151/200\n",
            "13/13 [==============================] - 0s 8ms/step - loss: 6.9279 - mae: 6.9279\n",
            "Epoch 152/200\n",
            "13/13 [==============================] - 0s 8ms/step - loss: 6.9355 - mae: 6.9355\n",
            "Epoch 153/200\n",
            "13/13 [==============================] - 0s 7ms/step - loss: 6.8851 - mae: 6.8851\n",
            "Epoch 154/200\n",
            "13/13 [==============================] - 0s 8ms/step - loss: 6.8112 - mae: 6.8112\n",
            "Epoch 155/200\n",
            "13/13 [==============================] - 0s 7ms/step - loss: 6.7754 - mae: 6.7754\n",
            "Epoch 156/200\n",
            "13/13 [==============================] - 0s 7ms/step - loss: 6.8299 - mae: 6.8299\n",
            "Epoch 157/200\n",
            "13/13 [==============================] - 0s 8ms/step - loss: 6.8347 - mae: 6.8347\n",
            "Epoch 158/200\n",
            "13/13 [==============================] - 0s 7ms/step - loss: 6.8848 - mae: 6.8848\n",
            "Epoch 159/200\n",
            "13/13 [==============================] - 0s 7ms/step - loss: 6.9233 - mae: 6.9233\n",
            "Epoch 160/200\n",
            "13/13 [==============================] - 0s 8ms/step - loss: 6.7705 - mae: 6.7705\n",
            "Epoch 161/200\n",
            "13/13 [==============================] - 0s 7ms/step - loss: 6.8658 - mae: 6.8658\n",
            "Epoch 162/200\n",
            "13/13 [==============================] - 0s 8ms/step - loss: 7.0693 - mae: 7.0693\n",
            "Epoch 163/200\n",
            "13/13 [==============================] - 0s 9ms/step - loss: 7.0007 - mae: 7.0007\n",
            "Epoch 164/200\n",
            "13/13 [==============================] - 0s 8ms/step - loss: 6.8486 - mae: 6.8486\n",
            "Epoch 165/200\n",
            "13/13 [==============================] - 0s 8ms/step - loss: 6.8773 - mae: 6.8773\n",
            "Epoch 166/200\n",
            "13/13 [==============================] - 0s 7ms/step - loss: 6.9370 - mae: 6.9370\n",
            "Epoch 167/200\n",
            "13/13 [==============================] - 0s 7ms/step - loss: 6.7808 - mae: 6.7808\n",
            "Epoch 168/200\n",
            "13/13 [==============================] - 0s 7ms/step - loss: 6.8656 - mae: 6.8656\n",
            "Epoch 169/200\n",
            "13/13 [==============================] - 0s 7ms/step - loss: 7.0460 - mae: 7.0460\n",
            "Epoch 170/200\n",
            "13/13 [==============================] - 0s 7ms/step - loss: 7.1827 - mae: 7.1827\n",
            "Epoch 171/200\n",
            "13/13 [==============================] - 0s 7ms/step - loss: 6.8413 - mae: 6.8413\n",
            "Epoch 172/200\n",
            "13/13 [==============================] - 0s 7ms/step - loss: 7.0111 - mae: 7.0111\n",
            "Epoch 173/200\n",
            "13/13 [==============================] - 0s 8ms/step - loss: 6.8322 - mae: 6.8322\n",
            "Epoch 174/200\n",
            "13/13 [==============================] - 0s 7ms/step - loss: 6.8644 - mae: 6.8644\n",
            "Epoch 175/200\n",
            "13/13 [==============================] - 0s 7ms/step - loss: 6.9560 - mae: 6.9560\n",
            "Epoch 176/200\n",
            "13/13 [==============================] - 0s 6ms/step - loss: 7.1871 - mae: 7.1871\n",
            "Epoch 177/200\n",
            "13/13 [==============================] - 0s 6ms/step - loss: 7.0161 - mae: 7.0161\n",
            "Epoch 178/200\n",
            "13/13 [==============================] - 0s 8ms/step - loss: 6.8816 - mae: 6.8816\n",
            "Epoch 179/200\n",
            "13/13 [==============================] - 0s 8ms/step - loss: 6.8406 - mae: 6.8406\n",
            "Epoch 180/200\n",
            "13/13 [==============================] - 0s 7ms/step - loss: 6.7921 - mae: 6.7921\n",
            "Epoch 181/200\n",
            "13/13 [==============================] - 0s 7ms/step - loss: 6.7823 - mae: 6.7823\n",
            "Epoch 182/200\n",
            "13/13 [==============================] - 0s 8ms/step - loss: 6.9062 - mae: 6.9062\n",
            "Epoch 183/200\n",
            "13/13 [==============================] - 0s 9ms/step - loss: 7.0078 - mae: 7.0078\n",
            "Epoch 184/200\n",
            "13/13 [==============================] - 0s 7ms/step - loss: 6.9075 - mae: 6.9075\n",
            "Epoch 185/200\n",
            "13/13 [==============================] - 0s 7ms/step - loss: 6.9575 - mae: 6.9575\n",
            "Epoch 186/200\n",
            "13/13 [==============================] - 0s 8ms/step - loss: 7.0261 - mae: 7.0261\n",
            "Epoch 187/200\n",
            "13/13 [==============================] - 0s 9ms/step - loss: 6.9648 - mae: 6.9648\n",
            "Epoch 188/200\n",
            "13/13 [==============================] - 0s 7ms/step - loss: 7.0149 - mae: 7.0149\n",
            "Epoch 189/200\n",
            "13/13 [==============================] - 0s 7ms/step - loss: 7.0282 - mae: 7.0282\n",
            "Epoch 190/200\n",
            "13/13 [==============================] - 0s 7ms/step - loss: 7.1155 - mae: 7.1155\n",
            "Epoch 191/200\n",
            "13/13 [==============================] - 0s 7ms/step - loss: 6.8746 - mae: 6.8746\n",
            "Epoch 192/200\n",
            "13/13 [==============================] - 0s 7ms/step - loss: 7.1607 - mae: 7.1607\n",
            "Epoch 193/200\n",
            "13/13 [==============================] - 0s 7ms/step - loss: 7.0266 - mae: 7.0266\n",
            "Epoch 194/200\n",
            "13/13 [==============================] - 0s 7ms/step - loss: 6.7922 - mae: 6.7922\n",
            "Epoch 195/200\n",
            "13/13 [==============================] - 0s 7ms/step - loss: 6.7994 - mae: 6.7994\n",
            "Epoch 196/200\n",
            "13/13 [==============================] - 0s 6ms/step - loss: 6.8209 - mae: 6.8209\n",
            "Epoch 197/200\n",
            "13/13 [==============================] - 0s 7ms/step - loss: 6.8716 - mae: 6.8716\n",
            "Epoch 198/200\n",
            "13/13 [==============================] - 0s 8ms/step - loss: 7.0753 - mae: 7.0753\n",
            "Epoch 199/200\n",
            "13/13 [==============================] - 0s 8ms/step - loss: 6.9178 - mae: 6.9178\n",
            "Epoch 200/200\n",
            "13/13 [==============================] - 0s 7ms/step - loss: 6.8946 - mae: 6.8946\n"
          ]
        }
      ]
    },
    {
      "cell_type": "code",
      "source": [
        "# Let's evaluate on the test data: \n",
        "model_3.evaluate(X_test, y_test)"
      ],
      "metadata": {
        "colab": {
          "base_uri": "https://localhost:8080/"
        },
        "id": "AV3bLerVdSwX",
        "outputId": "3689b31b-61c1-4505-96af-3d48e1ca9a22"
      },
      "execution_count": 34,
      "outputs": [
        {
          "output_type": "stream",
          "name": "stdout",
          "text": [
            "4/4 [==============================] - 0s 5ms/step - loss: 6.0527 - mae: 6.0527\n"
          ]
        },
        {
          "output_type": "execute_result",
          "data": {
            "text/plain": [
              "[6.052682876586914, 6.052682876586914]"
            ]
          },
          "metadata": {},
          "execution_count": 34
        }
      ]
    },
    {
      "cell_type": "code",
      "source": [
        "# Plotting the loss vs.Epoch: \n",
        "pd.DataFrame(model_3_history.history).plot()\n",
        "plt.xlabel(\"Epochs\")\n",
        "plt.ylabel(\"Losses\")"
      ],
      "metadata": {
        "colab": {
          "base_uri": "https://localhost:8080/",
          "height": 297
        },
        "id": "N9TfxrEKdcEm",
        "outputId": "4fda668b-791e-4b34-fa7b-53fcfd65d89f"
      },
      "execution_count": 35,
      "outputs": [
        {
          "output_type": "execute_result",
          "data": {
            "text/plain": [
              "Text(0, 0.5, 'Losses')"
            ]
          },
          "metadata": {},
          "execution_count": 35
        },
        {
          "output_type": "display_data",
          "data": {
            "text/plain": [
              "<Figure size 432x288 with 1 Axes>"
            ],
            "image/png": "[encoded data removed]"
          },
          "metadata": {
            "needs_background": "light"
          }
        }
      ]
    }
  ]
}