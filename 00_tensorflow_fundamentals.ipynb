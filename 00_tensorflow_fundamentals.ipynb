{
  "nbformat": 4,
  "nbformat_minor": 0,
  "metadata": {
    "colab": {
      "name": "00_tensorflow_fundamentals.ipynb",
      "provenance": [],
      "collapsed_sections": [
        "8LeHBrUAQTjF",
        "YTVZ3g13RE6T",
        "jYpZCAoI3786",
        "Kf1bbRkVCv_q",
        "Ho0PF2kOIYc3",
        "STgP01DKkMDu",
        "FJ4GLdUUmAR8",
        "OqvVUnMlozMP",
        "eLixOjva0mjH",
        "bb9ucVdHqyvd"
      ],
      "authorship_tag": "ABX9TyM3ZxQvaGmAaaKockjD8JVk",
      "include_colab_link": true
    },
    "kernelspec": {
      "name": "python3",
      "display_name": "Python 3"
    },
    "language_info": {
      "name": "python"
    },
    "accelerator": "GPU"
  },
  "cells": [
    {
      "cell_type": "markdown",
      "metadata": {
        "id": "view-in-github",
        "colab_type": "text"
      },
      "source": [
        "<a href=\"https://colab.research.google.com/github/ELMehdiNaor/TensorFlow-Developer-Certificate-in-2022-Zero-to-Mastery/blob/main/00_tensorflow_fundamentals.ipynb\" target=\"_parent\"><img src=\"https://colab.research.google.com/assets/colab-badge.svg\" alt=\"Open In Colab\"/></a>"
      ]
    },
    {
      "cell_type": "markdown",
      "source": [
        "# In this notebook, we are going to cover some of the most fundamental concepts of tensors using Tensorflow \n",
        "More specifically, we are going to cover: \n",
        "* Introduction to tensors \n",
        "* Getting information from tensors \n",
        "* Manipulating tensors \n",
        "* Tensors & NumPy\n",
        "* Using @tf.function(a way to speed up your regular Python functions)\n",
        "* Using GPUs with TensorFlow (or TPUs)\n",
        "* Exercises to try for yourself"
      ],
      "metadata": {
        "id": "8LeHBrUAQTjF"
      }
    },
    {
      "cell_type": "markdown",
      "source": [
        "## Introduction to Tensors"
      ],
      "metadata": {
        "id": "YTVZ3g13RE6T"
      }
    },
    {
      "cell_type": "code",
      "source": [
        "# Import Tensorflow \n",
        "import tensorflow as tf \n",
        "print(tf.__version__)"
      ],
      "metadata": {
        "colab": {
          "base_uri": "https://localhost:8080/"
        },
        "id": "VN2xhYTOReOe",
        "outputId": "ac0fde22-0263-4c7a-c15a-7a386f8aaeb8"
      },
      "execution_count": 49,
      "outputs": [
        {
          "output_type": "stream",
          "name": "stdout",
          "text": [
            "2.8.0\n"
          ]
        }
      ]
    },
    {
      "cell_type": "code",
      "source": [
        "# Create tensors with tf.constant()\n",
        "scalar = tf.constant(7)\n",
        "scalar"
      ],
      "metadata": {
        "colab": {
          "base_uri": "https://localhost:8080/"
        },
        "id": "FSSAx0v_Scvt",
        "outputId": "d46564ff-3937-477b-8891-3affe956995a"
      },
      "execution_count": 50,
      "outputs": [
        {
          "output_type": "execute_result",
          "data": {
            "text/plain": [
              "<tf.Tensor: shape=(), dtype=int32, numpy=7>"
            ]
          },
          "metadata": {},
          "execution_count": 50
        }
      ]
    },
    {
      "cell_type": "code",
      "source": [
        "# Check the number of dimensions of a tensor (ndim stands for number of dimensions)\n",
        "scalar.ndim"
      ],
      "metadata": {
        "colab": {
          "base_uri": "https://localhost:8080/"
        },
        "id": "M9vvOhO8S3lE",
        "outputId": "f21f1316-1468-4a49-9b4d-80dbcee0b824"
      },
      "execution_count": 51,
      "outputs": [
        {
          "output_type": "execute_result",
          "data": {
            "text/plain": [
              "0"
            ]
          },
          "metadata": {},
          "execution_count": 51
        }
      ]
    },
    {
      "cell_type": "code",
      "source": [
        "# Create a vector \n",
        "vector = tf.constant([10,10])\n",
        "vector"
      ],
      "metadata": {
        "colab": {
          "base_uri": "https://localhost:8080/"
        },
        "id": "2nBMvRaQTBG3",
        "outputId": "eefc29f2-c12d-4d88-9074-83c7c43c971c"
      },
      "execution_count": 52,
      "outputs": [
        {
          "output_type": "execute_result",
          "data": {
            "text/plain": [
              "<tf.Tensor: shape=(2,), dtype=int32, numpy=array([10, 10], dtype=int32)>"
            ]
          },
          "metadata": {},
          "execution_count": 52
        }
      ]
    },
    {
      "cell_type": "code",
      "source": [
        "# Check the dimension of our vector \n",
        "vector.ndim"
      ],
      "metadata": {
        "colab": {
          "base_uri": "https://localhost:8080/"
        },
        "id": "gkFzjaXqTPj7",
        "outputId": "9f0043b9-a7f0-4047-f2d5-25e91d05d9c7"
      },
      "execution_count": 53,
      "outputs": [
        {
          "output_type": "execute_result",
          "data": {
            "text/plain": [
              "1"
            ]
          },
          "metadata": {},
          "execution_count": 53
        }
      ]
    },
    {
      "cell_type": "code",
      "source": [
        "# Create a matrix (has more than 1 dimension)\n",
        "matrix = tf.constant([[10, 7],\n",
        "                     [7, 10]])\n",
        "matrix"
      ],
      "metadata": {
        "colab": {
          "base_uri": "https://localhost:8080/"
        },
        "id": "W_ZzJeMfTZhK",
        "outputId": "987ed356-9b49-41f4-a257-1d8a150acd4e"
      },
      "execution_count": 54,
      "outputs": [
        {
          "output_type": "execute_result",
          "data": {
            "text/plain": [
              "<tf.Tensor: shape=(2, 2), dtype=int32, numpy=\n",
              "array([[10,  7],\n",
              "       [ 7, 10]], dtype=int32)>"
            ]
          },
          "metadata": {},
          "execution_count": 54
        }
      ]
    },
    {
      "cell_type": "code",
      "source": [
        "matrix.ndim"
      ],
      "metadata": {
        "colab": {
          "base_uri": "https://localhost:8080/"
        },
        "id": "U_OIHYwhTwJ7",
        "outputId": "5af7ce2f-ba5c-48f6-9b5e-09e3d0bd914c"
      },
      "execution_count": 55,
      "outputs": [
        {
          "output_type": "execute_result",
          "data": {
            "text/plain": [
              "2"
            ]
          },
          "metadata": {},
          "execution_count": 55
        }
      ]
    },
    {
      "cell_type": "code",
      "source": [
        "# Create another matrix \n",
        "an_matrix = tf.constant([[10., 7.], \n",
        "                         [3., 2.], \n",
        "                         [7., 10.]], dtype=tf.float16) # specify the data type with the dtype parameter\n",
        "an_matrix         "
      ],
      "metadata": {
        "colab": {
          "base_uri": "https://localhost:8080/"
        },
        "id": "h-_oGHLWUAj-",
        "outputId": "dcfe9e49-53bc-4e80-dc02-ef1fe0ee5a49"
      },
      "execution_count": 56,
      "outputs": [
        {
          "output_type": "execute_result",
          "data": {
            "text/plain": [
              "<tf.Tensor: shape=(3, 2), dtype=float16, numpy=\n",
              "array([[10.,  7.],\n",
              "       [ 3.,  2.],\n",
              "       [ 7., 10.]], dtype=float16)>"
            ]
          },
          "metadata": {},
          "execution_count": 56
        }
      ]
    },
    {
      "cell_type": "code",
      "source": [
        "# What is the number of dimensions of an_matrix?\n",
        "an_matrix.ndim"
      ],
      "metadata": {
        "colab": {
          "base_uri": "https://localhost:8080/"
        },
        "id": "gc_9DFiOUvqQ",
        "outputId": "8f4334a4-006b-49b6-8b03-30c915e15147"
      },
      "execution_count": 57,
      "outputs": [
        {
          "output_type": "execute_result",
          "data": {
            "text/plain": [
              "2"
            ]
          },
          "metadata": {},
          "execution_count": 57
        }
      ]
    },
    {
      "cell_type": "code",
      "source": [
        "# Let's create a tensor \n",
        "tensor = tf.constant([[[1, 2, 3], \n",
        "                     [4, 5, 6]],\n",
        "                     [[7, 8, 9], \n",
        "                     [10, 11, 12]], \n",
        "                     [[13, 14, 15], \n",
        "                      [16, 17, 18]]])\n",
        "tensor"
      ],
      "metadata": {
        "colab": {
          "base_uri": "https://localhost:8080/"
        },
        "id": "CpOk-TvkVHZv",
        "outputId": "beec416b-b075-4862-d15a-21fc2a9f4335"
      },
      "execution_count": 58,
      "outputs": [
        {
          "output_type": "execute_result",
          "data": {
            "text/plain": [
              "<tf.Tensor: shape=(3, 2, 3), dtype=int32, numpy=\n",
              "array([[[ 1,  2,  3],\n",
              "        [ 4,  5,  6]],\n",
              "\n",
              "       [[ 7,  8,  9],\n",
              "        [10, 11, 12]],\n",
              "\n",
              "       [[13, 14, 15],\n",
              "        [16, 17, 18]]], dtype=int32)>"
            ]
          },
          "metadata": {},
          "execution_count": 58
        }
      ]
    },
    {
      "cell_type": "markdown",
      "source": [
        "# What we have created so far: \n",
        "* Scalar: is a single number \n",
        "* Vector: a number with direction (e.g. wind speed and direction)\n",
        "* Matrix: a 2-dimensional array of numbers\n",
        "* Tensor: an n-dimensional array of numbers (when n can be any number)"
      ],
      "metadata": {
        "id": "iSrl1X1TWTRn"
      }
    },
    {
      "cell_type": "markdown",
      "source": [
        "### Creating tensors with `tf.variable` \n"
      ],
      "metadata": {
        "id": "kvho7th3t_QJ"
      }
    },
    {
      "cell_type": "code",
      "source": [
        "import tensorflow as tf\n",
        "\n",
        "# Let's Create the same tensor with tf.Variable() as above \n",
        "changeable_tensor = tf.Variable([10, 7])\n",
        "unchangeable_tensor = tf.constant([10, 7])\n",
        "# Display the values of the tensors: \n",
        "changeable_tensor, unchangeable_tensor"
      ],
      "metadata": {
        "colab": {
          "base_uri": "https://localhost:8080/"
        },
        "id": "tmpiicmluzTW",
        "outputId": "acefd82c-608a-459e-f7a0-500e18296097"
      },
      "execution_count": 59,
      "outputs": [
        {
          "output_type": "execute_result",
          "data": {
            "text/plain": [
              "(<tf.Variable 'Variable:0' shape=(2,) dtype=int32, numpy=array([10,  7], dtype=int32)>,\n",
              " <tf.Tensor: shape=(2,), dtype=int32, numpy=array([10,  7], dtype=int32)>)"
            ]
          },
          "metadata": {},
          "execution_count": 59
        }
      ]
    },
    {
      "cell_type": "code",
      "source": [
        "# Let's try to change one of the elements in our changeable tensor: \n",
        "changeable_tensor[0] = 7"
      ],
      "metadata": {
        "colab": {
          "base_uri": "https://localhost:8080/",
          "height": 183
        },
        "id": "hKEzMrISzOw2",
        "outputId": "a47f41e7-117f-412f-829e-310958322ea8"
      },
      "execution_count": 60,
      "outputs": [
        {
          "output_type": "error",
          "ename": "TypeError",
          "evalue": "ignored",
          "traceback": [
            "\u001b[0;31m---------------------------------------------------------------------------\u001b[0m",
            "\u001b[0;31mTypeError\u001b[0m                                 Traceback (most recent call last)",
            "\u001b[0;32m<ipython-input-60-750b62464e17>\u001b[0m in \u001b[0;36m<module>\u001b[0;34m()\u001b[0m\n\u001b[1;32m      1\u001b[0m \u001b[0;31m# Let's try to change one of the elements in our changeable tensor:\u001b[0m\u001b[0;34m\u001b[0m\u001b[0;34m\u001b[0m\u001b[0;34m\u001b[0m\u001b[0m\n\u001b[0;32m----> 2\u001b[0;31m \u001b[0mchangeable_tensor\u001b[0m\u001b[0;34m[\u001b[0m\u001b[0;36m0\u001b[0m\u001b[0;34m]\u001b[0m \u001b[0;34m=\u001b[0m \u001b[0;36m7\u001b[0m\u001b[0;34m\u001b[0m\u001b[0;34m\u001b[0m\u001b[0m\n\u001b[0m",
            "\u001b[0;31mTypeError\u001b[0m: 'ResourceVariable' object does not support item assignment"
          ]
        }
      ]
    },
    {
      "cell_type": "code",
      "source": [
        "# How about we try.assign():\n",
        "changeable_tensor[0].assign(7)\n",
        "changeable_tensor"
      ],
      "metadata": {
        "id": "8oO78qpm1PaK"
      },
      "execution_count": null,
      "outputs": []
    },
    {
      "cell_type": "code",
      "source": [
        "# Let's try to change our unchangeable tensor: \n",
        "unchangeable_tensor[0] = 7\n",
        "unchangeable_tensor"
      ],
      "metadata": {
        "id": "aIovLSwY1sEJ"
      },
      "execution_count": null,
      "outputs": []
    },
    {
      "cell_type": "code",
      "source": [
        "# Let's try again using the .assign() method:\n",
        "unchangeable_tensor[0].assign(7)\n",
        "unchangeable_tensor"
      ],
      "metadata": {
        "id": "EVTya72O18iG"
      },
      "execution_count": null,
      "outputs": []
    },
    {
      "cell_type": "markdown",
      "source": [
        "🔑 **Note:** Rarely in pratice will you need to decide whether to use `tf.constant()` or `tf.variable()` to create tensors, as Tensorflow does this for you.\n",
        " However if in doubt, use `tf.constant()` and change it later if needed."
      ],
      "metadata": {
        "id": "rnxgwye-2eYU"
      }
    },
    {
      "cell_type": "markdown",
      "source": [
        "### Creating random tensors \n",
        "\n",
        "Random tensors are tensors of some arbitrary size which contain random numbers "
      ],
      "metadata": {
        "id": "jYpZCAoI3786"
      }
    },
    {
      "cell_type": "code",
      "source": [
        " # Let's create two random (but the same) tensors: \n",
        " # First random tensor:\n",
        " random_tensor1 = tf.random.Generator.from_seed(42) # set seed for reproducibility\n",
        " random_tensor1 = random_tensor1.normal(shape=(3, 2))\n",
        " random_tensor1 "
      ],
      "metadata": {
        "id": "KLk0HToI6g3-"
      },
      "execution_count": null,
      "outputs": []
    },
    {
      "cell_type": "code",
      "source": [
        " # Second random tensor: \n",
        " random_tensor2 = tf.random.Generator.from_seed(42)\n",
        " random_tensor2 = random_tensor2.normal(shape=(3, 2))\n",
        " random_tensor2"
      ],
      "metadata": {
        "id": "WNMY4oT288Cz"
      },
      "execution_count": null,
      "outputs": []
    },
    {
      "cell_type": "code",
      "source": [
        "# Are the tensors equal? \n",
        "random_tensor1, random_tensor2, random_tensor1 == random_tensor2"
      ],
      "metadata": {
        "id": "9ZUndJIq9WLW"
      },
      "execution_count": null,
      "outputs": []
    },
    {
      "cell_type": "markdown",
      "source": [
        "### Shuffle the order of elements in a tensor"
      ],
      "metadata": {
        "id": "Kf1bbRkVCv_q"
      }
    },
    {
      "cell_type": "code",
      "source": [
        "# Shuffle a tensor (This is valuable when you want to shuffle your data so the inherent order doesn't effect learning)\n",
        "not_shuffled = tf.constant([[1, 2], \n",
        "                            [3, 4],\n",
        "                            [5, 6]]) \n",
        "# Display the dimension of the tensor: \n",
        "not_shuffled.ndim"
      ],
      "metadata": {
        "id": "b9v78PwuC5C4"
      },
      "execution_count": null,
      "outputs": []
    },
    {
      "cell_type": "code",
      "source": [
        "not_shuffled"
      ],
      "metadata": {
        "id": "Yv1WyftMD6nD"
      },
      "execution_count": null,
      "outputs": []
    },
    {
      "cell_type": "code",
      "source": [
        "# Let's shuffle our non-shuffled tensor for the first time: \n",
        "tf.random.shuffle(not_shuffled)"
      ],
      "metadata": {
        "id": "MRpScXAIEYFg"
      },
      "execution_count": null,
      "outputs": []
    },
    {
      "cell_type": "code",
      "source": [
        "# Let's shuffle for a second time: \n",
        "tf.random.shuffle(not_shuffled)"
      ],
      "metadata": {
        "id": "NmK1e-fTE8gX"
      },
      "execution_count": null,
      "outputs": []
    },
    {
      "cell_type": "code",
      "source": [
        "# Let's shuffle for a third time: \n",
        "tf.random.shuffle(not_shuffled)"
      ],
      "metadata": {
        "id": "Z0CvDHL9FLqC"
      },
      "execution_count": null,
      "outputs": []
    },
    {
      "cell_type": "code",
      "source": [
        "# Let's shuffle for a fourth time: \n",
        "tf.random.shuffle(not_shuffled)"
      ],
      "metadata": {
        "id": "-HQdVP61FWKI"
      },
      "execution_count": null,
      "outputs": []
    },
    {
      "cell_type": "code",
      "source": [
        "# Let's shuffle for the fifth time: \n",
        "tf.random.shuffle(not_shuffled)"
      ],
      "metadata": {
        "id": "3HaKeY07FgTf"
      },
      "execution_count": null,
      "outputs": []
    },
    {
      "cell_type": "code",
      "source": [
        " # Let's shuffle our tensor after setting the seed parameter: \n",
        " tf.random.set_seed(42)\n",
        " tf.random.shuffle(not_shuffled, seed = 42)"
      ],
      "metadata": {
        "id": "DtdXku-oGaQC"
      },
      "execution_count": null,
      "outputs": []
    },
    {
      "cell_type": "code",
      "source": [
        "# Let's shuffle the tensor for the 2nd time after setting the seed parameter: \n",
        "tf.random.set_seed(42)\n",
        "tf.random.shuffle(not_shuffled, seed=42)"
      ],
      "metadata": {
        "id": "31q8enEBGe3-"
      },
      "execution_count": null,
      "outputs": []
    },
    {
      "cell_type": "markdown",
      "source": [
        "🛠 **Exercise:** Read through TensorFlow documentation on random seed generation: https://www.tensorflow.org/api_docs/python/tf/random/set_seed, and pratice \n",
        "5 random tensors and shuffle them"
      ],
      "metadata": {
        "id": "kHHV0BZ_HFt4"
      }
    },
    {
      "cell_type": "markdown",
      "source": [
        "### Let's do some exercise"
      ],
      "metadata": {
        "id": "Ho0PF2kOIYc3"
      }
    },
    {
      "cell_type": "code",
      "source": [
        "# Let's generate the first unshuffled tensor: \n",
        "not_shuffled1 = tf.constant([[5, 6],\n",
        "                            [3, 4], \n",
        "                            [1, 2]])\n",
        "# Shuffle Time !  \n",
        "# First Shuffle :\n",
        "tf.random.shuffle(not_shuffled)"
      ],
      "metadata": {
        "id": "JIo7l_2pIo02"
      },
      "execution_count": null,
      "outputs": []
    },
    {
      "cell_type": "code",
      "source": [
        "# Second Shuffle: \n",
        "tf.random.shuffle(not_shuffled1)"
      ],
      "metadata": {
        "id": "duOdJp1sJbxa"
      },
      "execution_count": null,
      "outputs": []
    },
    {
      "cell_type": "code",
      "source": [
        "# Third Shuufle: \n",
        "tf.random.shuffle(not_shuffled1)"
      ],
      "metadata": {
        "id": "idegduLMJl3_"
      },
      "execution_count": null,
      "outputs": []
    },
    {
      "cell_type": "code",
      "source": [
        "# Let's shuffle the tensor after setting the seed parameter:\n",
        "# First Time:\n",
        "tf.random.set_seed(15)\n",
        "tf.random.shuffle(not_shuffled1, seed=15)"
      ],
      "metadata": {
        "id": "NbbrWiJeJylG"
      },
      "execution_count": null,
      "outputs": []
    },
    {
      "cell_type": "code",
      "source": [
        "# Second Time: \n",
        "tf.random.set_seed(15)\n",
        "tf.random.shuffle(not_shuffled1, seed=15)"
      ],
      "metadata": {
        "id": "rOOsUK7mKQWI"
      },
      "execution_count": null,
      "outputs": []
    },
    {
      "cell_type": "code",
      "source": [
        "# Third Time: \n",
        "tf.random.set_seed(15)\n",
        "tf.random.shuffle(not_shuffled1, seed=15)"
      ],
      "metadata": {
        "id": "Gelve_p4Kd-s"
      },
      "execution_count": null,
      "outputs": []
    },
    {
      "cell_type": "code",
      "source": [
        "# Let's generate a second unshuffled tensor: \n",
        "not_shuffled2 = tf.constant([[8, 9], \n",
        "                             [6, 7], \n",
        "                             [4, 5]])\n",
        "not_shuffled2"
      ],
      "metadata": {
        "id": "NaO9QrncKqtS"
      },
      "execution_count": null,
      "outputs": []
    },
    {
      "cell_type": "code",
      "source": [
        "# Let's Shuffle the tensor: \n",
        "# 1st Shuffle: \n",
        "tf.random.shuffle(not_shuffled2)"
      ],
      "metadata": {
        "id": "DulV71_3LV3g"
      },
      "execution_count": null,
      "outputs": []
    },
    {
      "cell_type": "code",
      "source": [
        "#  2nd Shuffle: \n",
        "tf.random.shuffle(not_shuffled2)"
      ],
      "metadata": {
        "id": "WQjqI2p1LcA2"
      },
      "execution_count": null,
      "outputs": []
    },
    {
      "cell_type": "code",
      "source": [
        "# 3rd Shuffle: \n",
        "tf.random.shuffle(not_shuffled2)"
      ],
      "metadata": {
        "id": "0WU3RbDALsr4"
      },
      "execution_count": null,
      "outputs": []
    },
    {
      "cell_type": "code",
      "source": [
        "# Let's shuffle the second tensor after setting the seed parameter:\n",
        "tf.random.set_seed(44)\n",
        "tf.random.shuffle(not_shuffled2,seed=44)"
      ],
      "metadata": {
        "id": "TZIpbu9QL523"
      },
      "execution_count": null,
      "outputs": []
    },
    {
      "cell_type": "code",
      "source": [
        "import tensorflow as tf\n"
      ],
      "metadata": {
        "id": "xDHceXCCjHkC"
      },
      "execution_count": null,
      "outputs": []
    },
    {
      "cell_type": "code",
      "source": [
        "not_shuffled4 = tf.constant([[9, 10], \n",
        "                             [7, 8],\n",
        "                             [5, 6]])\n",
        "tf.random.set_seed(42) # global level random seed\n",
        "tf.random.shuffle(not_shuffled4, seed=42) # operation level random seed"
      ],
      "metadata": {
        "id": "xhzJTm25jTp4"
      },
      "execution_count": null,
      "outputs": []
    },
    {
      "cell_type": "markdown",
      "source": [
        "### Other ways to make tensors"
      ],
      "metadata": {
        "id": "STgP01DKkMDu"
      }
    },
    {
      "cell_type": "code",
      "source": [
        "# Create a tensor of all ones:\n",
        "tf.ones([4,6])"
      ],
      "metadata": {
        "id": "k14bBP7AkaxX"
      },
      "execution_count": null,
      "outputs": []
    },
    {
      "cell_type": "code",
      "source": [
        "# Let's create a tensor of all zeros:\n",
        "tf.zeros([4,6])"
      ],
      "metadata": {
        "id": "na76nZPVk3sB"
      },
      "execution_count": null,
      "outputs": []
    },
    {
      "cell_type": "code",
      "source": [
        "# Let's create a second tensor of all zeros:\n",
        "tf.zeros(shape=(4,4))"
      ],
      "metadata": {
        "id": "haOX41tLlFht"
      },
      "execution_count": null,
      "outputs": []
    },
    {
      "cell_type": "markdown",
      "source": [
        "### Turn Numpy arrays into tensors \n",
        "The main difference between NumPy arrays and Tensorflow tensors is that tensors can be run on a GPU\n",
        "(much faster for numerical computing)"
      ],
      "metadata": {
        "id": "FJ4GLdUUmAR8"
      }
    },
    {
      "cell_type": "code",
      "source": [
        "# You can also turn NumPy arrays into tensors\n",
        "import numpy as np \n",
        "# X = tf.constant(some_matrix) # capital for matrix or tensor\n",
        "# y = tf.constant(vector) # non-capital for vector\n",
        "numpy_A = np.arange(1, 25, dtype=np.int32)\n",
        "numpy_A "
      ],
      "metadata": {
        "id": "st_rYv3nmXHS"
      },
      "execution_count": null,
      "outputs": []
    },
    {
      "cell_type": "code",
      "source": [
        "# Let's turn a numpy array into a tensorflow tensor: \n",
        "A = tf.constant(numpy_A)\n",
        "A\n",
        "A.ndim"
      ],
      "metadata": {
        "id": "rHi70iNInFtj"
      },
      "execution_count": null,
      "outputs": []
    },
    {
      "cell_type": "code",
      "source": [
        "# Let's make it a 3-D tensor\n",
        "A = tf.constant(numpy_A,shape=(2,3,4))\n",
        "B = tf.constant(numpy_A)\n",
        "A, B"
      ],
      "metadata": {
        "id": "YCGqDMDEnuMW"
      },
      "execution_count": null,
      "outputs": []
    },
    {
      "cell_type": "markdown",
      "source": [
        "### Getting information from tensors\n",
        "\n",
        "When dealing with tensors you probably want to be aware of the following attributes:\n",
        "\n",
        "* Shape\n",
        "* Rank\n",
        "* Axis or dimension\n",
        "* Size\n",
        "\n"
      ],
      "metadata": {
        "id": "OqvVUnMlozMP"
      }
    },
    {
      "cell_type": "code",
      "source": [
        "# Let's Create a rank 4 tensor (4 dimensions)\n",
        "rank_4_tensor = tf.zeros(shape=[2, 3, 4, 5])\n",
        "rank_4_tensor"
      ],
      "metadata": {
        "id": "GHnsVCjzw5Cy"
      },
      "execution_count": null,
      "outputs": []
    },
    {
      "cell_type": "code",
      "source": [
        "rank_4_tensor[0]"
      ],
      "metadata": {
        "id": "ESPHA7OCo26t"
      },
      "execution_count": null,
      "outputs": []
    },
    {
      "cell_type": "code",
      "source": [
        "  # Let's display some information about the tensor: \n",
        "  # Shape, Dimension and Size: \n",
        "  rank_4_tensor.shape, rank_4_tensor.ndim, tf.size(rank_4_tensor)"
      ],
      "metadata": {
        "id": "zmOXjItQyYXq"
      },
      "execution_count": null,
      "outputs": []
    },
    {
      "cell_type": "code",
      "source": [
        "# Let's display some various attributes of our tensor:\n",
        "print(\"Datatype of every element:\", rank_4_tensor.dtype)\n",
        "print(\"Number of dimensions (rank):\", rank_4_tensor.ndim)\n",
        "print(\"Shape of tensor:\", rank_4_tensor.shape)\n",
        "print(\"Elements along the 0 axis:\", rank_4_tensor.shape[0])\n",
        "print(\"Elements along the last axis:\",  rank_4_tensor.shape[-1])\n",
        "print(\"Total number of elements in our tensor:\", tf.size(rank_4_tensor))\n",
        "print(\"Total number of elements in our tensor:\", tf.size(rank_4_tensor).numpy())"
      ],
      "metadata": {
        "id": "4lvMtNCBzLRv"
      },
      "execution_count": null,
      "outputs": []
    },
    {
      "cell_type": "markdown",
      "source": [
        "### Indexing tensors \n",
        "Tensors can be indexed just like Python lists."
      ],
      "metadata": {
        "id": "eLixOjva0mjH"
      }
    },
    {
      "cell_type": "code",
      "source": [
        "# Get the first 2 elements of each dimension: \n",
        "first_2_elements = rank_4_tensor[:2, :2, :2, :2]\n",
        "first_2_elements"
      ],
      "metadata": {
        "id": "SiCFFKGt5QLx"
      },
      "execution_count": null,
      "outputs": []
    },
    {
      "cell_type": "code",
      "source": [
        "# Get the first element from each dimension from each index except for the final one:\n",
        "first_element = rank_4_tensor[:1,:1,:1,]\n",
        "first_element"
      ],
      "metadata": {
        "id": "4P4dXEqh59C6"
      },
      "execution_count": null,
      "outputs": []
    },
    {
      "cell_type": "code",
      "source": [
        "# Let's create a rank 2  tensor (2 dimensions)\n",
        "rank_2_tensor = tf.constant([[9, 10], \n",
        "                             [7, 8]])\n",
        "rank_2_tensor\n"
      ],
      "metadata": {
        "id": "mhXFuyvQ686n"
      },
      "execution_count": null,
      "outputs": []
    },
    {
      "cell_type": "code",
      "source": [
        "# Let's display some various attributes of the tensor: \n",
        "print(\"Datatype of every element:\", rank_2_tensor.dtype)\n",
        "print(\"Number of dimensions (rank):\", rank_2_tensor.ndim)\n",
        "print(\"Shape of tensor:\", rank_2_tensor.shape)\n",
        "print(\"Elements along the 0-axis:\", rank_2_tensor.shape[0])\n",
        "print(\"Elements along the last axis:\", rank_2_tensor.shape[-1])\n",
        "print(\"Total number of elements in our tensor:\", tf.size(rank_2_tensor))\n",
        "print(\"Total number of elements in our tensor:\", tf.size(rank_2_tensor).numpy())"
      ],
      "metadata": {
        "id": "4eVlegjn7VRl"
      },
      "execution_count": null,
      "outputs": []
    },
    {
      "cell_type": "code",
      "source": [
        "# Get the last item of each row of our rank 2 tensor: \n",
        "rank_2_tensor[:,-1] "
      ],
      "metadata": {
        "id": "vOnOWys487gu"
      },
      "execution_count": null,
      "outputs": []
    },
    {
      "cell_type": "code",
      "source": [
        "# Add in extra dimension to our rank 2 tensor: \n",
        "rank_3_tensor = rank_2_tensor[..., tf.newaxis]\n",
        "rank_3_tensor"
      ],
      "metadata": {
        "id": "w3iE413O9bA8"
      },
      "execution_count": null,
      "outputs": []
    },
    {
      "cell_type": "code",
      "source": [
        "# Let's display some various attributes of our rank 3 tensor:\n",
        "print(\"Datatype of every element:\", rank_3_tensor.dtype) \n",
        "print(\"Number of dimensions (rank):\", rank_3_tensor.ndim) \n",
        "print(\"Shape of tensor:\", rank_3_tensor.shape) \n",
        "print(\"Elements along the 0-axis:\", rank_3_tensor.shape[0]) \n",
        "print(\"Elements along the last axis:\", rank_3_tensor.shape[-1]) \n",
        "print(\"Total number of elements in our tensor:\", tf.size(rank_3_tensor)) \n",
        "print(\"Total number of elements in our tensor:\", tf.size(rank_3_tensor).numpy()) "
      ],
      "metadata": {
        "id": "Y-v4SQCy-BAb"
      },
      "execution_count": null,
      "outputs": []
    },
    {
      "cell_type": "code",
      "source": [
        "# Alternative to tf.newaxis\n",
        "tf.expand_dims(rank_2_tensor, axis=-1) # \"-1\" means expand the final axis\n"
      ],
      "metadata": {
        "id": "x9-3C09v_exb"
      },
      "execution_count": null,
      "outputs": []
    },
    {
      "cell_type": "markdown",
      "source": [
        "### Manipulatig tensors (tensor operations)\n",
        "\n",
        "## Basic operations \n",
        "\n",
        "* Addition : \"+\"\n",
        "* Substraction : \"-\"\n",
        "* Multiplication : \"x\"\n",
        "* Division : \"/\""
      ],
      "metadata": {
        "id": "Ltg6bD2sAMZy"
      }
    },
    {
      "cell_type": "code",
      "source": [
        "# Let's create a dummy tensor to perform some basic operations on it:\n",
        "dummy_tensor = tf.constant([[1,2], [3,4], [5,6]])\n",
        "dummy_tensor"
      ],
      "metadata": {
        "id": "aGxnEp75CMys"
      },
      "execution_count": null,
      "outputs": []
    },
    {
      "cell_type": "code",
      "source": [
        "# Let's add values to our dummy tensor using the addition operator:\n",
        "dummy_tensor + 10"
      ],
      "metadata": {
        "id": "MJAkLUuOCotw"
      },
      "execution_count": null,
      "outputs": []
    },
    {
      "cell_type": "code",
      "source": [
        "# Let's subsracte some values from our dummy tensor using the substraction operator:\n",
        "dummy_tensor - 5"
      ],
      "metadata": {
        "id": "2V0XbZ33C3xv"
      },
      "execution_count": null,
      "outputs": []
    },
    {
      "cell_type": "code",
      "source": [
        "# Let's multiply our dummy tensor with a scalar using the multiplication operator: \n",
        "dummy_tensor * 4"
      ],
      "metadata": {
        "id": "RKM3SrRqDJtV"
      },
      "execution_count": null,
      "outputs": []
    },
    {
      "cell_type": "code",
      "source": [
        "# etc....."
      ],
      "metadata": {
        "id": "lNlvqg7iDVBZ"
      },
      "execution_count": null,
      "outputs": []
    },
    {
      "cell_type": "markdown",
      "source": [
        "**Matrix multiplication**\n",
        "\n",
        "In Machine Learning matrix multiplication is one of the most common tensor operations. \n",
        "\n",
        "There are two rules our tensors (or matrices) need to fulfil if we're going to matrix multiply them: \n",
        "\n",
        "1. The inner dimensions must match\n",
        "2. The resulting matrix has the shape of the outer dimensions "
      ],
      "metadata": {
        "id": "U4Ca2Jy9Eguu"
      }
    },
    {
      "cell_type": "code",
      "source": [
        "# Matrix multiplication in tensorflow:\n",
        "print(dummy_tensor) \n",
        "# Let's create two new dummy tensors; \n",
        "# Fist one:\n",
        "dummy_tensor1 = tf.constant([[1, 2], \n",
        "                             [3, 4]])\n",
        "# Second one: \n",
        "dummy_tensor2 = tf.constant([[5, 6],\n",
        "                             [7, 8]])\n"
      ],
      "metadata": {
        "id": "2RPrFlnRQPEh"
      },
      "execution_count": null,
      "outputs": []
    },
    {
      "cell_type": "code",
      "source": [
        "# Let's do some tensor multiplication using tf.matmul()\n",
        "tf.matmul(dummy_tensor1, dummy_tensor2)"
      ],
      "metadata": {
        "id": "fE-lRab8EkYl"
      },
      "execution_count": null,
      "outputs": []
    },
    {
      "cell_type": "code",
      "source": [
        "# Matrix Multiplication using Python operator (at) \"@\"\n",
        "# Let's try it:\n",
        "dummy_tensor1 @ dummy_tensor2"
      ],
      "metadata": {
        "id": "99A17-L6SnDv"
      },
      "execution_count": null,
      "outputs": []
    },
    {
      "cell_type": "code",
      "source": [
        "# A little exerice: \n",
        "# Let's create two new tensors: \n",
        "# First one [3x3]: \n",
        "tensor_1 = tf.constant([[1, 2, 5],[7, 2, 1],[3, 3, 3]])\n",
        "# Second one [3x2]:\n",
        "tensor_2 = tf.constant([[3, 5],[6, 7],[1, 8]])\n",
        "# Let's do some tensor multiplication: \n",
        "tf.matmul(tensor_1,tensor_2)"
      ],
      "metadata": {
        "id": "rQ8unemRTS-y"
      },
      "execution_count": null,
      "outputs": []
    },
    {
      "cell_type": "code",
      "source": [
        "# Let's try the multiplication using the Pyton operator \"@\"\n",
        "tensor_1 @ tensor_2"
      ],
      "metadata": {
        "id": "QBF0NpdbUbzd"
      },
      "execution_count": null,
      "outputs": []
    },
    {
      "cell_type": "code",
      "source": [
        "print(\"Display the tensor shapes:\", tensor_1.shape, tensor_2.shape)"
      ],
      "metadata": {
        "id": "0_YyCME6Ut9V"
      },
      "execution_count": null,
      "outputs": []
    },
    {
      "cell_type": "code",
      "source": [
        "# Let's create another (3x2) tensors:\n",
        "# First one: \n",
        "X = tf.constant([[1, 2],[3, 4],[5, 6]])\n",
        "# Second one: \n",
        "Y = tf.constant([[7, 8],[9, 10],[11, 12]])\n",
        "X, Y"
      ],
      "metadata": {
        "id": "pKsM6WqgVBiy"
      },
      "execution_count": null,
      "outputs": []
    },
    {
      "cell_type": "code",
      "source": [
        "# Let's try to multiply tensors of the shame shape using the python operator \"@\"\n",
        "X @ Y"
      ],
      "metadata": {
        "id": "rqvvA6B2Vw3g"
      },
      "execution_count": null,
      "outputs": []
    },
    {
      "cell_type": "code",
      "source": [
        "# Let's now to multiply them using the tf.matmul() method:\n",
        "tf.matmul(X,Y)"
      ],
      "metadata": {
        "id": "nlPH7nKPWCXj"
      },
      "execution_count": null,
      "outputs": []
    },
    {
      "cell_type": "markdown",
      "source": [
        "📖**Resource:** Info and example of matrix multiplication: https://www.mathsisfun.com/algebra/matrix-multiplying.html  "
      ],
      "metadata": {
        "id": "jISoRRvlWQ-S"
      }
    },
    {
      "cell_type": "code",
      "source": [
        "# Let's change the shape of Y:  \n",
        "print(\"The Shape of Y before reshaping it:\", Y.shape)\n",
        "print(\"The Shape of Y after reshaping it:\", tf.reshape(Y, shape=(2,3)))"
      ],
      "metadata": {
        "id": "ZjbC7VdpWjQh"
      },
      "execution_count": null,
      "outputs": []
    },
    {
      "cell_type": "code",
      "source": [
        "# Now let's do some multiplication again: \n",
        "# Try to multiply X by Y: \n",
        "# Matrix multiplication using the Python operator \"@\":\n",
        "X @ tf.reshape(Y,shape=(2,3))"
      ],
      "metadata": {
        "id": "6ebR3OexZDB6"
      },
      "execution_count": null,
      "outputs": []
    },
    {
      "cell_type": "code",
      "source": [
        "# Using the tensorflow method tf.matmul()\n",
        "tf.matmul(X,tf.reshape(Y,shape=(2,3)))"
      ],
      "metadata": {
        "id": "3stFAoleZ1kt"
      },
      "execution_count": null,
      "outputs": []
    },
    {
      "cell_type": "code",
      "source": [
        "# Let's reverse what we hhave just done \n",
        "# Reverse X instead of Y, and dome some matrix/tensor multiplication\n",
        "# Matrix multiplication using the Python operator \"@\"\n",
        "tf.reshape(X,shape=(2,3)) @ Y"
      ],
      "metadata": {
        "id": "Ioj8NGCtaO0Q"
      },
      "execution_count": null,
      "outputs": []
    },
    {
      "cell_type": "code",
      "source": [
        "# Tensor Multiplication using the tensorflow tf.matmul() method:\n",
        "\n",
        "tf.matmul(tf.reshape(X,shape=(2,3)),Y)"
      ],
      "metadata": {
        "id": "INFjM4iSatXA"
      },
      "execution_count": null,
      "outputs": []
    },
    {
      "cell_type": "code",
      "source": [
        "# Let's try to do the same thing with transpose: \n",
        "# But first let's have a quick look at the difference between the two methods tf.transpose() and tf.reshape():\n",
        "X, tf.transpose(X), tf.reshape(X,shape=(2,3))"
      ],
      "metadata": {
        "id": "ZFoUiyR5bhbN"
      },
      "execution_count": null,
      "outputs": []
    },
    {
      "cell_type": "code",
      "source": [
        "# Let's try some matrix multiplication using the method tf.transpose() rather than using the method tf.reshape():\n",
        "# Matrix Multiplication using the Python operator \"@\".\n",
        "tf.transpose(X) @ Y"
      ],
      "metadata": {
        "id": "2Wn7mYaLcmXr"
      },
      "execution_count": null,
      "outputs": []
    },
    {
      "cell_type": "code",
      "source": [
        "X @ tf.transpose(Y)"
      ],
      "metadata": {
        "id": "KfR-4MRWdJ7s"
      },
      "execution_count": null,
      "outputs": []
    },
    {
      "cell_type": "code",
      "source": [
        "# Matrix multiplication using the tf.matmul() method:\n",
        "tf.matmul(X,tf.transpose(Y))"
      ],
      "metadata": {
        "id": "P_7oxZsddREv"
      },
      "execution_count": null,
      "outputs": []
    },
    {
      "cell_type": "code",
      "source": [
        "tf.matmul(tf.transpose(X),Y)"
      ],
      "metadata": {
        "id": "qtOZhpQVdhHj"
      },
      "execution_count": null,
      "outputs": []
    },
    {
      "cell_type": "markdown",
      "source": [
        "**The dot product** \n",
        "\n",
        "Matrix multiplication is also reffered to as the dot product. \n",
        "\n",
        "You can peform matrix multiplication using: \n",
        "* `tf.matmul()`\n",
        "* `tf.tensordot()`\n",
        "* `@`"
      ],
      "metadata": {
        "id": "f-RDtM19eOl0"
      }
    },
    {
      "cell_type": "code",
      "source": [
        "print(X,Y)"
      ],
      "metadata": {
        "id": "uEH05NuflVUT"
      },
      "execution_count": null,
      "outputs": []
    },
    {
      "cell_type": "code",
      "source": [
        "# Peform the dot product on X and Y (requires X or Y to be transposed):\n",
        "tf.tensordot(tf.transpose(X), Y, axes=1)"
      ],
      "metadata": {
        "id": "S45g_qRXk76v"
      },
      "execution_count": null,
      "outputs": []
    },
    {
      "cell_type": "code",
      "source": [
        "# Let's try with the method tf.reshape(,shape=())\n",
        "tf.tensordot(tf.reshape(X,shape=(2,3)), Y, axes=1)"
      ],
      "metadata": {
        "id": "2IZrS9DIl1vI"
      },
      "execution_count": null,
      "outputs": []
    },
    {
      "cell_type": "code",
      "source": [
        "# Let's try matrix multiplication by transposing and reshaping Y:\n",
        "# Transposing Y:\n",
        "tf.tensordot(X, tf.transpose(Y), axes=1)"
      ],
      "metadata": {
        "id": "xdsLz5k4mMPw"
      },
      "execution_count": null,
      "outputs": []
    },
    {
      "cell_type": "code",
      "source": [
        "# Reshaping Y: \n",
        "tf.tensordot(X, tf.reshape(Y,shape=(2,3)), axes=1)"
      ],
      "metadata": {
        "id": "oYbdsAFKmiVQ"
      },
      "execution_count": null,
      "outputs": []
    },
    {
      "cell_type": "code",
      "source": [
        "# Check the Values of X, reshaped X and transposed X: \n",
        "print(\"Normal X:\")\n",
        "print(X, \"\\n\")\n",
        "print(\"Reshaped X:\")\n",
        "print(tf.reshape(X,shape=(2,3)), \"\\n\") # \"\\n\" is for a new line\n",
        "print(\"Transposed X:\")\n",
        "print(tf.transpose(X))"
      ],
      "metadata": {
        "id": "oNoMH3ktnJoY"
      },
      "execution_count": null,
      "outputs": []
    },
    {
      "cell_type": "code",
      "source": [
        "# Let's Check the values of Y, reshaped Y and transposed Y: \n",
        "print(\"Normal Y:\")\n",
        "print(Y, \"\\n\")\n",
        "print(\"Reshaped Y:\")\n",
        "print(tf.reshape(Y,shape=(2,3)), \"\\n\") # \"\\n\" is for newline\n",
        "print(\"Transposed Y:\")\n",
        "print(tf.transpose(Y))"
      ],
      "metadata": {
        "id": "JKJ-G2JBn1T5"
      },
      "execution_count": null,
      "outputs": []
    },
    {
      "cell_type": "markdown",
      "source": [
        "Generally, when performing matrix multiplication on two tensors and one of the axes doesn't line up, you will transpose\n",
        "rather than reshape one of the tensors to satisfy the matrix multiplication. "
      ],
      "metadata": {
        "id": "vbGojeHxogrp"
      }
    },
    {
      "cell_type": "markdown",
      "source": [
        "### Changing the datatype of a tensor:"
      ],
      "metadata": {
        "id": "bb9ucVdHqyvd"
      }
    },
    {
      "cell_type": "code",
      "source": [
        "# Create a new Tensor with a default datatype (float32):\n",
        "dummy_tensor1 = tf.constant([[1.1, 2.0], [5.1, 9.5]])\n",
        "# Display the datatype of our first dummmy tensor: \n",
        "print(\"The datatype of the dummy_tensor1 is:\", dummy_tensor1.dtype)"
      ],
      "metadata": {
        "id": "i0shx_MbrLXe"
      },
      "execution_count": null,
      "outputs": []
    },
    {
      "cell_type": "code",
      "source": [
        "# Let's create a second dummy tensor and display it's datatype:\n",
        "dummy_tensor2 = tf.constant([[9, 10], [7, 2]])\n",
        "print(\"The datatype of the dummy_tensor2 is:\", dummy_tensor2.dtype)"
      ],
      "metadata": {
        "id": "-AcOGE0Cv9Lu"
      },
      "execution_count": null,
      "outputs": []
    },
    {
      "cell_type": "code",
      "source": [
        "# Change from float32 to float16 (this is called reduced precision)\n",
        "dummy_tensor1 = tf.cast(dummy_tensor1, dtype=tf.float16)\n",
        "print(\"The datatype of the dummy_tensor1 is: \", dummy_tensor1.dtype)"
      ],
      "metadata": {
        "id": "LMjTv6KJwfhJ"
      },
      "execution_count": null,
      "outputs": []
    },
    {
      "cell_type": "code",
      "source": [
        "# Change the dummy_tensor2 from int32 to int16 \n",
        "dummy_tensor2 = tf.cast(dummy_tensor2, dtype=tf.int16)\n",
        "print(\"The datatype of the dummy_tensor2 is:\", dummy_tensor2.dtype)"
      ],
      "metadata": {
        "id": "-a7Ge4Gjx4P5"
      },
      "execution_count": null,
      "outputs": []
    },
    {
      "cell_type": "markdown",
      "source": [
        "## Aggregating Tensors\n",
        "\n",
        "Aggeragating tensors = condensing them form multiple values down to a smaller amout of values.\n",
        "\n"
      ],
      "metadata": {
        "id": "9OICmmqyzREv"
      }
    },
    {
      "cell_type": "code",
      "source": [
        "# Let's create a new tensor and get it's absolute value: \n",
        "dummy_tensor3 = tf.constant([1, 2])\n",
        "abs_val = tf.abs(dummy_tensor3)\n",
        "print(\"The absolute value of this tensor is:\", abs_val)"
      ],
      "metadata": {
        "id": "E3Ky6bkI0qxv"
      },
      "execution_count": null,
      "outputs": []
    },
    {
      "cell_type": "code",
      "source": [
        "#: \n",
        "dummy_tensor4 = tf.constant([[-10, -8], [2, -1]])\n",
        "abs_val1 = tf.abs(dummy_tensor4)\n",
        "print(\"The absolute value of this tensor is:\", abs_val1)"
      ],
      "metadata": {
        "id": "0gtIOEHf1vOp"
      },
      "execution_count": null,
      "outputs": []
    },
    {
      "cell_type": "markdown",
      "source": [
        "Let's go through the following form of aggregation: \n",
        "\n",
        "* Get the maximum \n",
        "* Get the minimum \n",
        "* Get the mean of a tensor \n",
        "* Get the sum of a tensor"
      ],
      "metadata": {
        "id": "QjvYh3l72SyD"
      }
    },
    {
      "cell_type": "code",
      "source": [
        "# Create a random tensor with values between 0 and 100  \n",
        "E = tf.constant(np.random.randint(0, 100, size=50))\n",
        "E"
      ],
      "metadata": {
        "id": "B7vI0vFr2jWL"
      },
      "execution_count": null,
      "outputs": []
    },
    {
      "cell_type": "code",
      "source": [
        "# Let's display some characteristics of our tensor: \n",
        "print(\"The size of the tensor is: \", tf.size(E))\n",
        "print(\"The shape of the tensor is: \", E.shape)\n",
        "print(\"The datatype of the tensor is: \", E.dtype)"
      ],
      "metadata": {
        "id": "mwB5KJuN3N3F"
      },
      "execution_count": null,
      "outputs": []
    },
    {
      "cell_type": "code",
      "source": [
        "# Let's Create a second random tensor with value between 0 and 50 \n",
        "F = tf.constant(np.random.randint(0, 50, size=40))\n",
        "F"
      ],
      "metadata": {
        "id": "wWNdq04H31xn"
      },
      "execution_count": null,
      "outputs": []
    },
    {
      "cell_type": "code",
      "source": [
        "# Let's display some characteristics of the tensor:\n",
        "print(\"The size of the tensor is: \", tf.size(F))\n",
        "print(\"The shape of the tensor is:\", F.shape)\n",
        "print(\"The datatype of the tensor is:\", F.dtype)"
      ],
      "metadata": {
        "id": "0mPmcGLs4JYY"
      },
      "execution_count": null,
      "outputs": []
    },
    {
      "cell_type": "code",
      "source": [
        "# Let's find the maximum values in the tensors; \n",
        "max_E = tf.reduce_max(E)\n",
        "max_F = tf.reduce_max(F)\n",
        "print(\"The maximum value in E is:\", max_E)\n",
        "print(\"The maximum value in F is:\", max_F)"
      ],
      "metadata": {
        "id": "DEF2zUdN4m7N"
      },
      "execution_count": null,
      "outputs": []
    },
    {
      "cell_type": "code",
      "source": [
        "# Let's now find the minimum values in the tensors:\n",
        "min_E = tf.reduce_min(E)\n",
        "min_F = tf.reduce_min(F)\n",
        "print(\"The minimum value in E is:\", min_E)\n",
        "print(\"The minimum value in F is:\", min_F)"
      ],
      "metadata": {
        "id": "jj9fUnAo5R3i"
      },
      "execution_count": null,
      "outputs": []
    },
    {
      "cell_type": "code",
      "source": [
        "# Let's get the mean of our tensor:\n",
        "mean_E = tf.reduce_mean(E)\n",
        "mean_F = tf.reduce_mean(F)\n",
        "print(\"The mean in E is:\", mean_E)\n",
        "print(\"The mean in F is:\", mean_F)"
      ],
      "metadata": {
        "id": "fiWmzhHV5pI5"
      },
      "execution_count": null,
      "outputs": []
    },
    {
      "cell_type": "code",
      "source": [
        "# Let's get the sum of all the values of the tensors:\n",
        "sum_E = tf.reduce_sum(E)\n",
        "sum_F = tf.reduce_sum(F)\n",
        "print(\"The Sum of E is:\", sum_E)\n",
        "print(\"The Sum of S is:\", sum_F)"
      ],
      "metadata": {
        "id": "MsMK9wi86Aof"
      },
      "execution_count": null,
      "outputs": []
    },
    {
      "cell_type": "markdown",
      "source": [
        " ⚒**Exericise**: With what we have just learned, find the variance and standard deviation of our E tensor using TensorFlow methods."
      ],
      "metadata": {
        "id": "4khjssh-_k6U"
      }
    },
    {
      "cell_type": "code",
      "source": [
        "#Let's import the necessay packages first: \n",
        "import tensorflow as tf\n",
        "import numpy as np\n",
        "# Create a random tensor with values between 0 and 100  \n",
        "E = tf.constant(np.random.randint(0, 100, size=50))\n",
        "E"
      ],
      "metadata": {
        "colab": {
          "base_uri": "https://localhost:8080/"
        },
        "id": "YV8lJJztD_wi",
        "outputId": "585ea07f-029c-4833-b91f-1178fd40395d"
      },
      "execution_count": 61,
      "outputs": [
        {
          "output_type": "execute_result",
          "data": {
            "text/plain": [
              "<tf.Tensor: shape=(50,), dtype=int64, numpy=\n",
              "array([89,  4, 60, 86, 91, 63, 24, 60, 24, 14, 53, 26, 58, 53, 37,  0, 66,\n",
              "       64, 41, 77, 16, 11, 19,  6, 91, 99, 47, 20, 91, 49, 16, 83,  3, 53,\n",
              "       63, 13, 31, 67, 39, 65, 99, 18, 18, 26, 99, 69, 26, 71,  0, 62])>"
            ]
          },
          "metadata": {},
          "execution_count": 61
        }
      ]
    },
    {
      "cell_type": "code",
      "source": [
        "# Find the variance of our tensor\n",
        "tf.reduce_var(E) # this won't work"
      ],
      "metadata": {
        "colab": {
          "base_uri": "https://localhost:8080/",
          "height": 183
        },
        "id": "tlvyXUd6EYQu",
        "outputId": "fb7d51ff-1de1-494b-8516-9f024d3f124d"
      },
      "execution_count": 62,
      "outputs": [
        {
          "output_type": "error",
          "ename": "AttributeError",
          "evalue": "ignored",
          "traceback": [
            "\u001b[0;31m---------------------------------------------------------------------------\u001b[0m",
            "\u001b[0;31mAttributeError\u001b[0m                            Traceback (most recent call last)",
            "\u001b[0;32m<ipython-input-62-4a8508db4463>\u001b[0m in \u001b[0;36m<module>\u001b[0;34m()\u001b[0m\n\u001b[1;32m      1\u001b[0m \u001b[0;31m# Find the variance of our tensor\u001b[0m\u001b[0;34m\u001b[0m\u001b[0;34m\u001b[0m\u001b[0;34m\u001b[0m\u001b[0m\n\u001b[0;32m----> 2\u001b[0;31m \u001b[0mtf\u001b[0m\u001b[0;34m.\u001b[0m\u001b[0mreduce_var\u001b[0m\u001b[0;34m(\u001b[0m\u001b[0mE\u001b[0m\u001b[0;34m)\u001b[0m\u001b[0;34m\u001b[0m\u001b[0;34m\u001b[0m\u001b[0m\n\u001b[0m",
            "\u001b[0;31mAttributeError\u001b[0m: module 'tensorflow' has no attribute 'reduce_var'"
          ]
        }
      ]
    },
    {
      "cell_type": "code",
      "source": [
        "tf.reduce_variance(E) # this won't work"
      ],
      "metadata": {
        "colab": {
          "base_uri": "https://localhost:8080/",
          "height": 166
        },
        "id": "8P2UPP_cEfAL",
        "outputId": "ee53d425-9285-4c14-fa58-9292244d4470"
      },
      "execution_count": 63,
      "outputs": [
        {
          "output_type": "error",
          "ename": "AttributeError",
          "evalue": "ignored",
          "traceback": [
            "\u001b[0;31m---------------------------------------------------------------------------\u001b[0m",
            "\u001b[0;31mAttributeError\u001b[0m                            Traceback (most recent call last)",
            "\u001b[0;32m<ipython-input-63-45e30fbe471b>\u001b[0m in \u001b[0;36m<module>\u001b[0;34m()\u001b[0m\n\u001b[0;32m----> 1\u001b[0;31m \u001b[0mtf\u001b[0m\u001b[0;34m.\u001b[0m\u001b[0mreduce_variance\u001b[0m\u001b[0;34m(\u001b[0m\u001b[0mE\u001b[0m\u001b[0;34m)\u001b[0m\u001b[0;34m\u001b[0m\u001b[0;34m\u001b[0m\u001b[0m\n\u001b[0m",
            "\u001b[0;31mAttributeError\u001b[0m: module 'tensorflow' has no attribute 'reduce_variance'"
          ]
        }
      ]
    },
    {
      "cell_type": "code",
      "source": [
        "# To find the variance of our tensor, we need access to tensor_probability \n",
        "import tensorflow_probability as tfp\n",
        "tfp.stats.reduce_variance(E)"
      ],
      "metadata": {
        "colab": {
          "base_uri": "https://localhost:8080/",
          "height": 183
        },
        "id": "nZeOJB0YEjEB",
        "outputId": "bebeb418-ef7b-4e21-ea50-ff3170126796"
      },
      "execution_count": 64,
      "outputs": [
        {
          "output_type": "error",
          "ename": "AttributeError",
          "evalue": "ignored",
          "traceback": [
            "\u001b[0;31m---------------------------------------------------------------------------\u001b[0m",
            "\u001b[0;31mAttributeError\u001b[0m                            Traceback (most recent call last)",
            "\u001b[0;32m<ipython-input-64-5ac164aa89eb>\u001b[0m in \u001b[0;36m<module>\u001b[0;34m()\u001b[0m\n\u001b[1;32m      1\u001b[0m \u001b[0;32mimport\u001b[0m \u001b[0mtensorflow_probability\u001b[0m \u001b[0;32mas\u001b[0m \u001b[0mtfp\u001b[0m\u001b[0;34m\u001b[0m\u001b[0;34m\u001b[0m\u001b[0m\n\u001b[0;32m----> 2\u001b[0;31m \u001b[0mtfp\u001b[0m\u001b[0;34m.\u001b[0m\u001b[0mstats\u001b[0m\u001b[0;34m.\u001b[0m\u001b[0mreduce_variance\u001b[0m\u001b[0;34m(\u001b[0m\u001b[0mE\u001b[0m\u001b[0;34m)\u001b[0m\u001b[0;34m\u001b[0m\u001b[0;34m\u001b[0m\u001b[0m\n\u001b[0m",
            "\u001b[0;31mAttributeError\u001b[0m: module 'tensorflow_probability.python.stats' has no attribute 'reduce_variance'"
          ]
        }
      ]
    },
    {
      "cell_type": "code",
      "source": [
        "tfp.stats.variance(E)\n"
      ],
      "metadata": {
        "colab": {
          "base_uri": "https://localhost:8080/"
        },
        "id": "4OMq1ktIE_7Q",
        "outputId": "9f31f363-9402-4ebc-ac78-f8d63baefc56"
      },
      "execution_count": 65,
      "outputs": [
        {
          "output_type": "execute_result",
          "data": {
            "text/plain": [
              "<tf.Tensor: shape=(), dtype=int64, numpy=890>"
            ]
          },
          "metadata": {},
          "execution_count": 65
        }
      ]
    },
    {
      "cell_type": "code",
      "source": [
        "# Find the standard deviation: \n",
        "tf.reduce_std(E) # this won't work\n"
      ],
      "metadata": {
        "colab": {
          "base_uri": "https://localhost:8080/",
          "height": 183
        },
        "id": "XNvwJ8s7FT80",
        "outputId": "ab5025f8-5663-4e7a-a5a9-90a203e0977d"
      },
      "execution_count": 66,
      "outputs": [
        {
          "output_type": "error",
          "ename": "AttributeError",
          "evalue": "ignored",
          "traceback": [
            "\u001b[0;31m---------------------------------------------------------------------------\u001b[0m",
            "\u001b[0;31mAttributeError\u001b[0m                            Traceback (most recent call last)",
            "\u001b[0;32m<ipython-input-66-afc27c1a09f2>\u001b[0m in \u001b[0;36m<module>\u001b[0;34m()\u001b[0m\n\u001b[1;32m      1\u001b[0m \u001b[0;31m# Find the standard deviation:\u001b[0m\u001b[0;34m\u001b[0m\u001b[0;34m\u001b[0m\u001b[0;34m\u001b[0m\u001b[0m\n\u001b[0;32m----> 2\u001b[0;31m \u001b[0mtf\u001b[0m\u001b[0;34m.\u001b[0m\u001b[0mreduce_std\u001b[0m\u001b[0;34m(\u001b[0m\u001b[0mE\u001b[0m\u001b[0;34m)\u001b[0m\u001b[0;34m\u001b[0m\u001b[0;34m\u001b[0m\u001b[0m\n\u001b[0m",
            "\u001b[0;31mAttributeError\u001b[0m: module 'tensorflow' has no attribute 'reduce_std'"
          ]
        }
      ]
    },
    {
      "cell_type": "code",
      "source": [
        "# Find the standard deviation: \n",
        "tf.math.reduce_std(tf.cast(E, dtype=tf.float32))"
      ],
      "metadata": {
        "colab": {
          "base_uri": "https://localhost:8080/"
        },
        "id": "f0k__R6pFoFo",
        "outputId": "c6f8a75a-a03b-45b6-9f6d-ba54749d1d45"
      },
      "execution_count": 67,
      "outputs": [
        {
          "output_type": "execute_result",
          "data": {
            "text/plain": [
              "<tf.Tensor: shape=(), dtype=float32, numpy=29.83957>"
            ]
          },
          "metadata": {},
          "execution_count": 67
        }
      ]
    },
    {
      "cell_type": "markdown",
      "source": [
        "### Find the positional maximum and minimum"
      ],
      "metadata": {
        "id": "OOXeF0WWGfs4"
      }
    },
    {
      "cell_type": "code",
      "source": [
        "tf.random.set_seed(42)\n",
        "F = tf.random.uniform(shape=[50])\n",
        "F"
      ],
      "metadata": {
        "colab": {
          "base_uri": "https://localhost:8080/"
        },
        "id": "jjbTED9-Gpia",
        "outputId": "c1dd18c7-40d9-45e8-ce46-12c4eb6461ba"
      },
      "execution_count": 68,
      "outputs": [
        {
          "output_type": "execute_result",
          "data": {
            "text/plain": [
              "<tf.Tensor: shape=(50,), dtype=float32, numpy=\n",
              "array([0.6645621 , 0.44100678, 0.3528825 , 0.46448255, 0.03366041,\n",
              "       0.68467236, 0.74011743, 0.8724445 , 0.22632635, 0.22319686,\n",
              "       0.3103881 , 0.7223358 , 0.13318717, 0.5480639 , 0.5746088 ,\n",
              "       0.8996835 , 0.00946367, 0.5212307 , 0.6345445 , 0.1993283 ,\n",
              "       0.72942245, 0.54583454, 0.10756552, 0.6767061 , 0.6602763 ,\n",
              "       0.33695042, 0.60141766, 0.21062577, 0.8527372 , 0.44062173,\n",
              "       0.9485276 , 0.23752594, 0.81179297, 0.5263394 , 0.494308  ,\n",
              "       0.21612847, 0.8457197 , 0.8718841 , 0.3083862 , 0.6868038 ,\n",
              "       0.23764038, 0.7817228 , 0.9671384 , 0.06870162, 0.79873943,\n",
              "       0.66028714, 0.5871513 , 0.16461694, 0.7381023 , 0.32054043],\n",
              "      dtype=float32)>"
            ]
          },
          "metadata": {},
          "execution_count": 68
        }
      ]
    },
    {
      "cell_type": "code",
      "source": [
        "# Find the positional maximum:\n",
        "tf.argmax(F)\n"
      ],
      "metadata": {
        "colab": {
          "base_uri": "https://localhost:8080/"
        },
        "id": "gJMwpM2pH5Fh",
        "outputId": "ed049997-90f1-4455-fd94-ceb8af6eb660"
      },
      "execution_count": 69,
      "outputs": [
        {
          "output_type": "execute_result",
          "data": {
            "text/plain": [
              "<tf.Tensor: shape=(), dtype=int64, numpy=42>"
            ]
          },
          "metadata": {},
          "execution_count": 69
        }
      ]
    },
    {
      "cell_type": "code",
      "source": [
        "# Index on our largest value position:\n",
        "F[tf.argmax(F)]"
      ],
      "metadata": {
        "colab": {
          "base_uri": "https://localhost:8080/"
        },
        "id": "6i9RraeAIJbf",
        "outputId": "d639b798-b14c-4003-b540-614c2d9d02c9"
      },
      "execution_count": 72,
      "outputs": [
        {
          "output_type": "execute_result",
          "data": {
            "text/plain": [
              "<tf.Tensor: shape=(), dtype=float32, numpy=0.9671384>"
            ]
          },
          "metadata": {},
          "execution_count": 72
        }
      ]
    },
    {
      "cell_type": "code",
      "source": [
        "# Find the max value of F:\n",
        "tf.reduce_max(F)"
      ],
      "metadata": {
        "colab": {
          "base_uri": "https://localhost:8080/"
        },
        "id": "jX9TigMBIT_6",
        "outputId": "1608eea7-14d1-4c21-d83e-aa000baad1a1"
      },
      "execution_count": 71,
      "outputs": [
        {
          "output_type": "execute_result",
          "data": {
            "text/plain": [
              "<tf.Tensor: shape=(), dtype=float32, numpy=0.9671384>"
            ]
          },
          "metadata": {},
          "execution_count": 71
        }
      ]
    },
    {
      "cell_type": "code",
      "source": [
        "# Check for equality just to be safe:\n",
        "F[tf.argmax(F)] == tf.reduce_max(F)"
      ],
      "metadata": {
        "colab": {
          "base_uri": "https://localhost:8080/"
        },
        "id": "p0YsXc5GIeqt",
        "outputId": "074ff477-de5d-489e-a2c2-3615727038f2"
      },
      "execution_count": 73,
      "outputs": [
        {
          "output_type": "execute_result",
          "data": {
            "text/plain": [
              "<tf.Tensor: shape=(), dtype=bool, numpy=True>"
            ]
          },
          "metadata": {},
          "execution_count": 73
        }
      ]
    },
    {
      "cell_type": "code",
      "source": [
        "# Find the positional minimum: \n",
        "tf.argmin(F)"
      ],
      "metadata": {
        "colab": {
          "base_uri": "https://localhost:8080/"
        },
        "id": "iN-zrIzzIss4",
        "outputId": "5636af50-fe3d-4f4f-b816-0809de01c247"
      },
      "execution_count": 74,
      "outputs": [
        {
          "output_type": "execute_result",
          "data": {
            "text/plain": [
              "<tf.Tensor: shape=(), dtype=int64, numpy=16>"
            ]
          },
          "metadata": {},
          "execution_count": 74
        }
      ]
    },
    {
      "cell_type": "code",
      "source": [
        "# Find the minimum using the positional minimum index\n",
        "F[tf.argmin(F)]"
      ],
      "metadata": {
        "colab": {
          "base_uri": "https://localhost:8080/"
        },
        "id": "yqdnmoqdJFYO",
        "outputId": "6090a468-ebde-4e39-bc9d-9a3cee1566bd"
      },
      "execution_count": 75,
      "outputs": [
        {
          "output_type": "execute_result",
          "data": {
            "text/plain": [
              "<tf.Tensor: shape=(), dtype=float32, numpy=0.009463668>"
            ]
          },
          "metadata": {},
          "execution_count": 75
        }
      ]
    },
    {
      "cell_type": "code",
      "source": [
        "# Let's create a random tensor to find it's positional minimum and maximum: \n",
        "tf.random.set_seed(42)\n",
        "dummy_tensor3 = tf.random.uniform(shape=[40])\n",
        "dummy_tensor3"
      ],
      "metadata": {
        "colab": {
          "base_uri": "https://localhost:8080/"
        },
        "id": "6Pfh6SsGLJEw",
        "outputId": "e87ef3cf-7be8-4114-b342-10fc2def2595"
      },
      "execution_count": 77,
      "outputs": [
        {
          "output_type": "execute_result",
          "data": {
            "text/plain": [
              "<tf.Tensor: shape=(40,), dtype=float32, numpy=\n",
              "array([0.6645621 , 0.44100678, 0.3528825 , 0.46448255, 0.03366041,\n",
              "       0.68467236, 0.74011743, 0.8724445 , 0.22632635, 0.22319686,\n",
              "       0.3103881 , 0.7223358 , 0.13318717, 0.5480639 , 0.5746088 ,\n",
              "       0.8996835 , 0.00946367, 0.5212307 , 0.6345445 , 0.1993283 ,\n",
              "       0.72942245, 0.54583454, 0.10756552, 0.6767061 , 0.6602763 ,\n",
              "       0.33695042, 0.60141766, 0.21062577, 0.8527372 , 0.44062173,\n",
              "       0.9485276 , 0.23752594, 0.81179297, 0.5263394 , 0.494308  ,\n",
              "       0.21612847, 0.8457197 , 0.8718841 , 0.3083862 , 0.6868038 ],\n",
              "      dtype=float32)>"
            ]
          },
          "metadata": {},
          "execution_count": 77
        }
      ]
    },
    {
      "cell_type": "code",
      "source": [
        "# Find the positional maximum: \n",
        "tf.argmax(dummy_tensor3)"
      ],
      "metadata": {
        "colab": {
          "base_uri": "https://localhost:8080/"
        },
        "id": "VgVEW3r5LlS5",
        "outputId": "9f27a6e6-9cdb-4f67-ff3f-76a457bef4e7"
      },
      "execution_count": 79,
      "outputs": [
        {
          "output_type": "execute_result",
          "data": {
            "text/plain": [
              "<tf.Tensor: shape=(), dtype=int64, numpy=30>"
            ]
          },
          "metadata": {},
          "execution_count": 79
        }
      ]
    },
    {
      "cell_type": "code",
      "source": [
        "# Index on our largest value position: \n",
        "dummy_tensor3[tf.argmax(dummy_tensor3)]"
      ],
      "metadata": {
        "colab": {
          "base_uri": "https://localhost:8080/"
        },
        "id": "bsIrsT0gL_S7",
        "outputId": "39ab20e5-c783-4366-8a73-2dfc9bd34669"
      },
      "execution_count": 80,
      "outputs": [
        {
          "output_type": "execute_result",
          "data": {
            "text/plain": [
              "<tf.Tensor: shape=(), dtype=float32, numpy=0.9485276>"
            ]
          },
          "metadata": {},
          "execution_count": 80
        }
      ]
    },
    {
      "cell_type": "code",
      "source": [
        "# Find the maximum value of dummy_tensor3:\n",
        "tf.reduce_max(dummy_tensor3)"
      ],
      "metadata": {
        "colab": {
          "base_uri": "https://localhost:8080/"
        },
        "id": "dlRZepk5MPXT",
        "outputId": "07cf3217-6f8f-4004-ffe8-e7571e6c36b3"
      },
      "execution_count": 81,
      "outputs": [
        {
          "output_type": "execute_result",
          "data": {
            "text/plain": [
              "<tf.Tensor: shape=(), dtype=float32, numpy=0.9485276>"
            ]
          },
          "metadata": {},
          "execution_count": 81
        }
      ]
    },
    {
      "cell_type": "code",
      "source": [
        "# Check for equality:\n",
        "dummy_tensor3[tf.argmax(dummy_tensor3)] == tf.reduce_max(dummy_tensor3)"
      ],
      "metadata": {
        "colab": {
          "base_uri": "https://localhost:8080/"
        },
        "id": "EANTdFkDMZ-C",
        "outputId": "51ecef47-a1dc-4c84-8248-672192c37673"
      },
      "execution_count": 82,
      "outputs": [
        {
          "output_type": "execute_result",
          "data": {
            "text/plain": [
              "<tf.Tensor: shape=(), dtype=bool, numpy=True>"
            ]
          },
          "metadata": {},
          "execution_count": 82
        }
      ]
    },
    {
      "cell_type": "code",
      "source": [
        "# Let's find the positional minimum: \n",
        "tf.argmin(dummy_tensor3)"
      ],
      "metadata": {
        "colab": {
          "base_uri": "https://localhost:8080/"
        },
        "id": "-XL1nnQ7Mxbq",
        "outputId": "4fa08551-65e8-48ae-93c3-24a18dcdd72d"
      },
      "execution_count": 83,
      "outputs": [
        {
          "output_type": "execute_result",
          "data": {
            "text/plain": [
              "<tf.Tensor: shape=(), dtype=int64, numpy=16>"
            ]
          },
          "metadata": {},
          "execution_count": 83
        }
      ]
    },
    {
      "cell_type": "code",
      "source": [
        "# Index on our smallest value position:\n",
        "dummy_tensor3[tf.argmin(dummy_tensor3)]"
      ],
      "metadata": {
        "colab": {
          "base_uri": "https://localhost:8080/"
        },
        "id": "R22ab2mNM41B",
        "outputId": "ee3757e0-6985-435b-cbcf-f76fd95e42cb"
      },
      "execution_count": 84,
      "outputs": [
        {
          "output_type": "execute_result",
          "data": {
            "text/plain": [
              "<tf.Tensor: shape=(), dtype=float32, numpy=0.009463668>"
            ]
          },
          "metadata": {},
          "execution_count": 84
        }
      ]
    },
    {
      "cell_type": "code",
      "source": [
        "# Find the min value of dummy_tensor3:\n",
        "tf.reduce_min(dummy_tensor3)\n"
      ],
      "metadata": {
        "colab": {
          "base_uri": "https://localhost:8080/"
        },
        "id": "7RP29ZS7NEXK",
        "outputId": "d738f626-ec7d-44b1-f494-9f48c9a432ab"
      },
      "execution_count": 85,
      "outputs": [
        {
          "output_type": "execute_result",
          "data": {
            "text/plain": [
              "<tf.Tensor: shape=(), dtype=float32, numpy=0.009463668>"
            ]
          },
          "metadata": {},
          "execution_count": 85
        }
      ]
    },
    {
      "cell_type": "code",
      "source": [
        "# Check for equality: \n",
        "dummy_tensor3[tf.argmin(dummy_tensor3)] == tf.reduce_min(dummy_tensor3)"
      ],
      "metadata": {
        "colab": {
          "base_uri": "https://localhost:8080/"
        },
        "id": "VoJJfCuBNQMK",
        "outputId": "7a93ea7c-aa98-452f-c874-70230fc285e0"
      },
      "execution_count": 86,
      "outputs": [
        {
          "output_type": "execute_result",
          "data": {
            "text/plain": [
              "<tf.Tensor: shape=(), dtype=bool, numpy=True>"
            ]
          },
          "metadata": {},
          "execution_count": 86
        }
      ]
    },
    {
      "cell_type": "markdown",
      "source": [
        "### Squeezing a tensor (removing all single dimensions)"
      ],
      "metadata": {
        "id": "Pz_esYDYPi2M"
      }
    },
    {
      "cell_type": "code",
      "source": [
        "# Let's create a tensor to get started: \n",
        "tf.random.set_seed(42)\n",
        "tensor3 = tf.constant(tf.random.uniform(shape=[30]), shape=(1,1,1,1,30))\n",
        "tensor3"
      ],
      "metadata": {
        "colab": {
          "base_uri": "https://localhost:8080/"
        },
        "id": "VYWik1slPpES",
        "outputId": "c08aabb1-52c4-4d32-ffd5-c2cd106cb62d"
      },
      "execution_count": 103,
      "outputs": [
        {
          "output_type": "execute_result",
          "data": {
            "text/plain": [
              "<tf.Tensor: shape=(1, 1, 1, 1, 30), dtype=float32, numpy=\n",
              "array([[[[[0.6645621 , 0.44100678, 0.3528825 , 0.46448255, 0.03366041,\n",
              "           0.68467236, 0.74011743, 0.8724445 , 0.22632635, 0.22319686,\n",
              "           0.3103881 , 0.7223358 , 0.13318717, 0.5480639 , 0.5746088 ,\n",
              "           0.8996835 , 0.00946367, 0.5212307 , 0.6345445 , 0.1993283 ,\n",
              "           0.72942245, 0.54583454, 0.10756552, 0.6767061 , 0.6602763 ,\n",
              "           0.33695042, 0.60141766, 0.21062577, 0.8527372 , 0.44062173]]]]],\n",
              "      dtype=float32)>"
            ]
          },
          "metadata": {},
          "execution_count": 103
        }
      ]
    },
    {
      "cell_type": "code",
      "source": [
        "# Display the shape of the tensor: \n",
        "print(\"Shape is:\",tensor3.shape)"
      ],
      "metadata": {
        "colab": {
          "base_uri": "https://localhost:8080/"
        },
        "id": "3zakGe9DQaKi",
        "outputId": "224cd3ca-c2d8-4711-edae-443268796f04"
      },
      "execution_count": 104,
      "outputs": [
        {
          "output_type": "stream",
          "name": "stdout",
          "text": [
            "Shape is: (1, 1, 1, 1, 30)\n"
          ]
        }
      ]
    },
    {
      "cell_type": "code",
      "source": [
        "# Let's squeeze our tensor (which means let's remove all single dimensions): \n",
        "tensor_squeezed = tf.squeeze(tensor3)\n",
        "# Display the shape of the squeezed tensor:\n",
        "print(\"The shape of squeezed tensor is:\",tensor_squeezed)"
      ],
      "metadata": {
        "colab": {
          "base_uri": "https://localhost:8080/"
        },
        "id": "JBVfIdetRBxB",
        "outputId": "b938cde9-47ca-496e-948a-04db698b59af"
      },
      "execution_count": 105,
      "outputs": [
        {
          "output_type": "stream",
          "name": "stdout",
          "text": [
            "The shape of squeezed tensor is: tf.Tensor(\n",
            "[0.6645621  0.44100678 0.3528825  0.46448255 0.03366041 0.68467236\n",
            " 0.74011743 0.8724445  0.22632635 0.22319686 0.3103881  0.7223358\n",
            " 0.13318717 0.5480639  0.5746088  0.8996835  0.00946367 0.5212307\n",
            " 0.6345445  0.1993283  0.72942245 0.54583454 0.10756552 0.6767061\n",
            " 0.6602763  0.33695042 0.60141766 0.21062577 0.8527372  0.44062173], shape=(30,), dtype=float32)\n"
          ]
        }
      ]
    },
    {
      "cell_type": "markdown",
      "source": [
        "###One hot encoding tensors"
      ],
      "metadata": {
        "id": "E3o9WIjnTyko"
      }
    },
    {
      "cell_type": "code",
      "source": [
        "# Let's create a list of indices: \n",
        "some_list=[0, 1, 2, 3] # could be red, green, blue, purpble\n",
        "# One hot encode our lists of indices: \n",
        "tf.one_hot(some_list, depth=4)\n"
      ],
      "metadata": {
        "colab": {
          "base_uri": "https://localhost:8080/"
        },
        "id": "QtgG1Xf3T3PA",
        "outputId": "3186a890-b3f4-4fb5-d012-516db25bf657"
      },
      "execution_count": 107,
      "outputs": [
        {
          "output_type": "execute_result",
          "data": {
            "text/plain": [
              "<tf.Tensor: shape=(4, 4), dtype=float32, numpy=\n",
              "array([[1., 0., 0., 0.],\n",
              "       [0., 1., 0., 0.],\n",
              "       [0., 0., 1., 0.],\n",
              "       [0., 0., 0., 1.]], dtype=float32)>"
            ]
          },
          "metadata": {},
          "execution_count": 107
        }
      ]
    },
    {
      "cell_type": "code",
      "source": [
        "# Specify custom values for one hot encoding: \n",
        "tf.one_hot(some_list, depth=4, on_value=\"My Name is EL Mehdi\", off_value=\"I like to dance\")"
      ],
      "metadata": {
        "colab": {
          "base_uri": "https://localhost:8080/"
        },
        "id": "1Yx56DonUr-5",
        "outputId": "b127fbe7-85b6-4137-8793-82ab51d75bf2"
      },
      "execution_count": 108,
      "outputs": [
        {
          "output_type": "execute_result",
          "data": {
            "text/plain": [
              "<tf.Tensor: shape=(4, 4), dtype=string, numpy=\n",
              "array([[b'My Name is EL Mehdi', b'I like to dance', b'I like to dance',\n",
              "        b'I like to dance'],\n",
              "       [b'I like to dance', b'My Name is EL Mehdi', b'I like to dance',\n",
              "        b'I like to dance'],\n",
              "       [b'I like to dance', b'I like to dance', b'My Name is EL Mehdi',\n",
              "        b'I like to dance'],\n",
              "       [b'I like to dance', b'I like to dance', b'I like to dance',\n",
              "        b'My Name is EL Mehdi']], dtype=object)>"
            ]
          },
          "metadata": {},
          "execution_count": 108
        }
      ]
    },
    {
      "cell_type": "code",
      "source": [
        "# Let's create a second list of indices: \n",
        "random_list = [0, 1, 2]\n",
        "# One hot encode our lists of indices: \n",
        " tf.one_hot(random_list, depth=3)"
      ],
      "metadata": {
        "colab": {
          "base_uri": "https://localhost:8080/"
        },
        "id": "4XNI5cGwVKSL",
        "outputId": "ec73a594-012b-4a46-bcce-e7aed631c6f0"
      },
      "execution_count": 114,
      "outputs": [
        {
          "output_type": "execute_result",
          "data": {
            "text/plain": [
              "<tf.Tensor: shape=(3, 3), dtype=float32, numpy=\n",
              "array([[1., 0., 0.],\n",
              "       [0., 1., 0.],\n",
              "       [0., 0., 1.]], dtype=float32)>"
            ]
          },
          "metadata": {},
          "execution_count": 114
        }
      ]
    },
    {
      "cell_type": "code",
      "source": [
        "# Specify custom values for one hot encoding: \n",
        "tf.one_hot(random_list, depth=4, on_value=\"Deep\", off_value=\"Learning\")"
      ],
      "metadata": {
        "colab": {
          "base_uri": "https://localhost:8080/"
        },
        "id": "qCPjqBDqV18a",
        "outputId": "3ce9338e-2b3c-48b7-cd23-773da177009b"
      },
      "execution_count": 115,
      "outputs": [
        {
          "output_type": "execute_result",
          "data": {
            "text/plain": [
              "<tf.Tensor: shape=(3, 4), dtype=string, numpy=\n",
              "array([[b'Deep', b'Learning', b'Learning', b'Learning'],\n",
              "       [b'Learning', b'Deep', b'Learning', b'Learning'],\n",
              "       [b'Learning', b'Learning', b'Deep', b'Learning']], dtype=object)>"
            ]
          },
          "metadata": {},
          "execution_count": 115
        }
      ]
    },
    {
      "cell_type": "markdown",
      "source": [
        "###More tensor math operations"
      ],
      "metadata": {
        "id": "r2sejWHVYYVc"
      }
    },
    {
      "cell_type": "markdown",
      "source": [
        "####Squaring, log, square root"
      ],
      "metadata": {
        "id": "vAUOztIOYeIA"
      }
    },
    {
      "cell_type": "code",
      "source": [
        "# Let's create a new tensor \n",
        "dummy_tensor4 = tf.range(1,20)\n",
        "dummy_tensor4"
      ],
      "metadata": {
        "colab": {
          "base_uri": "https://localhost:8080/"
        },
        "id": "Iwn9QK4GYyiJ",
        "outputId": "f8567412-063c-4be9-9522-ac31ef887aa0"
      },
      "execution_count": 117,
      "outputs": [
        {
          "output_type": "execute_result",
          "data": {
            "text/plain": [
              "<tf.Tensor: shape=(19,), dtype=int32, numpy=\n",
              "array([ 1,  2,  3,  4,  5,  6,  7,  8,  9, 10, 11, 12, 13, 14, 15, 16, 17,\n",
              "       18, 19], dtype=int32)>"
            ]
          },
          "metadata": {},
          "execution_count": 117
        }
      ]
    },
    {
      "cell_type": "code",
      "source": [
        "# Squate it: \n",
        "tf.square(dummy_tensor4)"
      ],
      "metadata": {
        "colab": {
          "base_uri": "https://localhost:8080/"
        },
        "id": "6-AfIDXzYzdj",
        "outputId": "013fad40-d316-4bc7-ef8d-82cbfc6893cf"
      },
      "execution_count": 119,
      "outputs": [
        {
          "output_type": "execute_result",
          "data": {
            "text/plain": [
              "<tf.Tensor: shape=(19,), dtype=int32, numpy=\n",
              "array([  1,   4,   9,  16,  25,  36,  49,  64,  81, 100, 121, 144, 169,\n",
              "       196, 225, 256, 289, 324, 361], dtype=int32)>"
            ]
          },
          "metadata": {},
          "execution_count": 119
        }
      ]
    },
    {
      "cell_type": "code",
      "source": [
        "# Find the squareroot: \n",
        "tf.sqrt(dummy_tensor4)"
      ],
      "metadata": {
        "colab": {
          "base_uri": "https://localhost:8080/",
          "height": 363
        },
        "id": "gUzXbDFjY5x5",
        "outputId": "b4f95175-6ba5-4e67-cb17-b05f94e125fb"
      },
      "execution_count": 120,
      "outputs": [
        {
          "output_type": "error",
          "ename": "InvalidArgumentError",
          "evalue": "ignored",
          "traceback": [
            "\u001b[0;31m---------------------------------------------------------------------------\u001b[0m",
            "\u001b[0;31mInvalidArgumentError\u001b[0m                      Traceback (most recent call last)",
            "\u001b[0;32m<ipython-input-120-6f96e4a01256>\u001b[0m in \u001b[0;36m<module>\u001b[0;34m()\u001b[0m\n\u001b[1;32m      1\u001b[0m \u001b[0;31m# Find the squareroot:\u001b[0m\u001b[0;34m\u001b[0m\u001b[0;34m\u001b[0m\u001b[0;34m\u001b[0m\u001b[0m\n\u001b[0;32m----> 2\u001b[0;31m \u001b[0mtf\u001b[0m\u001b[0;34m.\u001b[0m\u001b[0msqrt\u001b[0m\u001b[0;34m(\u001b[0m\u001b[0mdummy_tensor4\u001b[0m\u001b[0;34m)\u001b[0m\u001b[0;34m\u001b[0m\u001b[0;34m\u001b[0m\u001b[0m\n\u001b[0m",
            "\u001b[0;32m/usr/local/lib/python3.7/dist-packages/tensorflow/python/util/traceback_utils.py\u001b[0m in \u001b[0;36merror_handler\u001b[0;34m(*args, **kwargs)\u001b[0m\n\u001b[1;32m    151\u001b[0m     \u001b[0;32mexcept\u001b[0m \u001b[0mException\u001b[0m \u001b[0;32mas\u001b[0m \u001b[0me\u001b[0m\u001b[0;34m:\u001b[0m\u001b[0;34m\u001b[0m\u001b[0;34m\u001b[0m\u001b[0m\n\u001b[1;32m    152\u001b[0m       \u001b[0mfiltered_tb\u001b[0m \u001b[0;34m=\u001b[0m \u001b[0m_process_traceback_frames\u001b[0m\u001b[0;34m(\u001b[0m\u001b[0me\u001b[0m\u001b[0;34m.\u001b[0m\u001b[0m__traceback__\u001b[0m\u001b[0;34m)\u001b[0m\u001b[0;34m\u001b[0m\u001b[0;34m\u001b[0m\u001b[0m\n\u001b[0;32m--> 153\u001b[0;31m       \u001b[0;32mraise\u001b[0m \u001b[0me\u001b[0m\u001b[0;34m.\u001b[0m\u001b[0mwith_traceback\u001b[0m\u001b[0;34m(\u001b[0m\u001b[0mfiltered_tb\u001b[0m\u001b[0;34m)\u001b[0m \u001b[0;32mfrom\u001b[0m \u001b[0;32mNone\u001b[0m\u001b[0;34m\u001b[0m\u001b[0;34m\u001b[0m\u001b[0m\n\u001b[0m\u001b[1;32m    154\u001b[0m     \u001b[0;32mfinally\u001b[0m\u001b[0;34m:\u001b[0m\u001b[0;34m\u001b[0m\u001b[0;34m\u001b[0m\u001b[0m\n\u001b[1;32m    155\u001b[0m       \u001b[0;32mdel\u001b[0m \u001b[0mfiltered_tb\u001b[0m\u001b[0;34m\u001b[0m\u001b[0;34m\u001b[0m\u001b[0m\n",
            "\u001b[0;32m/usr/local/lib/python3.7/dist-packages/tensorflow/python/framework/ops.py\u001b[0m in \u001b[0;36mraise_from_not_ok_status\u001b[0;34m(e, name)\u001b[0m\n\u001b[1;32m   7184\u001b[0m \u001b[0;32mdef\u001b[0m \u001b[0mraise_from_not_ok_status\u001b[0m\u001b[0;34m(\u001b[0m\u001b[0me\u001b[0m\u001b[0;34m,\u001b[0m \u001b[0mname\u001b[0m\u001b[0;34m)\u001b[0m\u001b[0;34m:\u001b[0m\u001b[0;34m\u001b[0m\u001b[0;34m\u001b[0m\u001b[0m\n\u001b[1;32m   7185\u001b[0m   \u001b[0me\u001b[0m\u001b[0;34m.\u001b[0m\u001b[0mmessage\u001b[0m \u001b[0;34m+=\u001b[0m \u001b[0;34m(\u001b[0m\u001b[0;34m\" name: \"\u001b[0m \u001b[0;34m+\u001b[0m \u001b[0mname\u001b[0m \u001b[0;32mif\u001b[0m \u001b[0mname\u001b[0m \u001b[0;32mis\u001b[0m \u001b[0;32mnot\u001b[0m \u001b[0;32mNone\u001b[0m \u001b[0;32melse\u001b[0m \u001b[0;34m\"\"\u001b[0m\u001b[0;34m)\u001b[0m\u001b[0;34m\u001b[0m\u001b[0;34m\u001b[0m\u001b[0m\n\u001b[0;32m-> 7186\u001b[0;31m   \u001b[0;32mraise\u001b[0m \u001b[0mcore\u001b[0m\u001b[0;34m.\u001b[0m\u001b[0m_status_to_exception\u001b[0m\u001b[0;34m(\u001b[0m\u001b[0me\u001b[0m\u001b[0;34m)\u001b[0m \u001b[0;32mfrom\u001b[0m \u001b[0;32mNone\u001b[0m  \u001b[0;31m# pylint: disable=protected-access\u001b[0m\u001b[0;34m\u001b[0m\u001b[0;34m\u001b[0m\u001b[0m\n\u001b[0m\u001b[1;32m   7187\u001b[0m \u001b[0;34m\u001b[0m\u001b[0m\n\u001b[1;32m   7188\u001b[0m \u001b[0;34m\u001b[0m\u001b[0m\n",
            "\u001b[0;31mInvalidArgumentError\u001b[0m: Value for attr 'T' of int32 is not in the list of allowed values: bfloat16, half, float, double, complex64, complex128\n\t; NodeDef: {{node Sqrt}}; Op<name=Sqrt; signature=x:T -> y:T; attr=T:type,allowed=[DT_BFLOAT16, DT_HALF, DT_FLOAT, DT_DOUBLE, DT_COMPLEX64, DT_COMPLEX128]> [Op:Sqrt]"
          ]
        }
      ]
    },
    {
      "cell_type": "code",
      "source": [
        "# Let's give it another try: \n",
        "tf.sqrt(tf.cast(dummy_tensor4, dtype=tf.float32))"
      ],
      "metadata": {
        "colab": {
          "base_uri": "https://localhost:8080/"
        },
        "id": "6SHrxFb5ZCu6",
        "outputId": "91820fb7-a830-49ae-fd25-7702df792bbd"
      },
      "execution_count": 121,
      "outputs": [
        {
          "output_type": "execute_result",
          "data": {
            "text/plain": [
              "<tf.Tensor: shape=(19,), dtype=float32, numpy=\n",
              "array([0.99999994, 1.4142134 , 1.7320508 , 1.9999999 , 2.236068  ,\n",
              "       2.4494896 , 2.6457512 , 2.8284268 , 2.9999998 , 3.1622777 ,\n",
              "       3.3166244 , 3.4641016 , 3.6055508 , 3.7416573 , 3.8729832 ,\n",
              "       3.9999998 , 4.1231055 , 4.2426405 , 4.358899  ], dtype=float32)>"
            ]
          },
          "metadata": {},
          "execution_count": 121
        }
      ]
    },
    {
      "cell_type": "code",
      "source": [
        "# Find the log:\n",
        "tf.math.log(dummy_tensor4)"
      ],
      "metadata": {
        "colab": {
          "base_uri": "https://localhost:8080/",
          "height": 363
        },
        "id": "vIMLwW9RZUIa",
        "outputId": "04b6c474-a466-44d4-cab2-717c651a2c51"
      },
      "execution_count": 122,
      "outputs": [
        {
          "output_type": "error",
          "ename": "InvalidArgumentError",
          "evalue": "ignored",
          "traceback": [
            "\u001b[0;31m---------------------------------------------------------------------------\u001b[0m",
            "\u001b[0;31mInvalidArgumentError\u001b[0m                      Traceback (most recent call last)",
            "\u001b[0;32m<ipython-input-122-f96656caabbd>\u001b[0m in \u001b[0;36m<module>\u001b[0;34m()\u001b[0m\n\u001b[1;32m      1\u001b[0m \u001b[0;31m# Find the log:\u001b[0m\u001b[0;34m\u001b[0m\u001b[0;34m\u001b[0m\u001b[0;34m\u001b[0m\u001b[0m\n\u001b[0;32m----> 2\u001b[0;31m \u001b[0mtf\u001b[0m\u001b[0;34m.\u001b[0m\u001b[0mmath\u001b[0m\u001b[0;34m.\u001b[0m\u001b[0mlog\u001b[0m\u001b[0;34m(\u001b[0m\u001b[0mdummy_tensor4\u001b[0m\u001b[0;34m)\u001b[0m\u001b[0;34m\u001b[0m\u001b[0;34m\u001b[0m\u001b[0m\n\u001b[0m",
            "\u001b[0;32m/usr/local/lib/python3.7/dist-packages/tensorflow/python/ops/gen_math_ops.py\u001b[0m in \u001b[0;36mlog\u001b[0;34m(x, name)\u001b[0m\n\u001b[1;32m   5468\u001b[0m       \u001b[0;32mreturn\u001b[0m \u001b[0m_result\u001b[0m\u001b[0;34m\u001b[0m\u001b[0;34m\u001b[0m\u001b[0m\n\u001b[1;32m   5469\u001b[0m     \u001b[0;32mexcept\u001b[0m \u001b[0m_core\u001b[0m\u001b[0;34m.\u001b[0m\u001b[0m_NotOkStatusException\u001b[0m \u001b[0;32mas\u001b[0m \u001b[0me\u001b[0m\u001b[0;34m:\u001b[0m\u001b[0;34m\u001b[0m\u001b[0;34m\u001b[0m\u001b[0m\n\u001b[0;32m-> 5470\u001b[0;31m       \u001b[0m_ops\u001b[0m\u001b[0;34m.\u001b[0m\u001b[0mraise_from_not_ok_status\u001b[0m\u001b[0;34m(\u001b[0m\u001b[0me\u001b[0m\u001b[0;34m,\u001b[0m \u001b[0mname\u001b[0m\u001b[0;34m)\u001b[0m\u001b[0;34m\u001b[0m\u001b[0;34m\u001b[0m\u001b[0m\n\u001b[0m\u001b[1;32m   5471\u001b[0m     \u001b[0;32mexcept\u001b[0m \u001b[0m_core\u001b[0m\u001b[0;34m.\u001b[0m\u001b[0m_FallbackException\u001b[0m\u001b[0;34m:\u001b[0m\u001b[0;34m\u001b[0m\u001b[0;34m\u001b[0m\u001b[0m\n\u001b[1;32m   5472\u001b[0m       \u001b[0;32mpass\u001b[0m\u001b[0;34m\u001b[0m\u001b[0;34m\u001b[0m\u001b[0m\n",
            "\u001b[0;32m/usr/local/lib/python3.7/dist-packages/tensorflow/python/framework/ops.py\u001b[0m in \u001b[0;36mraise_from_not_ok_status\u001b[0;34m(e, name)\u001b[0m\n\u001b[1;32m   7184\u001b[0m \u001b[0;32mdef\u001b[0m \u001b[0mraise_from_not_ok_status\u001b[0m\u001b[0;34m(\u001b[0m\u001b[0me\u001b[0m\u001b[0;34m,\u001b[0m \u001b[0mname\u001b[0m\u001b[0;34m)\u001b[0m\u001b[0;34m:\u001b[0m\u001b[0;34m\u001b[0m\u001b[0;34m\u001b[0m\u001b[0m\n\u001b[1;32m   7185\u001b[0m   \u001b[0me\u001b[0m\u001b[0;34m.\u001b[0m\u001b[0mmessage\u001b[0m \u001b[0;34m+=\u001b[0m \u001b[0;34m(\u001b[0m\u001b[0;34m\" name: \"\u001b[0m \u001b[0;34m+\u001b[0m \u001b[0mname\u001b[0m \u001b[0;32mif\u001b[0m \u001b[0mname\u001b[0m \u001b[0;32mis\u001b[0m \u001b[0;32mnot\u001b[0m \u001b[0;32mNone\u001b[0m \u001b[0;32melse\u001b[0m \u001b[0;34m\"\"\u001b[0m\u001b[0;34m)\u001b[0m\u001b[0;34m\u001b[0m\u001b[0;34m\u001b[0m\u001b[0m\n\u001b[0;32m-> 7186\u001b[0;31m   \u001b[0;32mraise\u001b[0m \u001b[0mcore\u001b[0m\u001b[0;34m.\u001b[0m\u001b[0m_status_to_exception\u001b[0m\u001b[0;34m(\u001b[0m\u001b[0me\u001b[0m\u001b[0;34m)\u001b[0m \u001b[0;32mfrom\u001b[0m \u001b[0;32mNone\u001b[0m  \u001b[0;31m# pylint: disable=protected-access\u001b[0m\u001b[0;34m\u001b[0m\u001b[0;34m\u001b[0m\u001b[0m\n\u001b[0m\u001b[1;32m   7187\u001b[0m \u001b[0;34m\u001b[0m\u001b[0m\n\u001b[1;32m   7188\u001b[0m \u001b[0;34m\u001b[0m\u001b[0m\n",
            "\u001b[0;31mInvalidArgumentError\u001b[0m: Value for attr 'T' of int32 is not in the list of allowed values: bfloat16, half, float, double, complex64, complex128\n\t; NodeDef: {{node Log}}; Op<name=Log; signature=x:T -> y:T; attr=T:type,allowed=[DT_BFLOAT16, DT_HALF, DT_FLOAT, DT_DOUBLE, DT_COMPLEX64, DT_COMPLEX128]> [Op:Log]"
          ]
        }
      ]
    },
    {
      "cell_type": "code",
      "source": [
        "# Let's give it another try: \n",
        "tf.math.log(tf.cast(dummy_tensor4, dtype=tf.float32))"
      ],
      "metadata": {
        "colab": {
          "base_uri": "https://localhost:8080/"
        },
        "id": "2W5s00BNZbUh",
        "outputId": "5b102529-0048-4698-dbf5-758e7d6e6e8e"
      },
      "execution_count": 123,
      "outputs": [
        {
          "output_type": "execute_result",
          "data": {
            "text/plain": [
              "<tf.Tensor: shape=(19,), dtype=float32, numpy=\n",
              "array([0.       , 0.6931472, 1.0986123, 1.3862944, 1.609438 , 1.7917595,\n",
              "       1.9459102, 2.0794415, 2.1972246, 2.3025851, 2.3978953, 2.4849067,\n",
              "       2.5649493, 2.6390574, 2.7080503, 2.7725887, 2.8332133, 2.8903718,\n",
              "       2.944439 ], dtype=float32)>"
            ]
          },
          "metadata": {},
          "execution_count": 123
        }
      ]
    },
    {
      "cell_type": "markdown",
      "source": [
        "### TensorFlow and NumPy's compatibility"
      ],
      "metadata": {
        "id": "E3oX6MzBgaNu"
      }
    },
    {
      "cell_type": "markdown",
      "source": [
        "TensorFlow interacts beautifully with NumPy arrays"
      ],
      "metadata": {
        "id": "qwTO53WSgiJ1"
      }
    },
    {
      "cell_type": "code",
      "source": [
        "# Let's Create a tensor directly from a NumPy array: \n",
        "J = tf.constant(np.array([3., 7., 10.]))\n",
        "J "
      ],
      "metadata": {
        "colab": {
          "base_uri": "https://localhost:8080/"
        },
        "id": "P68gfm_GgqYr",
        "outputId": "c77bd039-56a2-4473-cc6f-cb2bc58f0820"
      },
      "execution_count": 124,
      "outputs": [
        {
          "output_type": "execute_result",
          "data": {
            "text/plain": [
              "<tf.Tensor: shape=(3,), dtype=float64, numpy=array([ 3.,  7., 10.])>"
            ]
          },
          "metadata": {},
          "execution_count": 124
        }
      ]
    },
    {
      "cell_type": "code",
      "source": [
        "# Convert our tensor back to a NumPy array:\n",
        "np.array(J)\n",
        "# Display the type:\n",
        "print(\"Type is:\", type(np.array(J)))"
      ],
      "metadata": {
        "colab": {
          "base_uri": "https://localhost:8080/"
        },
        "id": "i0rchLttg8vt",
        "outputId": "02e46cb7-c5fb-4669-e9f0-f8245ecdab84"
      },
      "execution_count": 126,
      "outputs": [
        {
          "output_type": "stream",
          "name": "stdout",
          "text": [
            "Type is: <class 'numpy.ndarray'>\n"
          ]
        }
      ]
    },
    {
      "cell_type": "code",
      "source": [
        "# Let's convert tensor J to a NumPy array: \n",
        "J.numpy(), type(J.numpy())"
      ],
      "metadata": {
        "id": "Y5_JTM94hW2M"
      },
      "execution_count": null,
      "outputs": []
    },
    {
      "cell_type": "code",
      "source": [
        "# The default types of each are slightly different: \n",
        "numpy_J = tf.constant(np.array([3., 7., 10.]))\n",
        "tensor_J = tf.constant([3., 7., 10.])"
      ],
      "metadata": {
        "id": "rgzoYfI8hho8"
      },
      "execution_count": 129,
      "outputs": []
    },
    {
      "cell_type": "code",
      "source": [
        "# Let's Check the datatype of each: \n",
        "print(\"The Datatype of the NumPy array is:\",numpy_J.dtype)\n",
        "print(\"The Datatype of the tensor is:\",tensor_J.dtype)"
      ],
      "metadata": {
        "colab": {
          "base_uri": "https://localhost:8080/"
        },
        "id": "LugwV7sKh3en",
        "outputId": "4d4a1b5f-9a89-4a48-e6e5-513aa5992feb"
      },
      "execution_count": 130,
      "outputs": [
        {
          "output_type": "stream",
          "name": "stdout",
          "text": [
            "The Datatype of the NumPy array is: <dtype: 'float64'>\n",
            "The Datatype of the tensor is: <dtype: 'float32'>\n"
          ]
        }
      ]
    },
    {
      "cell_type": "markdown",
      "source": [
        "🔐**Note:** One of the main differences between a TensorFlow tensor and a NumPy array is that TensorFlow tensor can be run on a GPU or a TPU \n",
        "(for a faster numerical processing)"
      ],
      "metadata": {
        "id": "arbOCZpbiZy2"
      }
    },
    {
      "cell_type": "markdown",
      "source": [
        "###Finding access to GPUs"
      ],
      "metadata": {
        "id": "iXrFyzAIj7LG"
      }
    },
    {
      "cell_type": "code",
      "source": [
        "import tensorflow as tf\n",
        "tf.config.list_physical_devices()"
      ],
      "metadata": {
        "colab": {
          "base_uri": "https://localhost:8080/"
        },
        "id": "P2cmsl2Al0cl",
        "outputId": "ce22e6ee-239c-4810-b7e2-083f2c9804bd"
      },
      "execution_count": 2,
      "outputs": [
        {
          "output_type": "execute_result",
          "data": {
            "text/plain": [
              "[PhysicalDevice(name='/physical_device:CPU:0', device_type='CPU'),\n",
              " PhysicalDevice(name='/physical_device:GPU:0', device_type='GPU')]"
            ]
          },
          "metadata": {},
          "execution_count": 2
        }
      ]
    },
    {
      "cell_type": "code",
      "source": [
        "tf.config.list_physical_devices(\"CPU\")"
      ],
      "metadata": {
        "colab": {
          "base_uri": "https://localhost:8080/"
        },
        "id": "eftzyy5dmKR-",
        "outputId": "92b82c94-6bcf-439a-cfad-0c4154248b60"
      },
      "execution_count": 4,
      "outputs": [
        {
          "output_type": "execute_result",
          "data": {
            "text/plain": [
              "[PhysicalDevice(name='/physical_device:CPU:0', device_type='CPU')]"
            ]
          },
          "metadata": {},
          "execution_count": 4
        }
      ]
    },
    {
      "cell_type": "code",
      "source": [
        "tf.config.list_physical_devices(\"GPU\")"
      ],
      "metadata": {
        "colab": {
          "base_uri": "https://localhost:8080/"
        },
        "id": "rzaVeon1mPIW",
        "outputId": "da62149f-cc4f-4dd5-ef54-b61a2a49da4f"
      },
      "execution_count": 5,
      "outputs": [
        {
          "output_type": "execute_result",
          "data": {
            "text/plain": [
              "[PhysicalDevice(name='/physical_device:GPU:0', device_type='GPU')]"
            ]
          },
          "metadata": {},
          "execution_count": 5
        }
      ]
    },
    {
      "cell_type": "code",
      "source": [
        "!nvidia-smi"
      ],
      "metadata": {
        "colab": {
          "base_uri": "https://localhost:8080/"
        },
        "id": "bCtCDpAGmWAs",
        "outputId": "adc9b583-ce41-4bee-948c-0b74ca57fc20"
      },
      "execution_count": 7,
      "outputs": [
        {
          "output_type": "stream",
          "name": "stdout",
          "text": [
            "Mon Apr 18 12:15:47 2022       \n",
            "+-----------------------------------------------------------------------------+\n",
            "| NVIDIA-SMI 460.32.03    Driver Version: 460.32.03    CUDA Version: 11.2     |\n",
            "|-------------------------------+----------------------+----------------------+\n",
            "| GPU  Name        Persistence-M| Bus-Id        Disp.A | Volatile Uncorr. ECC |\n",
            "| Fan  Temp  Perf  Pwr:Usage/Cap|         Memory-Usage | GPU-Util  Compute M. |\n",
            "|                               |                      |               MIG M. |\n",
            "|===============================+======================+======================|\n",
            "|   0  Tesla K80           Off  | 00000000:00:04.0 Off |                    0 |\n",
            "| N/A   73C    P8    32W / 149W |      3MiB / 11441MiB |      0%      Default |\n",
            "|                               |                      |                  N/A |\n",
            "+-------------------------------+----------------------+----------------------+\n",
            "                                                                               \n",
            "+-----------------------------------------------------------------------------+\n",
            "| Processes:                                                                  |\n",
            "|  GPU   GI   CI        PID   Type   Process name                  GPU Memory |\n",
            "|        ID   ID                                                   Usage      |\n",
            "|=============================================================================|\n",
            "|  No running processes found                                                 |\n",
            "+-----------------------------------------------------------------------------+\n"
          ]
        }
      ]
    },
    {
      "cell_type": "markdown",
      "source": [
        "🔐**Note:** if you have access to a CUDA-enabled GPU, TensorFlow will automatically use it whenever possible"
      ],
      "metadata": {
        "id": "Rwm1cbXFmnUl"
      }
    }
  ]
}